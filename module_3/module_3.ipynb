{
 "cells": [
  {
   "cell_type": "markdown",
   "metadata": {},
   "source": [
    "![](https://www.pata.org/wp-content/uploads/2014/09/TripAdvisor_Logo-300x119.png)\n",
    "# Predict TripAdvisor Rating\n",
    "## В этом соревновании нам предстоит предсказать рейтинг ресторана в TripAdvisor\n",
    "**По ходу задачи:**\n",
    "* Прокачаем работу с pandas\n",
    "* Научимся работать с Kaggle Notebooks\n",
    "* Поймем как делать предобработку различных данных\n",
    "* Научимся работать с пропущенными данными (Nan)\n",
    "* Познакомимся с различными видами кодирования признаков\n",
    "* Немного попробуем [Feature Engineering](https://ru.wikipedia.org/wiki/Конструирование_признаков) (генерировать новые признаки)\n",
    "* И совсем немного затронем ML\n",
    "* И многое другое...   \n",
    "\n",
    "\n",
    "\n",
    "### И самое важное, все это вы сможете сделать самостоятельно!\n",
    "\n",
    "*Этот Ноутбук являетсся Примером/Шаблоном к этому соревнованию (Baseline) и не служит готовым решением!*   \n",
    "Вы можете использовать его как основу для построения своего решения.\n",
    "\n",
    "> что такое baseline решение, зачем оно нужно и почему предоставлять baseline к соревнованию стало важным стандартом на kaggle и других площадках.   \n",
    "**baseline** создается больше как шаблон, где можно посмотреть как происходит обращение с входящими данными и что нужно получить на выходе. При этом МЛ начинка может быть достаточно простой, просто для примера. Это помогает быстрее приступить к самому МЛ, а не тратить ценное время на чисто инженерные задачи. \n",
    "Также baseline являеться хорошей опорной точкой по метрике. Если твое решение хуже baseline - ты явно делаешь что-то не то и стоит попробовать другой путь) \n",
    "\n",
    "В контексте нашего соревнования baseline идет с небольшими примерами того, что можно делать с данными, и с инструкцией, что делать дальше, чтобы улучшить результат.  Вообще готовым решением это сложно назвать, так как используются всего 2 самых простых признака (а остальные исключаются)."
   ]
  },
  {
   "cell_type": "markdown",
   "metadata": {},
   "source": [
    "# import"
   ]
  },
  {
   "cell_type": "code",
   "execution_count": 1,
   "metadata": {
    "_cell_guid": "b1076dfc-b9ad-4769-8c92-a6c4dae69d19",
    "_uuid": "8f2839f25d086af736a60e9eeb907d3b93b6e0e5"
   },
   "outputs": [
    {
     "name": "stdout",
     "output_type": "stream",
     "text": [
      "/kaggle/input/sf-dst-restaurant-rating/sample_submission.csv\n",
      "/kaggle/input/sf-dst-restaurant-rating/main_task.csv\n",
      "/kaggle/input/sf-dst-restaurant-rating/kaggle_task.csv\n"
     ]
    }
   ],
   "source": [
    "# This Python 3 environment comes with many helpful analytics libraries installed\n",
    "# It is defined by the kaggle/python docker image: https://github.com/kaggle/docker-python\n",
    "# For example, here's several helpful packages to load in \n",
    "\n",
    "import numpy as np # linear algebra\n",
    "import pandas as pd # data processing, CSV file I/O (e.g. pd.read_csv)\n",
    "\n",
    "import matplotlib.pyplot as plt\n",
    "import seaborn as sns \n",
    "%matplotlib inline\n",
    "\n",
    "# Загружаем специальный удобный инструмент для разделения датасета:\n",
    "from sklearn.model_selection import train_test_split\n",
    "\n",
    "# Input data files are available in the \"../input/\" directory.\n",
    "# For example, running this (by clicking run or pressing Shift+Enter) will list all files under the input directory\n",
    "\n",
    "import os\n",
    "for dirname, _, filenames in os.walk('/kaggle/input'):\n",
    "    for filename in filenames:\n",
    "        print(os.path.join(dirname, filename))\n",
    "\n",
    "# Any results you write to the current directory are saved as output."
   ]
  },
  {
   "cell_type": "code",
   "execution_count": 2,
   "metadata": {},
   "outputs": [],
   "source": [
    "# всегда фиксируйте RANDOM_SEED, чтобы ваши эксперименты были воспроизводимы!\n",
    "RANDOM_SEED = 42"
   ]
  },
  {
   "cell_type": "code",
   "execution_count": 3,
   "metadata": {},
   "outputs": [],
   "source": [
    "# зафиксируем версию пакетов, чтобы эксперименты были воспроизводимы:\n",
    "!pip freeze > requirements.txt"
   ]
  },
  {
   "cell_type": "markdown",
   "metadata": {},
   "source": [
    "# DATA"
   ]
  },
  {
   "cell_type": "code",
   "execution_count": 4,
   "metadata": {
    "_cell_guid": "79c7e3d0-c299-4dcb-8224-4455121ee9b0",
    "_uuid": "d629ff2d2480ee46fbb7e2d37f6b5fab8052498a"
   },
   "outputs": [],
   "source": [
    "DATA_DIR = '/kaggle/input/sf-dst-restaurant-rating/'\n",
    "df_train = pd.read_csv(DATA_DIR+'/main_task.csv')\n",
    "df_test = pd.read_csv(DATA_DIR+'kaggle_task.csv')\n",
    "sample_submission = pd.read_csv(DATA_DIR+'/sample_submission.csv')"
   ]
  },
  {
   "cell_type": "code",
   "execution_count": 5,
   "metadata": {},
   "outputs": [
    {
     "name": "stdout",
     "output_type": "stream",
     "text": [
      "<class 'pandas.core.frame.DataFrame'>\n",
      "RangeIndex: 40000 entries, 0 to 39999\n",
      "Data columns (total 10 columns):\n",
      "Restaurant_id        40000 non-null object\n",
      "City                 40000 non-null object\n",
      "Cuisine Style        30717 non-null object\n",
      "Ranking              40000 non-null float64\n",
      "Rating               40000 non-null float64\n",
      "Price Range          26114 non-null object\n",
      "Number of Reviews    37457 non-null float64\n",
      "Reviews              40000 non-null object\n",
      "URL_TA               40000 non-null object\n",
      "ID_TA                40000 non-null object\n",
      "dtypes: float64(3), object(7)\n",
      "memory usage: 3.1+ MB\n"
     ]
    }
   ],
   "source": [
    "df_train.info()"
   ]
  },
  {
   "cell_type": "code",
   "execution_count": 6,
   "metadata": {},
   "outputs": [
    {
     "data": {
      "text/html": [
       "<div>\n",
       "<style scoped>\n",
       "    .dataframe tbody tr th:only-of-type {\n",
       "        vertical-align: middle;\n",
       "    }\n",
       "\n",
       "    .dataframe tbody tr th {\n",
       "        vertical-align: top;\n",
       "    }\n",
       "\n",
       "    .dataframe thead th {\n",
       "        text-align: right;\n",
       "    }\n",
       "</style>\n",
       "<table border=\"1\" class=\"dataframe\">\n",
       "  <thead>\n",
       "    <tr style=\"text-align: right;\">\n",
       "      <th></th>\n",
       "      <th>Restaurant_id</th>\n",
       "      <th>City</th>\n",
       "      <th>Cuisine Style</th>\n",
       "      <th>Ranking</th>\n",
       "      <th>Rating</th>\n",
       "      <th>Price Range</th>\n",
       "      <th>Number of Reviews</th>\n",
       "      <th>Reviews</th>\n",
       "      <th>URL_TA</th>\n",
       "      <th>ID_TA</th>\n",
       "    </tr>\n",
       "  </thead>\n",
       "  <tbody>\n",
       "    <tr>\n",
       "      <th>0</th>\n",
       "      <td>id_5569</td>\n",
       "      <td>Paris</td>\n",
       "      <td>['European', 'French', 'International']</td>\n",
       "      <td>5570.0</td>\n",
       "      <td>3.5</td>\n",
       "      <td>$$ - $$$</td>\n",
       "      <td>194.0</td>\n",
       "      <td>[['Good food at your doorstep', 'A good hotel ...</td>\n",
       "      <td>/Restaurant_Review-g187147-d1912643-Reviews-R_...</td>\n",
       "      <td>d1912643</td>\n",
       "    </tr>\n",
       "    <tr>\n",
       "      <th>1</th>\n",
       "      <td>id_1535</td>\n",
       "      <td>Stockholm</td>\n",
       "      <td>NaN</td>\n",
       "      <td>1537.0</td>\n",
       "      <td>4.0</td>\n",
       "      <td>NaN</td>\n",
       "      <td>10.0</td>\n",
       "      <td>[['Unique cuisine', 'Delicious Nepalese food']...</td>\n",
       "      <td>/Restaurant_Review-g189852-d7992032-Reviews-Bu...</td>\n",
       "      <td>d7992032</td>\n",
       "    </tr>\n",
       "    <tr>\n",
       "      <th>2</th>\n",
       "      <td>id_352</td>\n",
       "      <td>London</td>\n",
       "      <td>['Japanese', 'Sushi', 'Asian', 'Grill', 'Veget...</td>\n",
       "      <td>353.0</td>\n",
       "      <td>4.5</td>\n",
       "      <td>$$$$</td>\n",
       "      <td>688.0</td>\n",
       "      <td>[['Catch up with friends', 'Not exceptional'],...</td>\n",
       "      <td>/Restaurant_Review-g186338-d8632781-Reviews-RO...</td>\n",
       "      <td>d8632781</td>\n",
       "    </tr>\n",
       "    <tr>\n",
       "      <th>3</th>\n",
       "      <td>id_3456</td>\n",
       "      <td>Berlin</td>\n",
       "      <td>NaN</td>\n",
       "      <td>3458.0</td>\n",
       "      <td>5.0</td>\n",
       "      <td>NaN</td>\n",
       "      <td>3.0</td>\n",
       "      <td>[[], []]</td>\n",
       "      <td>/Restaurant_Review-g187323-d1358776-Reviews-Es...</td>\n",
       "      <td>d1358776</td>\n",
       "    </tr>\n",
       "    <tr>\n",
       "      <th>4</th>\n",
       "      <td>id_615</td>\n",
       "      <td>Munich</td>\n",
       "      <td>['German', 'Central European', 'Vegetarian Fri...</td>\n",
       "      <td>621.0</td>\n",
       "      <td>4.0</td>\n",
       "      <td>$$ - $$$</td>\n",
       "      <td>84.0</td>\n",
       "      <td>[['Best place to try a Bavarian food', 'Nice b...</td>\n",
       "      <td>/Restaurant_Review-g187309-d6864963-Reviews-Au...</td>\n",
       "      <td>d6864963</td>\n",
       "    </tr>\n",
       "  </tbody>\n",
       "</table>\n",
       "</div>"
      ],
      "text/plain": [
       "  Restaurant_id       City                                      Cuisine Style  \\\n",
       "0       id_5569      Paris            ['European', 'French', 'International']   \n",
       "1       id_1535  Stockholm                                                NaN   \n",
       "2        id_352     London  ['Japanese', 'Sushi', 'Asian', 'Grill', 'Veget...   \n",
       "3       id_3456     Berlin                                                NaN   \n",
       "4        id_615     Munich  ['German', 'Central European', 'Vegetarian Fri...   \n",
       "\n",
       "   Ranking  Rating Price Range  Number of Reviews  \\\n",
       "0   5570.0     3.5    $$ - $$$              194.0   \n",
       "1   1537.0     4.0         NaN               10.0   \n",
       "2    353.0     4.5        $$$$              688.0   \n",
       "3   3458.0     5.0         NaN                3.0   \n",
       "4    621.0     4.0    $$ - $$$               84.0   \n",
       "\n",
       "                                             Reviews  \\\n",
       "0  [['Good food at your doorstep', 'A good hotel ...   \n",
       "1  [['Unique cuisine', 'Delicious Nepalese food']...   \n",
       "2  [['Catch up with friends', 'Not exceptional'],...   \n",
       "3                                           [[], []]   \n",
       "4  [['Best place to try a Bavarian food', 'Nice b...   \n",
       "\n",
       "                                              URL_TA     ID_TA  \n",
       "0  /Restaurant_Review-g187147-d1912643-Reviews-R_...  d1912643  \n",
       "1  /Restaurant_Review-g189852-d7992032-Reviews-Bu...  d7992032  \n",
       "2  /Restaurant_Review-g186338-d8632781-Reviews-RO...  d8632781  \n",
       "3  /Restaurant_Review-g187323-d1358776-Reviews-Es...  d1358776  \n",
       "4  /Restaurant_Review-g187309-d6864963-Reviews-Au...  d6864963  "
      ]
     },
     "execution_count": 6,
     "metadata": {},
     "output_type": "execute_result"
    }
   ],
   "source": [
    "df_train.head(5)"
   ]
  },
  {
   "cell_type": "code",
   "execution_count": 7,
   "metadata": {},
   "outputs": [
    {
     "name": "stdout",
     "output_type": "stream",
     "text": [
      "<class 'pandas.core.frame.DataFrame'>\n",
      "RangeIndex: 10000 entries, 0 to 9999\n",
      "Data columns (total 9 columns):\n",
      "Restaurant_id        10000 non-null object\n",
      "City                 10000 non-null object\n",
      "Cuisine Style        7693 non-null object\n",
      "Ranking              10000 non-null float64\n",
      "Price Range          6525 non-null object\n",
      "Number of Reviews    9343 non-null float64\n",
      "Reviews              9998 non-null object\n",
      "URL_TA               10000 non-null object\n",
      "ID_TA                10000 non-null object\n",
      "dtypes: float64(2), object(7)\n",
      "memory usage: 703.2+ KB\n"
     ]
    }
   ],
   "source": [
    "df_test.info()"
   ]
  },
  {
   "cell_type": "code",
   "execution_count": 8,
   "metadata": {},
   "outputs": [
    {
     "data": {
      "text/html": [
       "<div>\n",
       "<style scoped>\n",
       "    .dataframe tbody tr th:only-of-type {\n",
       "        vertical-align: middle;\n",
       "    }\n",
       "\n",
       "    .dataframe tbody tr th {\n",
       "        vertical-align: top;\n",
       "    }\n",
       "\n",
       "    .dataframe thead th {\n",
       "        text-align: right;\n",
       "    }\n",
       "</style>\n",
       "<table border=\"1\" class=\"dataframe\">\n",
       "  <thead>\n",
       "    <tr style=\"text-align: right;\">\n",
       "      <th></th>\n",
       "      <th>Restaurant_id</th>\n",
       "      <th>City</th>\n",
       "      <th>Cuisine Style</th>\n",
       "      <th>Ranking</th>\n",
       "      <th>Price Range</th>\n",
       "      <th>Number of Reviews</th>\n",
       "      <th>Reviews</th>\n",
       "      <th>URL_TA</th>\n",
       "      <th>ID_TA</th>\n",
       "    </tr>\n",
       "  </thead>\n",
       "  <tbody>\n",
       "    <tr>\n",
       "      <th>0</th>\n",
       "      <td>id_0</td>\n",
       "      <td>Paris</td>\n",
       "      <td>['Bar', 'Pub']</td>\n",
       "      <td>12963.0</td>\n",
       "      <td>$$ - $$$</td>\n",
       "      <td>4.0</td>\n",
       "      <td>[[], []]</td>\n",
       "      <td>/Restaurant_Review-g187147-d10746918-Reviews-L...</td>\n",
       "      <td>d10746918</td>\n",
       "    </tr>\n",
       "    <tr>\n",
       "      <th>1</th>\n",
       "      <td>id_1</td>\n",
       "      <td>Helsinki</td>\n",
       "      <td>['European', 'Scandinavian', 'Gluten Free Opti...</td>\n",
       "      <td>106.0</td>\n",
       "      <td>$$ - $$$</td>\n",
       "      <td>97.0</td>\n",
       "      <td>[['Very good reviews!', 'Fine dining in Hakani...</td>\n",
       "      <td>/Restaurant_Review-g189934-d6674944-Reviews-Ra...</td>\n",
       "      <td>d6674944</td>\n",
       "    </tr>\n",
       "    <tr>\n",
       "      <th>2</th>\n",
       "      <td>id_2</td>\n",
       "      <td>Edinburgh</td>\n",
       "      <td>['Vegetarian Friendly']</td>\n",
       "      <td>810.0</td>\n",
       "      <td>$$ - $$$</td>\n",
       "      <td>28.0</td>\n",
       "      <td>[['Better than the Links', 'Ivy Black'], ['12/...</td>\n",
       "      <td>/Restaurant_Review-g186525-d13129638-Reviews-B...</td>\n",
       "      <td>d13129638</td>\n",
       "    </tr>\n",
       "    <tr>\n",
       "      <th>3</th>\n",
       "      <td>id_3</td>\n",
       "      <td>London</td>\n",
       "      <td>['Italian', 'Mediterranean', 'European', 'Vege...</td>\n",
       "      <td>1669.0</td>\n",
       "      <td>$$$$</td>\n",
       "      <td>202.0</td>\n",
       "      <td>[['Most exquisite', 'Delicious and authentic']...</td>\n",
       "      <td>/Restaurant_Review-g186338-d680417-Reviews-Qui...</td>\n",
       "      <td>d680417</td>\n",
       "    </tr>\n",
       "    <tr>\n",
       "      <th>4</th>\n",
       "      <td>id_4</td>\n",
       "      <td>Bratislava</td>\n",
       "      <td>['Italian', 'Mediterranean', 'European', 'Seaf...</td>\n",
       "      <td>37.0</td>\n",
       "      <td>$$$$</td>\n",
       "      <td>162.0</td>\n",
       "      <td>[['Always the best in bratislava', 'Very good ...</td>\n",
       "      <td>/Restaurant_Review-g274924-d1112354-Reviews-Ma...</td>\n",
       "      <td>d1112354</td>\n",
       "    </tr>\n",
       "  </tbody>\n",
       "</table>\n",
       "</div>"
      ],
      "text/plain": [
       "  Restaurant_id        City  \\\n",
       "0          id_0       Paris   \n",
       "1          id_1    Helsinki   \n",
       "2          id_2   Edinburgh   \n",
       "3          id_3      London   \n",
       "4          id_4  Bratislava   \n",
       "\n",
       "                                       Cuisine Style  Ranking Price Range  \\\n",
       "0                                     ['Bar', 'Pub']  12963.0    $$ - $$$   \n",
       "1  ['European', 'Scandinavian', 'Gluten Free Opti...    106.0    $$ - $$$   \n",
       "2                            ['Vegetarian Friendly']    810.0    $$ - $$$   \n",
       "3  ['Italian', 'Mediterranean', 'European', 'Vege...   1669.0        $$$$   \n",
       "4  ['Italian', 'Mediterranean', 'European', 'Seaf...     37.0        $$$$   \n",
       "\n",
       "   Number of Reviews                                            Reviews  \\\n",
       "0                4.0                                           [[], []]   \n",
       "1               97.0  [['Very good reviews!', 'Fine dining in Hakani...   \n",
       "2               28.0  [['Better than the Links', 'Ivy Black'], ['12/...   \n",
       "3              202.0  [['Most exquisite', 'Delicious and authentic']...   \n",
       "4              162.0  [['Always the best in bratislava', 'Very good ...   \n",
       "\n",
       "                                              URL_TA      ID_TA  \n",
       "0  /Restaurant_Review-g187147-d10746918-Reviews-L...  d10746918  \n",
       "1  /Restaurant_Review-g189934-d6674944-Reviews-Ra...   d6674944  \n",
       "2  /Restaurant_Review-g186525-d13129638-Reviews-B...  d13129638  \n",
       "3  /Restaurant_Review-g186338-d680417-Reviews-Qui...    d680417  \n",
       "4  /Restaurant_Review-g274924-d1112354-Reviews-Ma...   d1112354  "
      ]
     },
     "execution_count": 8,
     "metadata": {},
     "output_type": "execute_result"
    }
   ],
   "source": [
    "df_test.head(5)"
   ]
  },
  {
   "cell_type": "code",
   "execution_count": 9,
   "metadata": {},
   "outputs": [
    {
     "data": {
      "text/html": [
       "<div>\n",
       "<style scoped>\n",
       "    .dataframe tbody tr th:only-of-type {\n",
       "        vertical-align: middle;\n",
       "    }\n",
       "\n",
       "    .dataframe tbody tr th {\n",
       "        vertical-align: top;\n",
       "    }\n",
       "\n",
       "    .dataframe thead th {\n",
       "        text-align: right;\n",
       "    }\n",
       "</style>\n",
       "<table border=\"1\" class=\"dataframe\">\n",
       "  <thead>\n",
       "    <tr style=\"text-align: right;\">\n",
       "      <th></th>\n",
       "      <th>Restaurant_id</th>\n",
       "      <th>Rating</th>\n",
       "    </tr>\n",
       "  </thead>\n",
       "  <tbody>\n",
       "    <tr>\n",
       "      <th>0</th>\n",
       "      <td>id_0</td>\n",
       "      <td>2.0</td>\n",
       "    </tr>\n",
       "    <tr>\n",
       "      <th>1</th>\n",
       "      <td>id_1</td>\n",
       "      <td>2.5</td>\n",
       "    </tr>\n",
       "    <tr>\n",
       "      <th>2</th>\n",
       "      <td>id_2</td>\n",
       "      <td>4.0</td>\n",
       "    </tr>\n",
       "    <tr>\n",
       "      <th>3</th>\n",
       "      <td>id_3</td>\n",
       "      <td>1.0</td>\n",
       "    </tr>\n",
       "    <tr>\n",
       "      <th>4</th>\n",
       "      <td>id_4</td>\n",
       "      <td>4.0</td>\n",
       "    </tr>\n",
       "  </tbody>\n",
       "</table>\n",
       "</div>"
      ],
      "text/plain": [
       "  Restaurant_id  Rating\n",
       "0          id_0     2.0\n",
       "1          id_1     2.5\n",
       "2          id_2     4.0\n",
       "3          id_3     1.0\n",
       "4          id_4     4.0"
      ]
     },
     "execution_count": 9,
     "metadata": {},
     "output_type": "execute_result"
    }
   ],
   "source": [
    "sample_submission.head(5)"
   ]
  },
  {
   "cell_type": "code",
   "execution_count": 10,
   "metadata": {},
   "outputs": [
    {
     "name": "stdout",
     "output_type": "stream",
     "text": [
      "<class 'pandas.core.frame.DataFrame'>\n",
      "RangeIndex: 10000 entries, 0 to 9999\n",
      "Data columns (total 2 columns):\n",
      "Restaurant_id    10000 non-null object\n",
      "Rating           10000 non-null float64\n",
      "dtypes: float64(1), object(1)\n",
      "memory usage: 156.4+ KB\n"
     ]
    }
   ],
   "source": [
    "sample_submission.info()"
   ]
  },
  {
   "cell_type": "code",
   "execution_count": 11,
   "metadata": {},
   "outputs": [],
   "source": [
    "# ВАЖНО! дря корректной обработки признаков объединяем трейн и тест в один датасет\n",
    "df_train['sample'] = 1 # помечаем где у нас трейн\n",
    "df_test['sample'] = 0 # помечаем где у нас тест\n",
    "df_test['Rating'] = 0 # в тесте у нас нет значения Rating, мы его должны предсказать, по этому пока просто заполняем нулями\n",
    "\n",
    "data = df_test.append(df_train, sort=False).reset_index(drop=True) # объединяем"
   ]
  },
  {
   "cell_type": "code",
   "execution_count": 12,
   "metadata": {},
   "outputs": [
    {
     "name": "stdout",
     "output_type": "stream",
     "text": [
      "<class 'pandas.core.frame.DataFrame'>\n",
      "RangeIndex: 50000 entries, 0 to 49999\n",
      "Data columns (total 11 columns):\n",
      "Restaurant_id        50000 non-null object\n",
      "City                 50000 non-null object\n",
      "Cuisine Style        38410 non-null object\n",
      "Ranking              50000 non-null float64\n",
      "Price Range          32639 non-null object\n",
      "Number of Reviews    46800 non-null float64\n",
      "Reviews              49998 non-null object\n",
      "URL_TA               50000 non-null object\n",
      "ID_TA                50000 non-null object\n",
      "sample               50000 non-null int64\n",
      "Rating               50000 non-null float64\n",
      "dtypes: float64(3), int64(1), object(7)\n",
      "memory usage: 4.2+ MB\n"
     ]
    }
   ],
   "source": [
    "data.info()"
   ]
  },
  {
   "cell_type": "markdown",
   "metadata": {},
   "source": [
    "Подробнее по признакам:\n",
    "* City: Город \n",
    "* Cuisine Style: Кухня\n",
    "* Ranking: Ранг ресторана относительно других ресторанов в этом городе\n",
    "* Price Range: Цены в ресторане в 3 категориях\n",
    "* Number of Reviews: Количество отзывов\n",
    "* Reviews: 2 последних отзыва и даты этих отзывов\n",
    "* URL_TA: страница ресторана на 'www.tripadvisor.com' \n",
    "* ID_TA: ID ресторана в TripAdvisor\n",
    "* Rating: Рейтинг ресторана"
   ]
  },
  {
   "cell_type": "code",
   "execution_count": 13,
   "metadata": {},
   "outputs": [
    {
     "data": {
      "text/html": [
       "<div>\n",
       "<style scoped>\n",
       "    .dataframe tbody tr th:only-of-type {\n",
       "        vertical-align: middle;\n",
       "    }\n",
       "\n",
       "    .dataframe tbody tr th {\n",
       "        vertical-align: top;\n",
       "    }\n",
       "\n",
       "    .dataframe thead th {\n",
       "        text-align: right;\n",
       "    }\n",
       "</style>\n",
       "<table border=\"1\" class=\"dataframe\">\n",
       "  <thead>\n",
       "    <tr style=\"text-align: right;\">\n",
       "      <th></th>\n",
       "      <th>Restaurant_id</th>\n",
       "      <th>City</th>\n",
       "      <th>Cuisine Style</th>\n",
       "      <th>Ranking</th>\n",
       "      <th>Price Range</th>\n",
       "      <th>Number of Reviews</th>\n",
       "      <th>Reviews</th>\n",
       "      <th>URL_TA</th>\n",
       "      <th>ID_TA</th>\n",
       "      <th>sample</th>\n",
       "      <th>Rating</th>\n",
       "    </tr>\n",
       "  </thead>\n",
       "  <tbody>\n",
       "    <tr>\n",
       "      <th>18578</th>\n",
       "      <td>id_10263</td>\n",
       "      <td>London</td>\n",
       "      <td>['Bar', 'Pub', 'British']</td>\n",
       "      <td>10272.0</td>\n",
       "      <td>$$ - $$$</td>\n",
       "      <td>53.0</td>\n",
       "      <td>[['Great pizzas served with a smile', 'simple ...</td>\n",
       "      <td>/Restaurant_Review-g186338-d3613532-Reviews-Re...</td>\n",
       "      <td>d3613532</td>\n",
       "      <td>1</td>\n",
       "      <td>4.0</td>\n",
       "    </tr>\n",
       "    <tr>\n",
       "      <th>44964</th>\n",
       "      <td>id_217</td>\n",
       "      <td>Stockholm</td>\n",
       "      <td>['European', 'Russian', 'Ukrainian', 'Eastern ...</td>\n",
       "      <td>218.0</td>\n",
       "      <td>$$ - $$$</td>\n",
       "      <td>42.0</td>\n",
       "      <td>[['So good!', 'Made with love!'], ['11/05/2017...</td>\n",
       "      <td>/Restaurant_Review-g189852-d12378233-Reviews-G...</td>\n",
       "      <td>d12378233</td>\n",
       "      <td>1</td>\n",
       "      <td>4.5</td>\n",
       "    </tr>\n",
       "    <tr>\n",
       "      <th>13363</th>\n",
       "      <td>id_768</td>\n",
       "      <td>London</td>\n",
       "      <td>['Bar', 'Barbecue', 'British', 'Pub', 'Vegetar...</td>\n",
       "      <td>769.0</td>\n",
       "      <td>$$ - $$$</td>\n",
       "      <td>281.0</td>\n",
       "      <td>[['A new favorite', 'Always worth a visit'], [...</td>\n",
       "      <td>/Restaurant_Review-g186338-d1044772-Reviews-Lo...</td>\n",
       "      <td>d1044772</td>\n",
       "      <td>1</td>\n",
       "      <td>4.5</td>\n",
       "    </tr>\n",
       "    <tr>\n",
       "      <th>49877</th>\n",
       "      <td>id_895</td>\n",
       "      <td>Prague</td>\n",
       "      <td>['Cafe']</td>\n",
       "      <td>896.0</td>\n",
       "      <td>$$ - $$$</td>\n",
       "      <td>21.0</td>\n",
       "      <td>[['Can’t go wrong', 'Great breakfast, cool ven...</td>\n",
       "      <td>/Restaurant_Review-g274707-d10666952-Reviews-P...</td>\n",
       "      <td>d10666952</td>\n",
       "      <td>1</td>\n",
       "      <td>4.5</td>\n",
       "    </tr>\n",
       "    <tr>\n",
       "      <th>21523</th>\n",
       "      <td>id_3516</td>\n",
       "      <td>Prague</td>\n",
       "      <td>['European', 'Czech']</td>\n",
       "      <td>3524.0</td>\n",
       "      <td>NaN</td>\n",
       "      <td>8.0</td>\n",
       "      <td>[[], []]</td>\n",
       "      <td>/Restaurant_Review-g274707-d7124245-Reviews-U_...</td>\n",
       "      <td>d7124245</td>\n",
       "      <td>1</td>\n",
       "      <td>3.5</td>\n",
       "    </tr>\n",
       "  </tbody>\n",
       "</table>\n",
       "</div>"
      ],
      "text/plain": [
       "      Restaurant_id       City  \\\n",
       "18578      id_10263     London   \n",
       "44964        id_217  Stockholm   \n",
       "13363        id_768     London   \n",
       "49877        id_895     Prague   \n",
       "21523       id_3516     Prague   \n",
       "\n",
       "                                           Cuisine Style  Ranking Price Range  \\\n",
       "18578                          ['Bar', 'Pub', 'British']  10272.0    $$ - $$$   \n",
       "44964  ['European', 'Russian', 'Ukrainian', 'Eastern ...    218.0    $$ - $$$   \n",
       "13363  ['Bar', 'Barbecue', 'British', 'Pub', 'Vegetar...    769.0    $$ - $$$   \n",
       "49877                                           ['Cafe']    896.0    $$ - $$$   \n",
       "21523                              ['European', 'Czech']   3524.0         NaN   \n",
       "\n",
       "       Number of Reviews                                            Reviews  \\\n",
       "18578               53.0  [['Great pizzas served with a smile', 'simple ...   \n",
       "44964               42.0  [['So good!', 'Made with love!'], ['11/05/2017...   \n",
       "13363              281.0  [['A new favorite', 'Always worth a visit'], [...   \n",
       "49877               21.0  [['Can’t go wrong', 'Great breakfast, cool ven...   \n",
       "21523                8.0                                           [[], []]   \n",
       "\n",
       "                                                  URL_TA      ID_TA  sample  \\\n",
       "18578  /Restaurant_Review-g186338-d3613532-Reviews-Re...   d3613532       1   \n",
       "44964  /Restaurant_Review-g189852-d12378233-Reviews-G...  d12378233       1   \n",
       "13363  /Restaurant_Review-g186338-d1044772-Reviews-Lo...   d1044772       1   \n",
       "49877  /Restaurant_Review-g274707-d10666952-Reviews-P...  d10666952       1   \n",
       "21523  /Restaurant_Review-g274707-d7124245-Reviews-U_...   d7124245       1   \n",
       "\n",
       "       Rating  \n",
       "18578     4.0  \n",
       "44964     4.5  \n",
       "13363     4.5  \n",
       "49877     4.5  \n",
       "21523     3.5  "
      ]
     },
     "execution_count": 13,
     "metadata": {},
     "output_type": "execute_result"
    }
   ],
   "source": [
    "data.sample(5)"
   ]
  },
  {
   "cell_type": "code",
   "execution_count": 14,
   "metadata": {},
   "outputs": [
    {
     "data": {
      "text/plain": [
       "\"[['Very good reviews!', 'Fine dining in Hakaniemi'], ['12/05/2017', '10/29/2017']]\""
      ]
     },
     "execution_count": 14,
     "metadata": {},
     "output_type": "execute_result"
    }
   ],
   "source": [
    "data.Reviews[1]"
   ]
  },
  {
   "cell_type": "code",
   "execution_count": 15,
   "metadata": {},
   "outputs": [],
   "source": [
    "# добавлю функцию нахождения выбросов\n",
    "def IQR(column):\n",
    "    perc_25 = data[column].quantile(0.25, interpolation=\"midpoint\")\n",
    "    perc_75 = data[column].quantile(0.75, interpolation=\"midpoint\")\n",
    "    IQR = perc_75 - perc_25\n",
    "    print('Q1: {}'.format(perc_25), 'Q3: {}'.format(perc_75), 'IQR: {}'.format(IQR),\n",
    "          'Граница выбросов: [{a},{b}]'.format(a=perc_25 - 1.5*IQR, b=perc_75 + 1.5*IQR), sep='\\n')"
   ]
  },
  {
   "cell_type": "markdown",
   "metadata": {},
   "source": [
    "Как видим, большинство признаков у нас требует очистки и предварительной обработки."
   ]
  },
  {
   "cell_type": "markdown",
   "metadata": {},
   "source": [
    "# Cleaning and Prepping Data\n",
    "Обычно данные содержат в себе кучу мусора, который необходимо почистить, для того чтобы привести их в приемлемый формат. Чистка данных — это необходимый этап решения почти любой реальной задачи.   \n",
    "![](https://analyticsindiamag.com/wp-content/uploads/2018/01/data-cleaning.png)"
   ]
  },
  {
   "cell_type": "markdown",
   "metadata": {},
   "source": [
    "## 1. Обработка NAN \n",
    "У наличия пропусков могут быть разные причины, но пропуски нужно либо заполнить, либо исключить из набора полностью. Но с пропусками нужно быть внимательным, **даже отсутствие информации может быть важным признаком!**   \n",
    "По этому перед обработкой NAN лучше вынести информацию о наличии пропуска как отдельный признак \n",
    "\n",
    "Посмотрим пропуски:"
   ]
  },
  {
   "cell_type": "code",
   "execution_count": 16,
   "metadata": {},
   "outputs": [
    {
     "data": {
      "text/plain": [
       "Restaurant_id            0\n",
       "City                     0\n",
       "Cuisine Style        11590\n",
       "Ranking                  0\n",
       "Price Range          17361\n",
       "Number of Reviews     3200\n",
       "Reviews                  2\n",
       "URL_TA                   0\n",
       "ID_TA                    0\n",
       "sample                   0\n",
       "Rating                   0\n",
       "dtype: int64"
      ]
     },
     "execution_count": 16,
     "metadata": {},
     "output_type": "execute_result"
    }
   ],
   "source": [
    "data.isnull().sum()"
   ]
  },
  {
   "cell_type": "markdown",
   "metadata": {},
   "source": [
    "Пропуски обнаружены в 4х признаках, cuisine_style, price_range, number_of_reviews и reviews.\n",
    "\n",
    "Из за того, что в первых трех признаках(которые с NaN) пропущено много значений, позже пометим эти пропуски в отдельных столбцах."
   ]
  },
  {
   "cell_type": "code",
   "execution_count": 17,
   "metadata": {},
   "outputs": [
    {
     "data": {
      "text/html": [
       "<div>\n",
       "<style scoped>\n",
       "    .dataframe tbody tr th:only-of-type {\n",
       "        vertical-align: middle;\n",
       "    }\n",
       "\n",
       "    .dataframe tbody tr th {\n",
       "        vertical-align: top;\n",
       "    }\n",
       "\n",
       "    .dataframe thead th {\n",
       "        text-align: right;\n",
       "    }\n",
       "</style>\n",
       "<table border=\"1\" class=\"dataframe\">\n",
       "  <thead>\n",
       "    <tr style=\"text-align: right;\">\n",
       "      <th></th>\n",
       "      <th>Restaurant_id</th>\n",
       "      <th>City</th>\n",
       "      <th>Cuisine Style</th>\n",
       "      <th>Ranking</th>\n",
       "      <th>Price Range</th>\n",
       "      <th>Number of Reviews</th>\n",
       "      <th>Reviews</th>\n",
       "      <th>URL_TA</th>\n",
       "      <th>ID_TA</th>\n",
       "      <th>sample</th>\n",
       "      <th>Rating</th>\n",
       "    </tr>\n",
       "  </thead>\n",
       "  <tbody>\n",
       "    <tr>\n",
       "      <th>8168</th>\n",
       "      <td>id_8168</td>\n",
       "      <td>Lisbon</td>\n",
       "      <td>NaN</td>\n",
       "      <td>3389.0</td>\n",
       "      <td>NaN</td>\n",
       "      <td>2.0</td>\n",
       "      <td>NaN</td>\n",
       "      <td>/Restaurant_Review-g189158-d12683988-Reviews-O...</td>\n",
       "      <td>d12683988</td>\n",
       "      <td>0</td>\n",
       "      <td>0.0</td>\n",
       "    </tr>\n",
       "    <tr>\n",
       "      <th>9608</th>\n",
       "      <td>id_9608</td>\n",
       "      <td>Vienna</td>\n",
       "      <td>NaN</td>\n",
       "      <td>1779.0</td>\n",
       "      <td>NaN</td>\n",
       "      <td>NaN</td>\n",
       "      <td>NaN</td>\n",
       "      <td>/Restaurant_Review-g190454-d12605368-Reviews-R...</td>\n",
       "      <td>d12605368</td>\n",
       "      <td>0</td>\n",
       "      <td>0.0</td>\n",
       "    </tr>\n",
       "  </tbody>\n",
       "</table>\n",
       "</div>"
      ],
      "text/plain": [
       "     Restaurant_id    City Cuisine Style  Ranking Price Range  \\\n",
       "8168       id_8168  Lisbon           NaN   3389.0         NaN   \n",
       "9608       id_9608  Vienna           NaN   1779.0         NaN   \n",
       "\n",
       "      Number of Reviews Reviews  \\\n",
       "8168                2.0     NaN   \n",
       "9608                NaN     NaN   \n",
       "\n",
       "                                                 URL_TA      ID_TA  sample  \\\n",
       "8168  /Restaurant_Review-g189158-d12683988-Reviews-O...  d12683988       0   \n",
       "9608  /Restaurant_Review-g190454-d12605368-Reviews-R...  d12605368       0   \n",
       "\n",
       "      Rating  \n",
       "8168     0.0  \n",
       "9608     0.0  "
      ]
     },
     "execution_count": 17,
     "metadata": {},
     "output_type": "execute_result"
    }
   ],
   "source": [
    "data[data.Reviews.isnull()] # в reviews два пропуска, колонку с пометкой Nan создавать не буду, два пропуска не повлияют на конечный результат."
   ]
  },
  {
   "cell_type": "code",
   "execution_count": 18,
   "metadata": {},
   "outputs": [
    {
     "data": {
      "text/html": [
       "<div>\n",
       "<style scoped>\n",
       "    .dataframe tbody tr th:only-of-type {\n",
       "        vertical-align: middle;\n",
       "    }\n",
       "\n",
       "    .dataframe tbody tr th {\n",
       "        vertical-align: top;\n",
       "    }\n",
       "\n",
       "    .dataframe thead th {\n",
       "        text-align: right;\n",
       "    }\n",
       "</style>\n",
       "<table border=\"1\" class=\"dataframe\">\n",
       "  <thead>\n",
       "    <tr style=\"text-align: right;\">\n",
       "      <th></th>\n",
       "      <th>Restaurant_id</th>\n",
       "      <th>City</th>\n",
       "      <th>Cuisine Style</th>\n",
       "      <th>Ranking</th>\n",
       "      <th>Price Range</th>\n",
       "      <th>Number of Reviews</th>\n",
       "      <th>Reviews</th>\n",
       "      <th>URL_TA</th>\n",
       "      <th>ID_TA</th>\n",
       "      <th>sample</th>\n",
       "      <th>Rating</th>\n",
       "    </tr>\n",
       "  </thead>\n",
       "  <tbody>\n",
       "    <tr>\n",
       "      <th>22028</th>\n",
       "      <td>id_1177</td>\n",
       "      <td>Milan</td>\n",
       "      <td>['Italian', 'Mediterranean', 'International', ...</td>\n",
       "      <td>1179.0</td>\n",
       "      <td>$$ - $$$</td>\n",
       "      <td>288.0</td>\n",
       "      <td>[['Great traditional location', 'Very good foo...</td>\n",
       "      <td>/Restaurant_Review-g187849-d1088975-Reviews-Vi...</td>\n",
       "      <td>d1088975</td>\n",
       "      <td>1</td>\n",
       "      <td>4.0</td>\n",
       "    </tr>\n",
       "    <tr>\n",
       "      <th>19426</th>\n",
       "      <td>id_1725</td>\n",
       "      <td>London</td>\n",
       "      <td>['Indian', 'Healthy', 'Vegetarian Friendly', '...</td>\n",
       "      <td>1728.0</td>\n",
       "      <td>$$ - $$$</td>\n",
       "      <td>439.0</td>\n",
       "      <td>[['Trying out for the family', 'Very flavourfu...</td>\n",
       "      <td>/Restaurant_Review-g186338-d1557896-Reviews-Ma...</td>\n",
       "      <td>d1557896</td>\n",
       "      <td>1</td>\n",
       "      <td>4.0</td>\n",
       "    </tr>\n",
       "    <tr>\n",
       "      <th>41136</th>\n",
       "      <td>id_1115</td>\n",
       "      <td>Helsinki</td>\n",
       "      <td>NaN</td>\n",
       "      <td>1116.0</td>\n",
       "      <td>NaN</td>\n",
       "      <td>6.0</td>\n",
       "      <td>[['Just for fun', 'Worst place'], ['02/01/2017...</td>\n",
       "      <td>/Restaurant_Review-g189934-d1138962-Reviews-St...</td>\n",
       "      <td>d1138962</td>\n",
       "      <td>1</td>\n",
       "      <td>2.5</td>\n",
       "    </tr>\n",
       "    <tr>\n",
       "      <th>49270</th>\n",
       "      <td>id_1988</td>\n",
       "      <td>Prague</td>\n",
       "      <td>['American']</td>\n",
       "      <td>1991.0</td>\n",
       "      <td>NaN</td>\n",
       "      <td>NaN</td>\n",
       "      <td>[[], []]</td>\n",
       "      <td>/Restaurant_Review-g274707-d4768148-Reviews-KF...</td>\n",
       "      <td>d4768148</td>\n",
       "      <td>1</td>\n",
       "      <td>5.0</td>\n",
       "    </tr>\n",
       "    <tr>\n",
       "      <th>35866</th>\n",
       "      <td>id_1688</td>\n",
       "      <td>Amsterdam</td>\n",
       "      <td>['Italian', 'Mediterranean', 'Pizza']</td>\n",
       "      <td>1693.0</td>\n",
       "      <td>$$ - $$$</td>\n",
       "      <td>22.0</td>\n",
       "      <td>[['Small Italia in Amsterdam', 'Dinner'], ['02...</td>\n",
       "      <td>/Restaurant_Review-g188590-d4353700-Reviews-Tr...</td>\n",
       "      <td>d4353700</td>\n",
       "      <td>1</td>\n",
       "      <td>4.5</td>\n",
       "    </tr>\n",
       "  </tbody>\n",
       "</table>\n",
       "</div>"
      ],
      "text/plain": [
       "      Restaurant_id       City  \\\n",
       "22028       id_1177      Milan   \n",
       "19426       id_1725     London   \n",
       "41136       id_1115   Helsinki   \n",
       "49270       id_1988     Prague   \n",
       "35866       id_1688  Amsterdam   \n",
       "\n",
       "                                           Cuisine Style  Ranking Price Range  \\\n",
       "22028  ['Italian', 'Mediterranean', 'International', ...   1179.0    $$ - $$$   \n",
       "19426  ['Indian', 'Healthy', 'Vegetarian Friendly', '...   1728.0    $$ - $$$   \n",
       "41136                                                NaN   1116.0         NaN   \n",
       "49270                                       ['American']   1991.0         NaN   \n",
       "35866              ['Italian', 'Mediterranean', 'Pizza']   1693.0    $$ - $$$   \n",
       "\n",
       "       Number of Reviews                                            Reviews  \\\n",
       "22028              288.0  [['Great traditional location', 'Very good foo...   \n",
       "19426              439.0  [['Trying out for the family', 'Very flavourfu...   \n",
       "41136                6.0  [['Just for fun', 'Worst place'], ['02/01/2017...   \n",
       "49270                NaN                                           [[], []]   \n",
       "35866               22.0  [['Small Italia in Amsterdam', 'Dinner'], ['02...   \n",
       "\n",
       "                                                  URL_TA     ID_TA  sample  \\\n",
       "22028  /Restaurant_Review-g187849-d1088975-Reviews-Vi...  d1088975       1   \n",
       "19426  /Restaurant_Review-g186338-d1557896-Reviews-Ma...  d1557896       1   \n",
       "41136  /Restaurant_Review-g189934-d1138962-Reviews-St...  d1138962       1   \n",
       "49270  /Restaurant_Review-g274707-d4768148-Reviews-KF...  d4768148       1   \n",
       "35866  /Restaurant_Review-g188590-d4353700-Reviews-Tr...  d4353700       1   \n",
       "\n",
       "       Rating  \n",
       "22028     4.0  \n",
       "19426     4.0  \n",
       "41136     2.5  \n",
       "49270     5.0  \n",
       "35866     4.5  "
      ]
     },
     "execution_count": 18,
     "metadata": {},
     "output_type": "execute_result"
    }
   ],
   "source": [
    "data.sample(5)"
   ]
  },
  {
   "cell_type": "markdown",
   "metadata": {},
   "source": [
    "### Restaurant_id"
   ]
  },
  {
   "cell_type": "code",
   "execution_count": 19,
   "metadata": {},
   "outputs": [],
   "source": [
    "# значения из этой колонки похожи на значения из колонки ranking, можно сделать этот признак числовым и посмотреть корреляцию\n",
    "data.Restaurant_id = data.Restaurant_id.apply(lambda x: float(x[3:])) # убираю лишние символы в начале строки и изменяю тип данных на float"
   ]
  },
  {
   "cell_type": "code",
   "execution_count": 20,
   "metadata": {},
   "outputs": [
    {
     "data": {
      "text/html": [
       "<div>\n",
       "<style scoped>\n",
       "    .dataframe tbody tr th:only-of-type {\n",
       "        vertical-align: middle;\n",
       "    }\n",
       "\n",
       "    .dataframe tbody tr th {\n",
       "        vertical-align: top;\n",
       "    }\n",
       "\n",
       "    .dataframe thead th {\n",
       "        text-align: right;\n",
       "    }\n",
       "</style>\n",
       "<table border=\"1\" class=\"dataframe\">\n",
       "  <thead>\n",
       "    <tr style=\"text-align: right;\">\n",
       "      <th></th>\n",
       "      <th>Restaurant_id</th>\n",
       "      <th>Ranking</th>\n",
       "    </tr>\n",
       "  </thead>\n",
       "  <tbody>\n",
       "    <tr>\n",
       "      <th>Restaurant_id</th>\n",
       "      <td>1.00000</td>\n",
       "      <td>0.82509</td>\n",
       "    </tr>\n",
       "    <tr>\n",
       "      <th>Ranking</th>\n",
       "      <td>0.82509</td>\n",
       "      <td>1.00000</td>\n",
       "    </tr>\n",
       "  </tbody>\n",
       "</table>\n",
       "</div>"
      ],
      "text/plain": [
       "               Restaurant_id  Ranking\n",
       "Restaurant_id        1.00000  0.82509\n",
       "Ranking              0.82509  1.00000"
      ]
     },
     "execution_count": 20,
     "metadata": {},
     "output_type": "execute_result"
    }
   ],
   "source": [
    "data[['Restaurant_id', 'Ranking']].corr()"
   ]
  },
  {
   "cell_type": "markdown",
   "metadata": {},
   "source": [
    "Достаточно  большая корреляция, возможно первый признак можно будет удалить"
   ]
  },
  {
   "cell_type": "markdown",
   "metadata": {},
   "source": [
    "### City"
   ]
  },
  {
   "cell_type": "code",
   "execution_count": 21,
   "metadata": {},
   "outputs": [
    {
     "data": {
      "text/plain": [
       "count      50000\n",
       "unique        31\n",
       "top       London\n",
       "freq        7193\n",
       "Name: City, dtype: object"
      ]
     },
     "execution_count": 21,
     "metadata": {},
     "output_type": "execute_result"
    }
   ],
   "source": [
    "data.City.describe()"
   ]
  },
  {
   "cell_type": "code",
   "execution_count": 22,
   "metadata": {},
   "outputs": [
    {
     "data": {
      "text/plain": [
       "London        7193\n",
       "Paris         6108\n",
       "Madrid        3813\n",
       "Barcelona     3395\n",
       "Berlin        2705\n",
       "Milan         2694\n",
       "Rome          2589\n",
       "Prague        1816\n",
       "Lisbon        1647\n",
       "Vienna        1443\n",
       "Amsterdam     1372\n",
       "Brussels      1314\n",
       "Hamburg       1186\n",
       "Munich        1145\n",
       "Lyon          1126\n",
       "Stockholm     1033\n",
       "Budapest      1021\n",
       "Warsaw         925\n",
       "Dublin         836\n",
       "Copenhagen     819\n",
       "Athens         776\n",
       "Edinburgh      745\n",
       "Zurich         685\n",
       "Oporto         642\n",
       "Geneva         590\n",
       "Krakow         554\n",
       "Oslo           488\n",
       "Helsinki       475\n",
       "Bratislava     380\n",
       "Luxembourg     263\n",
       "Ljubljana      222\n",
       "Name: City, dtype: int64"
      ]
     },
     "execution_count": 22,
     "metadata": {},
     "output_type": "execute_result"
    }
   ],
   "source": [
    "data.City.value_counts() # категориальный признак, пропусков нет"
   ]
  },
  {
   "cell_type": "markdown",
   "metadata": {},
   "source": [
    "добавлю признак - число ресторанов в городе"
   ]
  },
  {
   "cell_type": "code",
   "execution_count": 23,
   "metadata": {},
   "outputs": [],
   "source": [
    "rest_per_city = data.groupby('City')['Ranking'].count().to_dict()\n",
    "data['rest_per_city'] = data.City.map(rest_per_city)"
   ]
  },
  {
   "cell_type": "code",
   "execution_count": 24,
   "metadata": {},
   "outputs": [],
   "source": [
    "# по подсказке из описания, добавлю признак количества жителей в городах из Википедии\n",
    "\n",
    "\n",
    "popul = {\n",
    "    'London' : 8909081,\n",
    "    'Paris' : 2148271,\n",
    "    'Madrid' : 3223334,\n",
    "    'Barcelona' : 1620343,\n",
    "    'Berlin' : 3769495,\n",
    "    'Milan' : 1399860,\n",
    "    'Rome' : 2860009,\n",
    "    'Prague' : 1324277,\n",
    "    'Lisbon' : 505526,\n",
    "    'Vienna' : 2600000,\n",
    "    'Amsterdam' : 872680,\n",
    "    'Brussels' : 1208542,\n",
    "    'Hamburg' : 1845229,\n",
    "    'Munich' : 1484226,\n",
    "    'Lyon' : 516092,\n",
    "    'Stockholm' : 975904,\n",
    "    'Budapest' : 1752286,\n",
    "    'Warsaw' : 1793579,\n",
    "    'Dublin' : 554554,\n",
    "    'Copenhagen' : 794128,\n",
    "    'Athens' : 664046,\n",
    "    'Edinburgh' : 488050, \n",
    "    'Zurich' : 415215,\n",
    "    'Oporto' : 287591,\n",
    "    'Geneva' : 201818, \n",
    "    'Krakow' : 779115, \n",
    "    'Oslo' : 697549, \n",
    "    'Helsinki' : 656229,\n",
    "    'Bratislava' : 437726,\n",
    "    'Luxembourg' : 626108,\n",
    "    'Ljubljana' : 295504\n",
    "}\n",
    "\n",
    "data['popul'] = data.City.map(popul)"
   ]
  },
  {
   "cell_type": "code",
   "execution_count": 25,
   "metadata": {},
   "outputs": [],
   "source": [
    "# добавлю новый признак - отношение количества населения в городе к количеству ресторанов в городе\n",
    "data['people_per_rest'] = data.popul / data.rest_per_city"
   ]
  },
  {
   "cell_type": "code",
   "execution_count": 26,
   "metadata": {},
   "outputs": [],
   "source": [
    "# по подсказке из описания, добавлю признак качества жизни города\n",
    "# (https://www.numbeo.com/quality-of-life/region_rankings.jsp?title=2018&region=150)\n",
    "\n",
    "quality_index_city = {\n",
    "    'London' : 124.80,\n",
    "    'Paris' : 128.54,\n",
    "    'Madrid' : 156.69,\n",
    "    'Barcelona' : 135.19,\n",
    "    'Berlin' : 172.32,\n",
    "    'Milan' : 126.10,\n",
    "    'Rome' : 109.84,\n",
    "    'Prague' : 160.31,\n",
    "    'Lisbon' : 155.28,\n",
    "    'Vienna' : 188.60,\n",
    "    'Amsterdam' : 179.20,\n",
    "    'Brussels' : 151.72,\n",
    "    'Hamburg' : 176.03,\n",
    "    'Munich' : 194.65,\n",
    "    'Lyon' : 159.83,\n",
    "    'Stockholm' : 164.16,\n",
    "    'Budapest' : 125.49,\n",
    "    'Warsaw' : 143.52,\n",
    "    'Dublin' : 147.02,\n",
    "    'Copenhagen' : 192.90,\n",
    "    'Athens' : 120.62,\n",
    "    'Edinburgh' : 194.28, \n",
    "    'Zurich' : 202.37,\n",
    "    'Oporto' : 159.83,\n",
    "    'Geneva' : 189.65, \n",
    "    'Krakow' : 132.39, \n",
    "    'Oslo' : 159.41, \n",
    "    'Helsinki' : 186.75,\n",
    "    'Bratislava' : 154.15,\n",
    "    'Luxembourg' : 195.15,\n",
    "    'Ljubljana' : 168.19\n",
    "}\n",
    "\n",
    "data['quality_index_city'] = data.City.map(quality_index_city)"
   ]
  },
  {
   "cell_type": "code",
   "execution_count": 27,
   "metadata": {},
   "outputs": [],
   "source": [
    "# по подсказке из описания, дабавлю признак - индекс покупательской способности\n",
    "# (https://www.numbeo.com/quality-of-life/region_rankings.jsp?title=2018&region=150)\n",
    "\n",
    "purchasing_power_index = {\n",
    "    'London' : 24,\n",
    "    'Paris' : 22,\n",
    "    'Madrid' : 23,\n",
    "    'Barcelona' : 30,\n",
    "    'Berlin' : 8,\n",
    "    'Milan' : 40,\n",
    "    'Rome' : 37,\n",
    "    'Prague' : 31,\n",
    "    'Lisbon' : 48,\n",
    "    'Vienna' : 21,\n",
    "    'Amsterdam' : 19,\n",
    "    'Brussels' : 15,\n",
    "    'Hamburg' : 7,\n",
    "    'Munich' : 6,\n",
    "    'Lyon' : 70,\n",
    "    'Stockholm' : 13,\n",
    "    'Budapest' : 51,\n",
    "    'Warsaw' : 29,\n",
    "    'Dublin' : 27,\n",
    "    'Copenhagen' : 10,\n",
    "    'Athens' : 53,\n",
    "    'Edinburgh' : 16, \n",
    "    'Zurich' : 2,\n",
    "    'Oporto' : 42,\n",
    "    'Geneva' : 3, \n",
    "    'Krakow' : 36, \n",
    "    'Oslo' : 17, \n",
    "    'Helsinki' : 9,\n",
    "    'Bratislava' : 39,\n",
    "    'Luxembourg' : 4,\n",
    "    'Ljubljana' : 32\n",
    "}\n",
    "\n",
    "data['purchasing_power'] = data.City.map(purchasing_power_index)"
   ]
  },
  {
   "cell_type": "code",
   "execution_count": 28,
   "metadata": {},
   "outputs": [
    {
     "data": {
      "text/html": [
       "<div>\n",
       "<style scoped>\n",
       "    .dataframe tbody tr th:only-of-type {\n",
       "        vertical-align: middle;\n",
       "    }\n",
       "\n",
       "    .dataframe tbody tr th {\n",
       "        vertical-align: top;\n",
       "    }\n",
       "\n",
       "    .dataframe thead th {\n",
       "        text-align: right;\n",
       "    }\n",
       "</style>\n",
       "<table border=\"1\" class=\"dataframe\">\n",
       "  <thead>\n",
       "    <tr style=\"text-align: right;\">\n",
       "      <th></th>\n",
       "      <th>Restaurant_id</th>\n",
       "      <th>City</th>\n",
       "      <th>Cuisine Style</th>\n",
       "      <th>Ranking</th>\n",
       "      <th>Price Range</th>\n",
       "      <th>Number of Reviews</th>\n",
       "      <th>Reviews</th>\n",
       "      <th>URL_TA</th>\n",
       "      <th>ID_TA</th>\n",
       "      <th>sample</th>\n",
       "      <th>Rating</th>\n",
       "      <th>rest_per_city</th>\n",
       "      <th>popul</th>\n",
       "      <th>people_per_rest</th>\n",
       "      <th>quality_index_city</th>\n",
       "      <th>purchasing_power</th>\n",
       "    </tr>\n",
       "  </thead>\n",
       "  <tbody>\n",
       "    <tr>\n",
       "      <th>0</th>\n",
       "      <td>0.0</td>\n",
       "      <td>Paris</td>\n",
       "      <td>['Bar', 'Pub']</td>\n",
       "      <td>12963.0</td>\n",
       "      <td>$$ - $$$</td>\n",
       "      <td>4.0</td>\n",
       "      <td>[[], []]</td>\n",
       "      <td>/Restaurant_Review-g187147-d10746918-Reviews-L...</td>\n",
       "      <td>d10746918</td>\n",
       "      <td>0</td>\n",
       "      <td>0.0</td>\n",
       "      <td>6108</td>\n",
       "      <td>2148271</td>\n",
       "      <td>351.714309</td>\n",
       "      <td>128.54</td>\n",
       "      <td>22</td>\n",
       "    </tr>\n",
       "    <tr>\n",
       "      <th>1</th>\n",
       "      <td>1.0</td>\n",
       "      <td>Helsinki</td>\n",
       "      <td>['European', 'Scandinavian', 'Gluten Free Opti...</td>\n",
       "      <td>106.0</td>\n",
       "      <td>$$ - $$$</td>\n",
       "      <td>97.0</td>\n",
       "      <td>[['Very good reviews!', 'Fine dining in Hakani...</td>\n",
       "      <td>/Restaurant_Review-g189934-d6674944-Reviews-Ra...</td>\n",
       "      <td>d6674944</td>\n",
       "      <td>0</td>\n",
       "      <td>0.0</td>\n",
       "      <td>475</td>\n",
       "      <td>656229</td>\n",
       "      <td>1381.534737</td>\n",
       "      <td>186.75</td>\n",
       "      <td>9</td>\n",
       "    </tr>\n",
       "    <tr>\n",
       "      <th>2</th>\n",
       "      <td>2.0</td>\n",
       "      <td>Edinburgh</td>\n",
       "      <td>['Vegetarian Friendly']</td>\n",
       "      <td>810.0</td>\n",
       "      <td>$$ - $$$</td>\n",
       "      <td>28.0</td>\n",
       "      <td>[['Better than the Links', 'Ivy Black'], ['12/...</td>\n",
       "      <td>/Restaurant_Review-g186525-d13129638-Reviews-B...</td>\n",
       "      <td>d13129638</td>\n",
       "      <td>0</td>\n",
       "      <td>0.0</td>\n",
       "      <td>745</td>\n",
       "      <td>488050</td>\n",
       "      <td>655.100671</td>\n",
       "      <td>194.28</td>\n",
       "      <td>16</td>\n",
       "    </tr>\n",
       "    <tr>\n",
       "      <th>3</th>\n",
       "      <td>3.0</td>\n",
       "      <td>London</td>\n",
       "      <td>['Italian', 'Mediterranean', 'European', 'Vege...</td>\n",
       "      <td>1669.0</td>\n",
       "      <td>$$$$</td>\n",
       "      <td>202.0</td>\n",
       "      <td>[['Most exquisite', 'Delicious and authentic']...</td>\n",
       "      <td>/Restaurant_Review-g186338-d680417-Reviews-Qui...</td>\n",
       "      <td>d680417</td>\n",
       "      <td>0</td>\n",
       "      <td>0.0</td>\n",
       "      <td>7193</td>\n",
       "      <td>8909081</td>\n",
       "      <td>1238.576533</td>\n",
       "      <td>124.80</td>\n",
       "      <td>24</td>\n",
       "    </tr>\n",
       "    <tr>\n",
       "      <th>4</th>\n",
       "      <td>4.0</td>\n",
       "      <td>Bratislava</td>\n",
       "      <td>['Italian', 'Mediterranean', 'European', 'Seaf...</td>\n",
       "      <td>37.0</td>\n",
       "      <td>$$$$</td>\n",
       "      <td>162.0</td>\n",
       "      <td>[['Always the best in bratislava', 'Very good ...</td>\n",
       "      <td>/Restaurant_Review-g274924-d1112354-Reviews-Ma...</td>\n",
       "      <td>d1112354</td>\n",
       "      <td>0</td>\n",
       "      <td>0.0</td>\n",
       "      <td>380</td>\n",
       "      <td>437726</td>\n",
       "      <td>1151.910526</td>\n",
       "      <td>154.15</td>\n",
       "      <td>39</td>\n",
       "    </tr>\n",
       "    <tr>\n",
       "      <th>...</th>\n",
       "      <td>...</td>\n",
       "      <td>...</td>\n",
       "      <td>...</td>\n",
       "      <td>...</td>\n",
       "      <td>...</td>\n",
       "      <td>...</td>\n",
       "      <td>...</td>\n",
       "      <td>...</td>\n",
       "      <td>...</td>\n",
       "      <td>...</td>\n",
       "      <td>...</td>\n",
       "      <td>...</td>\n",
       "      <td>...</td>\n",
       "      <td>...</td>\n",
       "      <td>...</td>\n",
       "      <td>...</td>\n",
       "    </tr>\n",
       "    <tr>\n",
       "      <th>49995</th>\n",
       "      <td>499.0</td>\n",
       "      <td>Milan</td>\n",
       "      <td>['Italian', 'Vegetarian Friendly', 'Vegan Opti...</td>\n",
       "      <td>500.0</td>\n",
       "      <td>$$ - $$$</td>\n",
       "      <td>79.0</td>\n",
       "      <td>[['The real Italian experience!', 'Wonderful f...</td>\n",
       "      <td>/Restaurant_Review-g187849-d2104414-Reviews-Ro...</td>\n",
       "      <td>d2104414</td>\n",
       "      <td>1</td>\n",
       "      <td>4.5</td>\n",
       "      <td>2694</td>\n",
       "      <td>1399860</td>\n",
       "      <td>519.621381</td>\n",
       "      <td>126.10</td>\n",
       "      <td>40</td>\n",
       "    </tr>\n",
       "    <tr>\n",
       "      <th>49996</th>\n",
       "      <td>6340.0</td>\n",
       "      <td>Paris</td>\n",
       "      <td>['French', 'American', 'Bar', 'European', 'Veg...</td>\n",
       "      <td>6341.0</td>\n",
       "      <td>$$ - $$$</td>\n",
       "      <td>542.0</td>\n",
       "      <td>[['Parisian atmosphere', 'Bit pricey but inter...</td>\n",
       "      <td>/Restaurant_Review-g187147-d1800036-Reviews-La...</td>\n",
       "      <td>d1800036</td>\n",
       "      <td>1</td>\n",
       "      <td>3.5</td>\n",
       "      <td>6108</td>\n",
       "      <td>2148271</td>\n",
       "      <td>351.714309</td>\n",
       "      <td>128.54</td>\n",
       "      <td>22</td>\n",
       "    </tr>\n",
       "    <tr>\n",
       "      <th>49997</th>\n",
       "      <td>1649.0</td>\n",
       "      <td>Stockholm</td>\n",
       "      <td>['Japanese', 'Sushi']</td>\n",
       "      <td>1652.0</td>\n",
       "      <td>NaN</td>\n",
       "      <td>4.0</td>\n",
       "      <td>[['Good by swedish standards', 'A hidden jewel...</td>\n",
       "      <td>/Restaurant_Review-g189852-d947615-Reviews-Sus...</td>\n",
       "      <td>d947615</td>\n",
       "      <td>1</td>\n",
       "      <td>4.5</td>\n",
       "      <td>1033</td>\n",
       "      <td>975904</td>\n",
       "      <td>944.727977</td>\n",
       "      <td>164.16</td>\n",
       "      <td>13</td>\n",
       "    </tr>\n",
       "    <tr>\n",
       "      <th>49998</th>\n",
       "      <td>640.0</td>\n",
       "      <td>Warsaw</td>\n",
       "      <td>['Polish', 'European', 'Eastern European', 'Ce...</td>\n",
       "      <td>641.0</td>\n",
       "      <td>$$ - $$$</td>\n",
       "      <td>70.0</td>\n",
       "      <td>[['Underground restaurant', 'Oldest Restaurant...</td>\n",
       "      <td>/Restaurant_Review-g274856-d1100838-Reviews-Ho...</td>\n",
       "      <td>d1100838</td>\n",
       "      <td>1</td>\n",
       "      <td>4.0</td>\n",
       "      <td>925</td>\n",
       "      <td>1793579</td>\n",
       "      <td>1939.004324</td>\n",
       "      <td>143.52</td>\n",
       "      <td>29</td>\n",
       "    </tr>\n",
       "    <tr>\n",
       "      <th>49999</th>\n",
       "      <td>4824.0</td>\n",
       "      <td>Milan</td>\n",
       "      <td>['Spanish']</td>\n",
       "      <td>4827.0</td>\n",
       "      <td>$$ - $$$</td>\n",
       "      <td>260.0</td>\n",
       "      <td>[['Average', 'Nice an informal'], ['01/31/2016...</td>\n",
       "      <td>/Restaurant_Review-g187849-d1109020-Reviews-Ta...</td>\n",
       "      <td>d1109020</td>\n",
       "      <td>1</td>\n",
       "      <td>3.0</td>\n",
       "      <td>2694</td>\n",
       "      <td>1399860</td>\n",
       "      <td>519.621381</td>\n",
       "      <td>126.10</td>\n",
       "      <td>40</td>\n",
       "    </tr>\n",
       "  </tbody>\n",
       "</table>\n",
       "<p>50000 rows × 16 columns</p>\n",
       "</div>"
      ],
      "text/plain": [
       "       Restaurant_id        City  \\\n",
       "0                0.0       Paris   \n",
       "1                1.0    Helsinki   \n",
       "2                2.0   Edinburgh   \n",
       "3                3.0      London   \n",
       "4                4.0  Bratislava   \n",
       "...              ...         ...   \n",
       "49995          499.0       Milan   \n",
       "49996         6340.0       Paris   \n",
       "49997         1649.0   Stockholm   \n",
       "49998          640.0      Warsaw   \n",
       "49999         4824.0       Milan   \n",
       "\n",
       "                                           Cuisine Style  Ranking Price Range  \\\n",
       "0                                         ['Bar', 'Pub']  12963.0    $$ - $$$   \n",
       "1      ['European', 'Scandinavian', 'Gluten Free Opti...    106.0    $$ - $$$   \n",
       "2                                ['Vegetarian Friendly']    810.0    $$ - $$$   \n",
       "3      ['Italian', 'Mediterranean', 'European', 'Vege...   1669.0        $$$$   \n",
       "4      ['Italian', 'Mediterranean', 'European', 'Seaf...     37.0        $$$$   \n",
       "...                                                  ...      ...         ...   \n",
       "49995  ['Italian', 'Vegetarian Friendly', 'Vegan Opti...    500.0    $$ - $$$   \n",
       "49996  ['French', 'American', 'Bar', 'European', 'Veg...   6341.0    $$ - $$$   \n",
       "49997                              ['Japanese', 'Sushi']   1652.0         NaN   \n",
       "49998  ['Polish', 'European', 'Eastern European', 'Ce...    641.0    $$ - $$$   \n",
       "49999                                        ['Spanish']   4827.0    $$ - $$$   \n",
       "\n",
       "       Number of Reviews                                            Reviews  \\\n",
       "0                    4.0                                           [[], []]   \n",
       "1                   97.0  [['Very good reviews!', 'Fine dining in Hakani...   \n",
       "2                   28.0  [['Better than the Links', 'Ivy Black'], ['12/...   \n",
       "3                  202.0  [['Most exquisite', 'Delicious and authentic']...   \n",
       "4                  162.0  [['Always the best in bratislava', 'Very good ...   \n",
       "...                  ...                                                ...   \n",
       "49995               79.0  [['The real Italian experience!', 'Wonderful f...   \n",
       "49996              542.0  [['Parisian atmosphere', 'Bit pricey but inter...   \n",
       "49997                4.0  [['Good by swedish standards', 'A hidden jewel...   \n",
       "49998               70.0  [['Underground restaurant', 'Oldest Restaurant...   \n",
       "49999              260.0  [['Average', 'Nice an informal'], ['01/31/2016...   \n",
       "\n",
       "                                                  URL_TA      ID_TA  sample  \\\n",
       "0      /Restaurant_Review-g187147-d10746918-Reviews-L...  d10746918       0   \n",
       "1      /Restaurant_Review-g189934-d6674944-Reviews-Ra...   d6674944       0   \n",
       "2      /Restaurant_Review-g186525-d13129638-Reviews-B...  d13129638       0   \n",
       "3      /Restaurant_Review-g186338-d680417-Reviews-Qui...    d680417       0   \n",
       "4      /Restaurant_Review-g274924-d1112354-Reviews-Ma...   d1112354       0   \n",
       "...                                                  ...        ...     ...   \n",
       "49995  /Restaurant_Review-g187849-d2104414-Reviews-Ro...   d2104414       1   \n",
       "49996  /Restaurant_Review-g187147-d1800036-Reviews-La...   d1800036       1   \n",
       "49997  /Restaurant_Review-g189852-d947615-Reviews-Sus...    d947615       1   \n",
       "49998  /Restaurant_Review-g274856-d1100838-Reviews-Ho...   d1100838       1   \n",
       "49999  /Restaurant_Review-g187849-d1109020-Reviews-Ta...   d1109020       1   \n",
       "\n",
       "       Rating  rest_per_city    popul  people_per_rest  quality_index_city  \\\n",
       "0         0.0           6108  2148271       351.714309              128.54   \n",
       "1         0.0            475   656229      1381.534737              186.75   \n",
       "2         0.0            745   488050       655.100671              194.28   \n",
       "3         0.0           7193  8909081      1238.576533              124.80   \n",
       "4         0.0            380   437726      1151.910526              154.15   \n",
       "...       ...            ...      ...              ...                 ...   \n",
       "49995     4.5           2694  1399860       519.621381              126.10   \n",
       "49996     3.5           6108  2148271       351.714309              128.54   \n",
       "49997     4.5           1033   975904       944.727977              164.16   \n",
       "49998     4.0            925  1793579      1939.004324              143.52   \n",
       "49999     3.0           2694  1399860       519.621381              126.10   \n",
       "\n",
       "       purchasing_power  \n",
       "0                    22  \n",
       "1                     9  \n",
       "2                    16  \n",
       "3                    24  \n",
       "4                    39  \n",
       "...                 ...  \n",
       "49995                40  \n",
       "49996                22  \n",
       "49997                13  \n",
       "49998                29  \n",
       "49999                40  \n",
       "\n",
       "[50000 rows x 16 columns]"
      ]
     },
     "execution_count": 28,
     "metadata": {},
     "output_type": "execute_result"
    }
   ],
   "source": [
    "data"
   ]
  },
  {
   "cell_type": "code",
   "execution_count": 29,
   "metadata": {},
   "outputs": [],
   "source": [
    "# добавлю признак отношения количества ресторанов в городе к индексу качеству жизни\n",
    "data['quality_rest'] = data.rest_per_city / data.quality_index_city"
   ]
  },
  {
   "cell_type": "markdown",
   "metadata": {},
   "source": [
    "### Cuisine style - категориальный признак"
   ]
  },
  {
   "cell_type": "code",
   "execution_count": 30,
   "metadata": {},
   "outputs": [
    {
     "data": {
      "text/plain": [
       "['Italian']                                                                                                                               1332\n",
       "['French']                                                                                                                                1019\n",
       "['Spanish']                                                                                                                                860\n",
       "['French', 'European']                                                                                                                     503\n",
       "['Cafe']                                                                                                                                   500\n",
       "                                                                                                                                          ... \n",
       "['Italian', 'Bar', 'Pizza', 'Pub', 'Vegetarian Friendly', 'Vegan Options', 'Gluten Free Options']                                            1\n",
       "['European', 'Central European', 'Hungarian', 'International', 'Contemporary', 'Fusion', 'Vegetarian Friendly', 'Gluten Free Options']       1\n",
       "['European', 'Central European', 'German', 'Spanish']                                                                                        1\n",
       "['Steakhouse', 'Seafood', 'European', 'Portuguese', 'Soups']                                                                                 1\n",
       "['Middle Eastern', 'Lebanese', 'Cafe', 'Mediterranean', 'Halal', 'Vegetarian Friendly']                                                      1\n",
       "Name: Cuisine Style, Length: 10731, dtype: int64"
      ]
     },
     "execution_count": 30,
     "metadata": {},
     "output_type": "execute_result"
    }
   ],
   "source": [
    "data['Cuisine Style'].value_counts()"
   ]
  },
  {
   "cell_type": "code",
   "execution_count": 31,
   "metadata": {},
   "outputs": [
    {
     "data": {
      "text/plain": [
       "11590"
      ]
     },
     "execution_count": 31,
     "metadata": {},
     "output_type": "execute_result"
    }
   ],
   "source": [
    "len(data['Cuisine Style'].loc[data['Cuisine Style'].isnull() == 1]) # 11590 пропусков"
   ]
  },
  {
   "cell_type": "code",
   "execution_count": 32,
   "metadata": {},
   "outputs": [],
   "source": [
    "# Пустые значения cuisine_style заполним категорией Other, предварительно выделив пропуски в отдельный признак\n",
    "data['cuisine_style_NAN'] = pd.isna(data['Cuisine Style']).astype('uint8')\n",
    "data['Cuisine Style'] = data['Cuisine Style'].fillna(\"['Other']\")"
   ]
  },
  {
   "cell_type": "code",
   "execution_count": 33,
   "metadata": {},
   "outputs": [],
   "source": [
    "# переформатирую строку в список для работы со стилями кухонь\n",
    "data['Cuisine Style'] = data['Cuisine Style'].apply(lambda x: eval(x))"
   ]
  },
  {
   "cell_type": "code",
   "execution_count": 34,
   "metadata": {},
   "outputs": [],
   "source": [
    "# посмотрю сколько кухонь в каждом ресторане и добавлю это как признак в num_cuisines. Думаю количество кухонь влияет на итоговый рейтинг\n",
    "data['num_cuisines'] = data['Cuisine Style'].apply(lambda x: len(x))"
   ]
  },
  {
   "cell_type": "code",
   "execution_count": 35,
   "metadata": {},
   "outputs": [
    {
     "data": {
      "text/html": [
       "<div>\n",
       "<style scoped>\n",
       "    .dataframe tbody tr th:only-of-type {\n",
       "        vertical-align: middle;\n",
       "    }\n",
       "\n",
       "    .dataframe tbody tr th {\n",
       "        vertical-align: top;\n",
       "    }\n",
       "\n",
       "    .dataframe thead th {\n",
       "        text-align: right;\n",
       "    }\n",
       "</style>\n",
       "<table border=\"1\" class=\"dataframe\">\n",
       "  <thead>\n",
       "    <tr style=\"text-align: right;\">\n",
       "      <th></th>\n",
       "      <th>Restaurant_id</th>\n",
       "      <th>City</th>\n",
       "      <th>Cuisine Style</th>\n",
       "      <th>Ranking</th>\n",
       "      <th>Price Range</th>\n",
       "      <th>Number of Reviews</th>\n",
       "      <th>Reviews</th>\n",
       "      <th>URL_TA</th>\n",
       "      <th>ID_TA</th>\n",
       "      <th>sample</th>\n",
       "      <th>Rating</th>\n",
       "      <th>rest_per_city</th>\n",
       "      <th>popul</th>\n",
       "      <th>people_per_rest</th>\n",
       "      <th>quality_index_city</th>\n",
       "      <th>purchasing_power</th>\n",
       "      <th>quality_rest</th>\n",
       "      <th>cuisine_style_NAN</th>\n",
       "      <th>num_cuisines</th>\n",
       "    </tr>\n",
       "  </thead>\n",
       "  <tbody>\n",
       "    <tr>\n",
       "      <th>28429</th>\n",
       "      <td>33.0</td>\n",
       "      <td>Krakow</td>\n",
       "      <td>[Polish, European, Eastern European, Central E...</td>\n",
       "      <td>34.0</td>\n",
       "      <td>$$ - $$$</td>\n",
       "      <td>1759.0</td>\n",
       "      <td>[['Lovely food', 'Lovely visit with good food ...</td>\n",
       "      <td>/Restaurant_Review-g274772-d697135-Reviews-Pod...</td>\n",
       "      <td>d697135</td>\n",
       "      <td>1</td>\n",
       "      <td>4.5</td>\n",
       "      <td>554</td>\n",
       "      <td>779115</td>\n",
       "      <td>1406.344765</td>\n",
       "      <td>132.39</td>\n",
       "      <td>36</td>\n",
       "      <td>4.184606</td>\n",
       "      <td>0</td>\n",
       "      <td>7</td>\n",
       "    </tr>\n",
       "    <tr>\n",
       "      <th>8855</th>\n",
       "      <td>8855.0</td>\n",
       "      <td>Paris</td>\n",
       "      <td>[Other]</td>\n",
       "      <td>12795.0</td>\n",
       "      <td>NaN</td>\n",
       "      <td>4.0</td>\n",
       "      <td>[['Great bakery', 'Great Place for Breakfast i...</td>\n",
       "      <td>/Restaurant_Review-g187147-d12561818-Reviews-A...</td>\n",
       "      <td>d12561818</td>\n",
       "      <td>0</td>\n",
       "      <td>0.0</td>\n",
       "      <td>6108</td>\n",
       "      <td>2148271</td>\n",
       "      <td>351.714309</td>\n",
       "      <td>128.54</td>\n",
       "      <td>22</td>\n",
       "      <td>47.518282</td>\n",
       "      <td>1</td>\n",
       "      <td>1</td>\n",
       "    </tr>\n",
       "    <tr>\n",
       "      <th>43493</th>\n",
       "      <td>12581.0</td>\n",
       "      <td>Paris</td>\n",
       "      <td>[French]</td>\n",
       "      <td>12583.0</td>\n",
       "      <td>$$ - $$$</td>\n",
       "      <td>NaN</td>\n",
       "      <td>[[], []]</td>\n",
       "      <td>/Restaurant_Review-g187147-d12351897-Reviews-P...</td>\n",
       "      <td>d12351897</td>\n",
       "      <td>1</td>\n",
       "      <td>3.0</td>\n",
       "      <td>6108</td>\n",
       "      <td>2148271</td>\n",
       "      <td>351.714309</td>\n",
       "      <td>128.54</td>\n",
       "      <td>22</td>\n",
       "      <td>47.518282</td>\n",
       "      <td>0</td>\n",
       "      <td>1</td>\n",
       "    </tr>\n",
       "    <tr>\n",
       "      <th>15777</th>\n",
       "      <td>9026.0</td>\n",
       "      <td>Paris</td>\n",
       "      <td>[French]</td>\n",
       "      <td>9028.0</td>\n",
       "      <td>NaN</td>\n",
       "      <td>3.0</td>\n",
       "      <td>[[], []]</td>\n",
       "      <td>/Restaurant_Review-g187147-d3651612-Reviews-A_...</td>\n",
       "      <td>d3651612</td>\n",
       "      <td>1</td>\n",
       "      <td>4.0</td>\n",
       "      <td>6108</td>\n",
       "      <td>2148271</td>\n",
       "      <td>351.714309</td>\n",
       "      <td>128.54</td>\n",
       "      <td>22</td>\n",
       "      <td>47.518282</td>\n",
       "      <td>0</td>\n",
       "      <td>1</td>\n",
       "    </tr>\n",
       "    <tr>\n",
       "      <th>6165</th>\n",
       "      <td>6165.0</td>\n",
       "      <td>Stockholm</td>\n",
       "      <td>[Other]</td>\n",
       "      <td>1987.0</td>\n",
       "      <td>NaN</td>\n",
       "      <td>11.0</td>\n",
       "      <td>[['Relaxed feeling, excellent coffee', 'Not a ...</td>\n",
       "      <td>/Restaurant_Review-g189852-d5953076-Reviews-Ba...</td>\n",
       "      <td>d5953076</td>\n",
       "      <td>0</td>\n",
       "      <td>0.0</td>\n",
       "      <td>1033</td>\n",
       "      <td>975904</td>\n",
       "      <td>944.727977</td>\n",
       "      <td>164.16</td>\n",
       "      <td>13</td>\n",
       "      <td>6.292641</td>\n",
       "      <td>1</td>\n",
       "      <td>1</td>\n",
       "    </tr>\n",
       "  </tbody>\n",
       "</table>\n",
       "</div>"
      ],
      "text/plain": [
       "       Restaurant_id       City  \\\n",
       "28429           33.0     Krakow   \n",
       "8855          8855.0      Paris   \n",
       "43493        12581.0      Paris   \n",
       "15777         9026.0      Paris   \n",
       "6165          6165.0  Stockholm   \n",
       "\n",
       "                                           Cuisine Style  Ranking Price Range  \\\n",
       "28429  [Polish, European, Eastern European, Central E...     34.0    $$ - $$$   \n",
       "8855                                             [Other]  12795.0         NaN   \n",
       "43493                                           [French]  12583.0    $$ - $$$   \n",
       "15777                                           [French]   9028.0         NaN   \n",
       "6165                                             [Other]   1987.0         NaN   \n",
       "\n",
       "       Number of Reviews                                            Reviews  \\\n",
       "28429             1759.0  [['Lovely food', 'Lovely visit with good food ...   \n",
       "8855                 4.0  [['Great bakery', 'Great Place for Breakfast i...   \n",
       "43493                NaN                                           [[], []]   \n",
       "15777                3.0                                           [[], []]   \n",
       "6165                11.0  [['Relaxed feeling, excellent coffee', 'Not a ...   \n",
       "\n",
       "                                                  URL_TA      ID_TA  sample  \\\n",
       "28429  /Restaurant_Review-g274772-d697135-Reviews-Pod...    d697135       1   \n",
       "8855   /Restaurant_Review-g187147-d12561818-Reviews-A...  d12561818       0   \n",
       "43493  /Restaurant_Review-g187147-d12351897-Reviews-P...  d12351897       1   \n",
       "15777  /Restaurant_Review-g187147-d3651612-Reviews-A_...   d3651612       1   \n",
       "6165   /Restaurant_Review-g189852-d5953076-Reviews-Ba...   d5953076       0   \n",
       "\n",
       "       Rating  rest_per_city    popul  people_per_rest  quality_index_city  \\\n",
       "28429     4.5            554   779115      1406.344765              132.39   \n",
       "8855      0.0           6108  2148271       351.714309              128.54   \n",
       "43493     3.0           6108  2148271       351.714309              128.54   \n",
       "15777     4.0           6108  2148271       351.714309              128.54   \n",
       "6165      0.0           1033   975904       944.727977              164.16   \n",
       "\n",
       "       purchasing_power  quality_rest  cuisine_style_NAN  num_cuisines  \n",
       "28429                36      4.184606                  0             7  \n",
       "8855                 22     47.518282                  1             1  \n",
       "43493                22     47.518282                  0             1  \n",
       "15777                22     47.518282                  0             1  \n",
       "6165                 13      6.292641                  1             1  "
      ]
     },
     "execution_count": 35,
     "metadata": {},
     "output_type": "execute_result"
    }
   ],
   "source": [
    "data.sample(5)"
   ]
  },
  {
   "cell_type": "markdown",
   "metadata": {},
   "source": [
    "### Ranking: Ранг ресторана относительно других ресторанов в этом городе"
   ]
  },
  {
   "cell_type": "code",
   "execution_count": 36,
   "metadata": {},
   "outputs": [
    {
     "name": "stdout",
     "output_type": "stream",
     "text": [
      "<class 'pandas.core.frame.DataFrame'>\n",
      "RangeIndex: 50000 entries, 0 to 49999\n",
      "Data columns (total 19 columns):\n",
      "Restaurant_id         50000 non-null float64\n",
      "City                  50000 non-null object\n",
      "Cuisine Style         50000 non-null object\n",
      "Ranking               50000 non-null float64\n",
      "Price Range           32639 non-null object\n",
      "Number of Reviews     46800 non-null float64\n",
      "Reviews               49998 non-null object\n",
      "URL_TA                50000 non-null object\n",
      "ID_TA                 50000 non-null object\n",
      "sample                50000 non-null int64\n",
      "Rating                50000 non-null float64\n",
      "rest_per_city         50000 non-null int64\n",
      "popul                 50000 non-null int64\n",
      "people_per_rest       50000 non-null float64\n",
      "quality_index_city    50000 non-null float64\n",
      "purchasing_power      50000 non-null int64\n",
      "quality_rest          50000 non-null float64\n",
      "cuisine_style_NAN     50000 non-null uint8\n",
      "num_cuisines          50000 non-null int64\n",
      "dtypes: float64(7), int64(5), object(6), uint8(1)\n",
      "memory usage: 6.9+ MB\n"
     ]
    }
   ],
   "source": [
    "data.info() # пропусков нет"
   ]
  },
  {
   "cell_type": "code",
   "execution_count": 37,
   "metadata": {},
   "outputs": [],
   "source": [
    "# посмотрю распределение признака"
   ]
  },
  {
   "cell_type": "code",
   "execution_count": 38,
   "metadata": {},
   "outputs": [
    {
     "data": {
      "text/plain": [
       "<matplotlib.axes._subplots.AxesSubplot at 0x7f7f80c9ca20>"
      ]
     },
     "execution_count": 38,
     "metadata": {},
     "output_type": "execute_result"
    },
    {
     "data": {
      "image/png": "[encoded data removed]",
      "text/plain": [
       "<Figure size 432x288 with 1 Axes>"
      ]
     },
     "metadata": {
      "needs_background": "light"
     },
     "output_type": "display_data"
    }
   ],
   "source": [
    "data.Ranking.hist(bins=100)"
   ]
  },
  {
   "cell_type": "markdown",
   "metadata": {},
   "source": [
    "вполне нормальное распределение, как я думаю"
   ]
  },
  {
   "cell_type": "code",
   "execution_count": 39,
   "metadata": {},
   "outputs": [],
   "source": [
    "# Добавлю признак относительного ранга ресторана по городу\n",
    "\n",
    "data['ranking_city'] = data.Ranking / data.rest_per_city"
   ]
  },
  {
   "cell_type": "markdown",
   "metadata": {},
   "source": [
    "### Price range - Цены в ресторане в 3 категориях"
   ]
  },
  {
   "cell_type": "code",
   "execution_count": 40,
   "metadata": {},
   "outputs": [
    {
     "data": {
      "text/plain": [
       "$$ - $$$    23041\n",
       "$            7816\n",
       "$$$$         1782\n",
       "Name: Price Range, dtype: int64"
      ]
     },
     "execution_count": 40,
     "metadata": {},
     "output_type": "execute_result"
    }
   ],
   "source": [
    "data['Price Range'].value_counts() # категориальный признак"
   ]
  },
  {
   "cell_type": "code",
   "execution_count": 41,
   "metadata": {},
   "outputs": [
    {
     "data": {
      "text/plain": [
       "17361"
      ]
     },
     "execution_count": 41,
     "metadata": {},
     "output_type": "execute_result"
    }
   ],
   "source": [
    "sum(data['Price Range'].isnull()) # есть пропуски и много, поэтому пометим их в отдельном признаке"
   ]
  },
  {
   "cell_type": "code",
   "execution_count": 42,
   "metadata": {},
   "outputs": [],
   "source": [
    "data['price_range_NAN'] = pd.isna(data['Price Range']).astype('uint8') "
   ]
  },
  {
   "cell_type": "code",
   "execution_count": 43,
   "metadata": {},
   "outputs": [],
   "source": [
    "# поменяю значения признака на числовые используя Label Encoding\n",
    "price = {'$' : 1, '$$ - $$$' : 2, '$$$$' : 3}\n",
    "data['Price Range'] = data['Price Range'].map(price)"
   ]
  },
  {
   "cell_type": "code",
   "execution_count": 44,
   "metadata": {},
   "outputs": [
    {
     "data": {
      "text/html": [
       "<div>\n",
       "<style scoped>\n",
       "    .dataframe tbody tr th:only-of-type {\n",
       "        vertical-align: middle;\n",
       "    }\n",
       "\n",
       "    .dataframe tbody tr th {\n",
       "        vertical-align: top;\n",
       "    }\n",
       "\n",
       "    .dataframe thead th {\n",
       "        text-align: right;\n",
       "    }\n",
       "</style>\n",
       "<table border=\"1\" class=\"dataframe\">\n",
       "  <thead>\n",
       "    <tr style=\"text-align: right;\">\n",
       "      <th></th>\n",
       "      <th>Restaurant_id</th>\n",
       "      <th>City</th>\n",
       "      <th>Cuisine Style</th>\n",
       "      <th>Ranking</th>\n",
       "      <th>Price Range</th>\n",
       "      <th>Number of Reviews</th>\n",
       "      <th>Reviews</th>\n",
       "      <th>URL_TA</th>\n",
       "      <th>ID_TA</th>\n",
       "      <th>sample</th>\n",
       "      <th>...</th>\n",
       "      <th>rest_per_city</th>\n",
       "      <th>popul</th>\n",
       "      <th>people_per_rest</th>\n",
       "      <th>quality_index_city</th>\n",
       "      <th>purchasing_power</th>\n",
       "      <th>quality_rest</th>\n",
       "      <th>cuisine_style_NAN</th>\n",
       "      <th>num_cuisines</th>\n",
       "      <th>ranking_city</th>\n",
       "      <th>price_range_NAN</th>\n",
       "    </tr>\n",
       "  </thead>\n",
       "  <tbody>\n",
       "    <tr>\n",
       "      <th>47696</th>\n",
       "      <td>1161.0</td>\n",
       "      <td>Vienna</td>\n",
       "      <td>[Other]</td>\n",
       "      <td>1162.0</td>\n",
       "      <td>NaN</td>\n",
       "      <td>19.0</td>\n",
       "      <td>[['\"Silvester\" or New Year\\'s Eve', 'Cute plac...</td>\n",
       "      <td>/Restaurant_Review-g190454-d6884319-Reviews-Re...</td>\n",
       "      <td>d6884319</td>\n",
       "      <td>1</td>\n",
       "      <td>...</td>\n",
       "      <td>1443</td>\n",
       "      <td>2600000</td>\n",
       "      <td>1801.801802</td>\n",
       "      <td>188.60</td>\n",
       "      <td>21</td>\n",
       "      <td>7.651113</td>\n",
       "      <td>1</td>\n",
       "      <td>1</td>\n",
       "      <td>0.805267</td>\n",
       "      <td>1</td>\n",
       "    </tr>\n",
       "    <tr>\n",
       "      <th>5766</th>\n",
       "      <td>5766.0</td>\n",
       "      <td>Copenhagen</td>\n",
       "      <td>[Bar, American, Grill]</td>\n",
       "      <td>951.0</td>\n",
       "      <td>2.0</td>\n",
       "      <td>48.0</td>\n",
       "      <td>[['Christmas 🎄 party 🎉', 'Great food and great...</td>\n",
       "      <td>/Restaurant_Review-g189541-d10242685-Reviews-C...</td>\n",
       "      <td>d10242685</td>\n",
       "      <td>0</td>\n",
       "      <td>...</td>\n",
       "      <td>819</td>\n",
       "      <td>794128</td>\n",
       "      <td>969.631258</td>\n",
       "      <td>192.90</td>\n",
       "      <td>10</td>\n",
       "      <td>4.245723</td>\n",
       "      <td>0</td>\n",
       "      <td>3</td>\n",
       "      <td>1.161172</td>\n",
       "      <td>0</td>\n",
       "    </tr>\n",
       "    <tr>\n",
       "      <th>31831</th>\n",
       "      <td>13971.0</td>\n",
       "      <td>London</td>\n",
       "      <td>[Chinese, Indian, Pakistani]</td>\n",
       "      <td>13981.0</td>\n",
       "      <td>NaN</td>\n",
       "      <td>5.0</td>\n",
       "      <td>[['Gone very down hill', 'Arshad Shahed. USA']...</td>\n",
       "      <td>/Restaurant_Review-g186338-d953776-Reviews-She...</td>\n",
       "      <td>d953776</td>\n",
       "      <td>1</td>\n",
       "      <td>...</td>\n",
       "      <td>7193</td>\n",
       "      <td>8909081</td>\n",
       "      <td>1238.576533</td>\n",
       "      <td>124.80</td>\n",
       "      <td>24</td>\n",
       "      <td>57.636218</td>\n",
       "      <td>0</td>\n",
       "      <td>3</td>\n",
       "      <td>1.943695</td>\n",
       "      <td>1</td>\n",
       "    </tr>\n",
       "    <tr>\n",
       "      <th>33426</th>\n",
       "      <td>3862.0</td>\n",
       "      <td>Milan</td>\n",
       "      <td>[Other]</td>\n",
       "      <td>3864.0</td>\n",
       "      <td>NaN</td>\n",
       "      <td>5.0</td>\n",
       "      <td>[[], []]</td>\n",
       "      <td>/Restaurant_Review-g187849-d13238213-Reviews-D...</td>\n",
       "      <td>d13238213</td>\n",
       "      <td>1</td>\n",
       "      <td>...</td>\n",
       "      <td>2694</td>\n",
       "      <td>1399860</td>\n",
       "      <td>519.621381</td>\n",
       "      <td>126.10</td>\n",
       "      <td>40</td>\n",
       "      <td>21.363997</td>\n",
       "      <td>1</td>\n",
       "      <td>1</td>\n",
       "      <td>1.434298</td>\n",
       "      <td>1</td>\n",
       "    </tr>\n",
       "    <tr>\n",
       "      <th>47226</th>\n",
       "      <td>3494.0</td>\n",
       "      <td>Rome</td>\n",
       "      <td>[Italian, Mediterranean]</td>\n",
       "      <td>3495.0</td>\n",
       "      <td>2.0</td>\n",
       "      <td>117.0</td>\n",
       "      <td>[['Good but not great', 'authentic, fresh food...</td>\n",
       "      <td>/Restaurant_Review-g187791-d1012596-Reviews-Al...</td>\n",
       "      <td>d1012596</td>\n",
       "      <td>1</td>\n",
       "      <td>...</td>\n",
       "      <td>2589</td>\n",
       "      <td>2860009</td>\n",
       "      <td>1104.677095</td>\n",
       "      <td>109.84</td>\n",
       "      <td>37</td>\n",
       "      <td>23.570648</td>\n",
       "      <td>0</td>\n",
       "      <td>2</td>\n",
       "      <td>1.349942</td>\n",
       "      <td>0</td>\n",
       "    </tr>\n",
       "  </tbody>\n",
       "</table>\n",
       "<p>5 rows × 21 columns</p>\n",
       "</div>"
      ],
      "text/plain": [
       "       Restaurant_id        City                 Cuisine Style  Ranking  \\\n",
       "47696         1161.0      Vienna                       [Other]   1162.0   \n",
       "5766          5766.0  Copenhagen        [Bar, American, Grill]    951.0   \n",
       "31831        13971.0      London  [Chinese, Indian, Pakistani]  13981.0   \n",
       "33426         3862.0       Milan                       [Other]   3864.0   \n",
       "47226         3494.0        Rome      [Italian, Mediterranean]   3495.0   \n",
       "\n",
       "       Price Range  Number of Reviews  \\\n",
       "47696          NaN               19.0   \n",
       "5766           2.0               48.0   \n",
       "31831          NaN                5.0   \n",
       "33426          NaN                5.0   \n",
       "47226          2.0              117.0   \n",
       "\n",
       "                                                 Reviews  \\\n",
       "47696  [['\"Silvester\" or New Year\\'s Eve', 'Cute plac...   \n",
       "5766   [['Christmas 🎄 party 🎉', 'Great food and great...   \n",
       "31831  [['Gone very down hill', 'Arshad Shahed. USA']...   \n",
       "33426                                           [[], []]   \n",
       "47226  [['Good but not great', 'authentic, fresh food...   \n",
       "\n",
       "                                                  URL_TA      ID_TA  sample  \\\n",
       "47696  /Restaurant_Review-g190454-d6884319-Reviews-Re...   d6884319       1   \n",
       "5766   /Restaurant_Review-g189541-d10242685-Reviews-C...  d10242685       0   \n",
       "31831  /Restaurant_Review-g186338-d953776-Reviews-She...    d953776       1   \n",
       "33426  /Restaurant_Review-g187849-d13238213-Reviews-D...  d13238213       1   \n",
       "47226  /Restaurant_Review-g187791-d1012596-Reviews-Al...   d1012596       1   \n",
       "\n",
       "       ...  rest_per_city    popul  people_per_rest  quality_index_city  \\\n",
       "47696  ...           1443  2600000      1801.801802              188.60   \n",
       "5766   ...            819   794128       969.631258              192.90   \n",
       "31831  ...           7193  8909081      1238.576533              124.80   \n",
       "33426  ...           2694  1399860       519.621381              126.10   \n",
       "47226  ...           2589  2860009      1104.677095              109.84   \n",
       "\n",
       "       purchasing_power  quality_rest  cuisine_style_NAN  num_cuisines  \\\n",
       "47696                21      7.651113                  1             1   \n",
       "5766                 10      4.245723                  0             3   \n",
       "31831                24     57.636218                  0             3   \n",
       "33426                40     21.363997                  1             1   \n",
       "47226                37     23.570648                  0             2   \n",
       "\n",
       "       ranking_city  price_range_NAN  \n",
       "47696      0.805267                1  \n",
       "5766       1.161172                0  \n",
       "31831      1.943695                1  \n",
       "33426      1.434298                1  \n",
       "47226      1.349942                0  \n",
       "\n",
       "[5 rows x 21 columns]"
      ]
     },
     "execution_count": 44,
     "metadata": {},
     "output_type": "execute_result"
    }
   ],
   "source": [
    "data.sample(5)"
   ]
  },
  {
   "cell_type": "code",
   "execution_count": 45,
   "metadata": {},
   "outputs": [
    {
     "data": {
      "text/plain": [
       "count    32639.000000\n",
       "mean         1.815129\n",
       "std          0.509800\n",
       "min          1.000000\n",
       "25%          2.000000\n",
       "50%          2.000000\n",
       "75%          2.000000\n",
       "max          3.000000\n",
       "Name: Price Range, dtype: float64"
      ]
     },
     "execution_count": 45,
     "metadata": {},
     "output_type": "execute_result"
    }
   ],
   "source": [
    "data['Price Range'].describe()"
   ]
  },
  {
   "cell_type": "code",
   "execution_count": 46,
   "metadata": {},
   "outputs": [
    {
     "data": {
      "text/plain": [
       "17361"
      ]
     },
     "execution_count": 46,
     "metadata": {},
     "output_type": "execute_result"
    }
   ],
   "source": [
    "sum(data['Price Range'].isnull())"
   ]
  },
  {
   "cell_type": "code",
   "execution_count": 47,
   "metadata": {},
   "outputs": [],
   "source": [
    "# заменю пропуски на на ноль, при замене на медиану mae выше, проверено на эксперименте\n",
    "data['Price Range'] = data['Price Range'].fillna(0)"
   ]
  },
  {
   "cell_type": "code",
   "execution_count": 48,
   "metadata": {},
   "outputs": [
    {
     "data": {
      "text/plain": [
       "2.0    23041\n",
       "0.0    17361\n",
       "1.0     7816\n",
       "3.0     1782\n",
       "Name: Price Range, dtype: int64"
      ]
     },
     "execution_count": 48,
     "metadata": {},
     "output_type": "execute_result"
    }
   ],
   "source": [
    "# проверю\n",
    "\n",
    "data['Price Range'].value_counts()"
   ]
  },
  {
   "cell_type": "code",
   "execution_count": 49,
   "metadata": {},
   "outputs": [
    {
     "data": {
      "text/plain": [
       "count    50000.000000\n",
       "mean         1.184880\n",
       "std          0.957308\n",
       "min          0.000000\n",
       "25%          0.000000\n",
       "50%          1.000000\n",
       "75%          2.000000\n",
       "max          3.000000\n",
       "Name: Price Range, dtype: float64"
      ]
     },
     "execution_count": 49,
     "metadata": {},
     "output_type": "execute_result"
    }
   ],
   "source": [
    "data['Price Range'].describe() "
   ]
  },
  {
   "cell_type": "code",
   "execution_count": 50,
   "metadata": {},
   "outputs": [],
   "source": [
    "# добавлю признак отношения покуп способности в городе к ценовому диапазону ресторана\n",
    "data['purchasing_range'] = data.purchasing_power / data['Price Range']"
   ]
  },
  {
   "cell_type": "code",
   "execution_count": 51,
   "metadata": {},
   "outputs": [
    {
     "data": {
      "text/plain": [
       "inf          17361\n",
       "12.000000     3664\n",
       "11.000000     3109\n",
       "24.000000     1973\n",
       "15.000000     1731\n",
       "             ...  \n",
       "17.666667       24\n",
       "5.333333        19\n",
       "14.000000       18\n",
       "1.333333        11\n",
       "10.666667        7\n",
       "Name: purchasing_range, Length: 74, dtype: int64"
      ]
     },
     "execution_count": 51,
     "metadata": {},
     "output_type": "execute_result"
    }
   ],
   "source": [
    "data.purchasing_range.value_counts() \n",
    "# так как в признаке Price Range есть нулевые значения, \n",
    "# при создании признака появился процесс деления на ноль и значения завполнились знеачением inf"
   ]
  },
  {
   "cell_type": "code",
   "execution_count": 52,
   "metadata": {},
   "outputs": [
    {
     "name": "stderr",
     "output_type": "stream",
     "text": [
      "/opt/conda/lib/python3.6/site-packages/ipykernel_launcher.py:1: SettingWithCopyWarning: \n",
      "A value is trying to be set on a copy of a slice from a DataFrame\n",
      "\n",
      "See the caveats in the documentation: http://pandas.pydata.org/pandas-docs/stable/user_guide/indexing.html#returning-a-view-versus-a-copy\n",
      "  \"\"\"Entry point for launching an IPython kernel.\n"
     ]
    }
   ],
   "source": [
    "data.purchasing_range[np.isinf(data.purchasing_range)] = 0 # поменяем его на ноль"
   ]
  },
  {
   "cell_type": "code",
   "execution_count": 53,
   "metadata": {},
   "outputs": [
    {
     "data": {
      "text/plain": [
       "0.000000     17361\n",
       "12.000000     3664\n",
       "11.000000     3109\n",
       "24.000000     1973\n",
       "15.000000     1731\n",
       "             ...  \n",
       "17.666667       24\n",
       "5.333333        19\n",
       "14.000000       18\n",
       "1.333333        11\n",
       "10.666667        7\n",
       "Name: purchasing_range, Length: 74, dtype: int64"
      ]
     },
     "execution_count": 53,
     "metadata": {},
     "output_type": "execute_result"
    }
   ],
   "source": [
    "data.purchasing_range.value_counts() "
   ]
  },
  {
   "cell_type": "markdown",
   "metadata": {},
   "source": [
    "### Number of Reviews: Количество отзывов"
   ]
  },
  {
   "cell_type": "code",
   "execution_count": 54,
   "metadata": {},
   "outputs": [
    {
     "data": {
      "text/plain": [
       "count    46800.000000\n",
       "mean       124.471197\n",
       "std        294.114345\n",
       "min          2.000000\n",
       "25%          9.000000\n",
       "50%         33.000000\n",
       "75%        115.000000\n",
       "max       9660.000000\n",
       "Name: Number of Reviews, dtype: float64"
      ]
     },
     "execution_count": 54,
     "metadata": {},
     "output_type": "execute_result"
    }
   ],
   "source": [
    "data['Number of Reviews'].describe()"
   ]
  },
  {
   "cell_type": "markdown",
   "metadata": {},
   "source": [
    "очень сильно отличаются медиана и среднее, отклонение почти 300, скорей всего много выбросов, надо смотреть"
   ]
  },
  {
   "cell_type": "code",
   "execution_count": 55,
   "metadata": {},
   "outputs": [
    {
     "data": {
      "text/plain": [
       "3200"
      ]
     },
     "execution_count": 55,
     "metadata": {},
     "output_type": "execute_result"
    }
   ],
   "source": [
    "sum(data['Number of Reviews'].isnull()) # 3200 пропусков"
   ]
  },
  {
   "cell_type": "code",
   "execution_count": 56,
   "metadata": {},
   "outputs": [],
   "source": [
    "data['number_of_reviews_NAN'] = pd.isna(data['Number of Reviews']).astype('uint8') # помечаю их в отдельном признаке"
   ]
  },
  {
   "cell_type": "code",
   "execution_count": 57,
   "metadata": {},
   "outputs": [],
   "source": [
    "# Далее заполняем пропуски 0, вы можете попробовать заполнением средним или средним по городу и тд...\n",
    "data['Number of Reviews'].fillna(0, inplace=True)"
   ]
  },
  {
   "cell_type": "markdown",
   "metadata": {},
   "source": [
    "# посмотрю выбросы"
   ]
  },
  {
   "cell_type": "code",
   "execution_count": 58,
   "metadata": {},
   "outputs": [
    {
     "name": "stdout",
     "output_type": "stream",
     "text": [
      "Q1: 7.0\n",
      "Q3: 105.0\n",
      "IQR: 98.0\n",
      "Граница выбросов: [-140.0,252.0]\n"
     ]
    }
   ],
   "source": [
    "IQR('Number of Reviews')"
   ]
  },
  {
   "cell_type": "code",
   "execution_count": 59,
   "metadata": {},
   "outputs": [
    {
     "data": {
      "text/plain": [
       "<matplotlib.axes._subplots.AxesSubplot at 0x7f7f6d61e908>"
      ]
     },
     "execution_count": 59,
     "metadata": {},
     "output_type": "execute_result"
    },
    {
     "data": {
      "image/png": "[encoded data removed]",
      "text/plain": [
       "<Figure size 432x288 with 1 Axes>"
      ]
     },
     "metadata": {
      "needs_background": "light"
     },
     "output_type": "display_data"
    }
   ],
   "source": [
    "sns.boxplot(data['Number of Reviews']) "
   ]
  },
  {
   "cell_type": "markdown",
   "metadata": {},
   "source": [
    "судя по боксплоту - много данных находится за границей 75го перцентиля"
   ]
  },
  {
   "cell_type": "code",
   "execution_count": 60,
   "metadata": {},
   "outputs": [
    {
     "data": {
      "text/plain": [
       "5946"
      ]
     },
     "execution_count": 60,
     "metadata": {},
     "output_type": "execute_result"
    }
   ],
   "source": [
    "sum(data['Number of Reviews'] > 252) # много..."
   ]
  },
  {
   "cell_type": "code",
   "execution_count": 61,
   "metadata": {},
   "outputs": [
    {
     "data": {
      "text/plain": [
       "<matplotlib.axes._subplots.AxesSubplot at 0x7f7f6d5b82b0>"
      ]
     },
     "execution_count": 61,
     "metadata": {},
     "output_type": "execute_result"
    },
    {
     "data": {
      "image/png": "[encoded data removed]",
      "text/plain": [
       "<Figure size 432x288 with 1 Axes>"
      ]
     },
     "metadata": {
      "needs_background": "light"
     },
     "output_type": "display_data"
    }
   ],
   "source": [
    "data['Number of Reviews'].hist(bins=50)"
   ]
  },
  {
   "cell_type": "markdown",
   "metadata": {},
   "source": [
    "из гистограммы видно, что количество значений начинает уменьшаться примерно на отметке 1000\n",
    "\n",
    "посмотрим сколько значений уходит за 1000"
   ]
  },
  {
   "cell_type": "code",
   "execution_count": 62,
   "metadata": {},
   "outputs": [
    {
     "data": {
      "text/plain": [
       "817"
      ]
     },
     "execution_count": 62,
     "metadata": {},
     "output_type": "execute_result"
    }
   ],
   "source": [
    "sum(data['Number of Reviews'] > 1000)"
   ]
  },
  {
   "cell_type": "markdown",
   "metadata": {},
   "source": [
    "заменяю на 1000 все значения больше 1000"
   ]
  },
  {
   "cell_type": "code",
   "execution_count": 63,
   "metadata": {},
   "outputs": [],
   "source": [
    "data['Number of Reviews'] = data['Number of Reviews'].apply(lambda x: 1000 if x > 1000 else x)"
   ]
  },
  {
   "cell_type": "code",
   "execution_count": 64,
   "metadata": {},
   "outputs": [
    {
     "data": {
      "text/plain": [
       "count    50000.000000\n",
       "mean       104.686100\n",
       "std        190.516311\n",
       "min          0.000000\n",
       "25%          7.000000\n",
       "50%         28.000000\n",
       "75%        105.000000\n",
       "max       1000.000000\n",
       "Name: Number of Reviews, dtype: float64"
      ]
     },
     "execution_count": 64,
     "metadata": {},
     "output_type": "execute_result"
    }
   ],
   "source": [
    "data['Number of Reviews'].describe()"
   ]
  },
  {
   "cell_type": "code",
   "execution_count": 65,
   "metadata": {},
   "outputs": [
    {
     "data": {
      "text/plain": [
       "<matplotlib.axes._subplots.AxesSubplot at 0x7f7f6d508198>"
      ]
     },
     "execution_count": 65,
     "metadata": {},
     "output_type": "execute_result"
    },
    {
     "data": {
      "image/png": "[encoded data removed]",
      "text/plain": [
       "<Figure size 432x288 with 1 Axes>"
      ]
     },
     "metadata": {
      "needs_background": "light"
     },
     "output_type": "display_data"
    }
   ],
   "source": [
    "data['Number of Reviews'].hist(bins=50)"
   ]
  },
  {
   "cell_type": "code",
   "execution_count": 66,
   "metadata": {},
   "outputs": [
    {
     "data": {
      "text/plain": [
       "<matplotlib.axes._subplots.AxesSubplot at 0x7f7f6cddbc18>"
      ]
     },
     "execution_count": 66,
     "metadata": {},
     "output_type": "execute_result"
    },
    {
     "data": {
      "image/png": "[encoded data removed]",
      "text/plain": [
       "<Figure size 432x288 with 1 Axes>"
      ]
     },
     "metadata": {
      "needs_background": "light"
     },
     "output_type": "display_data"
    }
   ],
   "source": [
    "sns.boxplot(data['Number of Reviews']) "
   ]
  },
  {
   "cell_type": "code",
   "execution_count": 67,
   "metadata": {},
   "outputs": [
    {
     "name": "stdout",
     "output_type": "stream",
     "text": [
      "<class 'pandas.core.frame.DataFrame'>\n",
      "RangeIndex: 50000 entries, 0 to 49999\n",
      "Data columns (total 23 columns):\n",
      "Restaurant_id            50000 non-null float64\n",
      "City                     50000 non-null object\n",
      "Cuisine Style            50000 non-null object\n",
      "Ranking                  50000 non-null float64\n",
      "Price Range              50000 non-null float64\n",
      "Number of Reviews        50000 non-null float64\n",
      "Reviews                  49998 non-null object\n",
      "URL_TA                   50000 non-null object\n",
      "ID_TA                    50000 non-null object\n",
      "sample                   50000 non-null int64\n",
      "Rating                   50000 non-null float64\n",
      "rest_per_city            50000 non-null int64\n",
      "popul                    50000 non-null int64\n",
      "people_per_rest          50000 non-null float64\n",
      "quality_index_city       50000 non-null float64\n",
      "purchasing_power         50000 non-null int64\n",
      "quality_rest             50000 non-null float64\n",
      "cuisine_style_NAN        50000 non-null uint8\n",
      "num_cuisines             50000 non-null int64\n",
      "ranking_city             50000 non-null float64\n",
      "price_range_NAN          50000 non-null uint8\n",
      "purchasing_range         50000 non-null float64\n",
      "number_of_reviews_NAN    50000 non-null uint8\n",
      "dtypes: float64(10), int64(5), object(5), uint8(3)\n",
      "memory usage: 7.8+ MB\n"
     ]
    }
   ],
   "source": [
    "data.info()"
   ]
  },
  {
   "cell_type": "markdown",
   "metadata": {},
   "source": [
    "### Reviews: 2 последних отзыва и даты этих отзывов - Категориальный признак"
   ]
  },
  {
   "cell_type": "code",
   "execution_count": 68,
   "metadata": {},
   "outputs": [
    {
     "data": {
      "text/plain": [
       "\"[['Very good reviews!', 'Fine dining in Hakaniemi'], ['12/05/2017', '10/29/2017']]\""
      ]
     },
     "execution_count": 68,
     "metadata": {},
     "output_type": "execute_result"
    }
   ],
   "source": [
    "data.Reviews[1]"
   ]
  },
  {
   "cell_type": "code",
   "execution_count": 69,
   "metadata": {},
   "outputs": [
    {
     "data": {
      "text/plain": [
       "\"[['Nothing special, lazy service', 'Great food'], ['11/01/2016', '05/10/2016']]\""
      ]
     },
     "execution_count": 69,
     "metadata": {},
     "output_type": "execute_result"
    }
   ],
   "source": [
    "data.Reviews[33]"
   ]
  },
  {
   "cell_type": "code",
   "execution_count": 70,
   "metadata": {},
   "outputs": [
    {
     "data": {
      "text/plain": [
       "2"
      ]
     },
     "execution_count": 70,
     "metadata": {},
     "output_type": "execute_result"
    }
   ],
   "source": [
    "data.Reviews.isnull().sum()"
   ]
  },
  {
   "cell_type": "markdown",
   "metadata": {},
   "source": [
    "Отзыв состоит из собственно отзывов и дат отзывов. два пропуска"
   ]
  },
  {
   "cell_type": "code",
   "execution_count": 71,
   "metadata": {},
   "outputs": [
    {
     "data": {
      "text/plain": [
       "[[], []]                                                                                               8112\n",
       "[['ok for beer, not for dinner'], ['12/20/2017']]                                                         2\n",
       "[['Improve your service', 'Great value chain restaurant'], ['12/14/2017', '07/30/2017']]                  2\n",
       "[['Good Lebanese food', 'Decent place'], ['07/19/2017', '03/17/2017']]                                    2\n",
       "[['Good Paella', 'Good enough. Nothing more'], ['09/20/2017', '05/29/2017']]                              2\n",
       "                                                                                                       ... \n",
       "[['Welcoming, Under New Management & One To W...', 'A good evening'], ['12/21/2017', '12/12/2017']]       1\n",
       "[['Mr', 'Shani'], ['10/12/2017', '07/14/2017']]                                                           1\n",
       "[['La Tastevin'], ['06/03/2014']]                                                                         1\n",
       "[['Great for the family.', 'Tasty salty and sweet pancakes'], ['01/03/2018', '11/19/2017']]               1\n",
       "[['Fast service, tasty food', 'Authentic pakistani cuisine'], ['01/01/2018', '12/24/2017']]               1\n",
       "Name: Reviews, Length: 41857, dtype: int64"
      ]
     },
     "execution_count": 71,
     "metadata": {},
     "output_type": "execute_result"
    }
   ],
   "source": [
    "data.Reviews.value_counts()"
   ]
  },
  {
   "cell_type": "markdown",
   "metadata": {},
   "source": [
    "интересно то, что пропуска 2, но есть еще 8112 строк с пустым отзывом, так как это пустой список, он не помечается как Nan, но это явно можно считать пропуском\n",
    "\n",
    "помечу эти пропуски в отдельный признак"
   ]
  },
  {
   "cell_type": "code",
   "execution_count": 72,
   "metadata": {},
   "outputs": [
    {
     "data": {
      "text/plain": [
       "8112"
      ]
     },
     "execution_count": 72,
     "metadata": {},
     "output_type": "execute_result"
    }
   ],
   "source": [
    "sum(data.Reviews == '[[], []]')"
   ]
  },
  {
   "cell_type": "code",
   "execution_count": 73,
   "metadata": {},
   "outputs": [],
   "source": [
    "data['review_NAN'] = (data.Reviews == '[[], []]').astype('uint8')"
   ]
  },
  {
   "cell_type": "code",
   "execution_count": 74,
   "metadata": {},
   "outputs": [],
   "source": [
    "# отделю дату от отзыва в отдельный признак data_review\n",
    "data['date_review'] = data['Reviews'].apply(lambda x: [0] if pd.isna(x) else x[2:-2].split('], [')[1][1:-1].split(\"', '\"))"
   ]
  },
  {
   "cell_type": "code",
   "execution_count": 75,
   "metadata": {},
   "outputs": [
    {
     "data": {
      "text/html": [
       "<div>\n",
       "<style scoped>\n",
       "    .dataframe tbody tr th:only-of-type {\n",
       "        vertical-align: middle;\n",
       "    }\n",
       "\n",
       "    .dataframe tbody tr th {\n",
       "        vertical-align: top;\n",
       "    }\n",
       "\n",
       "    .dataframe thead th {\n",
       "        text-align: right;\n",
       "    }\n",
       "</style>\n",
       "<table border=\"1\" class=\"dataframe\">\n",
       "  <thead>\n",
       "    <tr style=\"text-align: right;\">\n",
       "      <th></th>\n",
       "      <th>Restaurant_id</th>\n",
       "      <th>City</th>\n",
       "      <th>Cuisine Style</th>\n",
       "      <th>Ranking</th>\n",
       "      <th>Price Range</th>\n",
       "      <th>Number of Reviews</th>\n",
       "      <th>Reviews</th>\n",
       "      <th>URL_TA</th>\n",
       "      <th>ID_TA</th>\n",
       "      <th>sample</th>\n",
       "      <th>...</th>\n",
       "      <th>purchasing_power</th>\n",
       "      <th>quality_rest</th>\n",
       "      <th>cuisine_style_NAN</th>\n",
       "      <th>num_cuisines</th>\n",
       "      <th>ranking_city</th>\n",
       "      <th>price_range_NAN</th>\n",
       "      <th>purchasing_range</th>\n",
       "      <th>number_of_reviews_NAN</th>\n",
       "      <th>review_NAN</th>\n",
       "      <th>date_review</th>\n",
       "    </tr>\n",
       "  </thead>\n",
       "  <tbody>\n",
       "    <tr>\n",
       "      <th>34618</th>\n",
       "      <td>1425.0</td>\n",
       "      <td>Edinburgh</td>\n",
       "      <td>[Chinese]</td>\n",
       "      <td>1426.0</td>\n",
       "      <td>0.0</td>\n",
       "      <td>9.0</td>\n",
       "      <td>[['Limited late night menu but did their best....</td>\n",
       "      <td>/Restaurant_Review-g186525-d6678681-Reviews-Sz...</td>\n",
       "      <td>d6678681</td>\n",
       "      <td>1</td>\n",
       "      <td>...</td>\n",
       "      <td>16</td>\n",
       "      <td>3.834672</td>\n",
       "      <td>0</td>\n",
       "      <td>1</td>\n",
       "      <td>1.914094</td>\n",
       "      <td>1</td>\n",
       "      <td>0.0</td>\n",
       "      <td>0</td>\n",
       "      <td>0</td>\n",
       "      <td>[09/09/2015, 08/25/2015]</td>\n",
       "    </tr>\n",
       "    <tr>\n",
       "      <th>17667</th>\n",
       "      <td>3469.0</td>\n",
       "      <td>Barcelona</td>\n",
       "      <td>[Other]</td>\n",
       "      <td>3470.0</td>\n",
       "      <td>0.0</td>\n",
       "      <td>9.0</td>\n",
       "      <td>[['Excelent tapas!'], ['10/22/2016']]</td>\n",
       "      <td>/Restaurant_Review-g187497-d11711653-Reviews-V...</td>\n",
       "      <td>d11711653</td>\n",
       "      <td>1</td>\n",
       "      <td>...</td>\n",
       "      <td>30</td>\n",
       "      <td>25.112804</td>\n",
       "      <td>1</td>\n",
       "      <td>1</td>\n",
       "      <td>1.022091</td>\n",
       "      <td>1</td>\n",
       "      <td>0.0</td>\n",
       "      <td>0</td>\n",
       "      <td>0</td>\n",
       "      <td>[10/22/2016]</td>\n",
       "    </tr>\n",
       "    <tr>\n",
       "      <th>29941</th>\n",
       "      <td>369.0</td>\n",
       "      <td>Lisbon</td>\n",
       "      <td>[Seafood, European, Portuguese, Mediterranean,...</td>\n",
       "      <td>370.0</td>\n",
       "      <td>2.0</td>\n",
       "      <td>103.0</td>\n",
       "      <td>[['Friendly staff, Good Food', 'Amazing Place'...</td>\n",
       "      <td>/Restaurant_Review-g189158-d12818529-Reviews-C...</td>\n",
       "      <td>d12818529</td>\n",
       "      <td>1</td>\n",
       "      <td>...</td>\n",
       "      <td>48</td>\n",
       "      <td>10.606646</td>\n",
       "      <td>0</td>\n",
       "      <td>6</td>\n",
       "      <td>0.224651</td>\n",
       "      <td>0</td>\n",
       "      <td>24.0</td>\n",
       "      <td>0</td>\n",
       "      <td>0</td>\n",
       "      <td>[02/22/2018, 02/17/2018]</td>\n",
       "    </tr>\n",
       "  </tbody>\n",
       "</table>\n",
       "<p>3 rows × 25 columns</p>\n",
       "</div>"
      ],
      "text/plain": [
       "       Restaurant_id       City  \\\n",
       "34618         1425.0  Edinburgh   \n",
       "17667         3469.0  Barcelona   \n",
       "29941          369.0     Lisbon   \n",
       "\n",
       "                                           Cuisine Style  Ranking  \\\n",
       "34618                                          [Chinese]   1426.0   \n",
       "17667                                            [Other]   3470.0   \n",
       "29941  [Seafood, European, Portuguese, Mediterranean,...    370.0   \n",
       "\n",
       "       Price Range  Number of Reviews  \\\n",
       "34618          0.0                9.0   \n",
       "17667          0.0                9.0   \n",
       "29941          2.0              103.0   \n",
       "\n",
       "                                                 Reviews  \\\n",
       "34618  [['Limited late night menu but did their best....   \n",
       "17667              [['Excelent tapas!'], ['10/22/2016']]   \n",
       "29941  [['Friendly staff, Good Food', 'Amazing Place'...   \n",
       "\n",
       "                                                  URL_TA      ID_TA  sample  \\\n",
       "34618  /Restaurant_Review-g186525-d6678681-Reviews-Sz...   d6678681       1   \n",
       "17667  /Restaurant_Review-g187497-d11711653-Reviews-V...  d11711653       1   \n",
       "29941  /Restaurant_Review-g189158-d12818529-Reviews-C...  d12818529       1   \n",
       "\n",
       "       ...  purchasing_power  quality_rest  cuisine_style_NAN  num_cuisines  \\\n",
       "34618  ...                16      3.834672                  0             1   \n",
       "17667  ...                30     25.112804                  1             1   \n",
       "29941  ...                48     10.606646                  0             6   \n",
       "\n",
       "       ranking_city  price_range_NAN  purchasing_range  number_of_reviews_NAN  \\\n",
       "34618      1.914094                1               0.0                      0   \n",
       "17667      1.022091                1               0.0                      0   \n",
       "29941      0.224651                0              24.0                      0   \n",
       "\n",
       "       review_NAN               date_review  \n",
       "34618           0  [09/09/2015, 08/25/2015]  \n",
       "17667           0              [10/22/2016]  \n",
       "29941           0  [02/22/2018, 02/17/2018]  \n",
       "\n",
       "[3 rows x 25 columns]"
      ]
     },
     "execution_count": 75,
     "metadata": {},
     "output_type": "execute_result"
    }
   ],
   "source": [
    "data.sample(3)"
   ]
  },
  {
   "cell_type": "code",
   "execution_count": 76,
   "metadata": {},
   "outputs": [
    {
     "data": {
      "text/plain": [
       "0    41888\n",
       "1     8112\n",
       "Name: review_NAN, dtype: int64"
      ]
     },
     "execution_count": 76,
     "metadata": {},
     "output_type": "execute_result"
    }
   ],
   "source": [
    "data.review_NAN.value_counts()"
   ]
  },
  {
   "cell_type": "code",
   "execution_count": 77,
   "metadata": {},
   "outputs": [],
   "source": [
    "data['review_NAN'] = data.apply(lambda x: (1 if x.Reviews == '[[], []]' else 0)\\\n",
    "                             if pd.isna(x.review_NAN) else x.review_NAN , axis=1)"
   ]
  },
  {
   "cell_type": "markdown",
   "metadata": {},
   "source": [
    "из даты можно добавить два признака - дней между отзывами(between_rev) и дней с последнего отзыва до сегодняшнего дня(till_now)"
   ]
  },
  {
   "cell_type": "code",
   "execution_count": 78,
   "metadata": {},
   "outputs": [],
   "source": [
    "data['between_rev'] = data.date_review.apply(lambda x: None if x == [] else pd.to_datetime(x).max() - pd.to_datetime(x).min())"
   ]
  },
  {
   "cell_type": "code",
   "execution_count": 79,
   "metadata": {},
   "outputs": [
    {
     "data": {
      "text/html": [
       "<div>\n",
       "<style scoped>\n",
       "    .dataframe tbody tr th:only-of-type {\n",
       "        vertical-align: middle;\n",
       "    }\n",
       "\n",
       "    .dataframe tbody tr th {\n",
       "        vertical-align: top;\n",
       "    }\n",
       "\n",
       "    .dataframe thead th {\n",
       "        text-align: right;\n",
       "    }\n",
       "</style>\n",
       "<table border=\"1\" class=\"dataframe\">\n",
       "  <thead>\n",
       "    <tr style=\"text-align: right;\">\n",
       "      <th></th>\n",
       "      <th>Restaurant_id</th>\n",
       "      <th>City</th>\n",
       "      <th>Cuisine Style</th>\n",
       "      <th>Ranking</th>\n",
       "      <th>Price Range</th>\n",
       "      <th>Number of Reviews</th>\n",
       "      <th>Reviews</th>\n",
       "      <th>URL_TA</th>\n",
       "      <th>ID_TA</th>\n",
       "      <th>sample</th>\n",
       "      <th>...</th>\n",
       "      <th>quality_rest</th>\n",
       "      <th>cuisine_style_NAN</th>\n",
       "      <th>num_cuisines</th>\n",
       "      <th>ranking_city</th>\n",
       "      <th>price_range_NAN</th>\n",
       "      <th>purchasing_range</th>\n",
       "      <th>number_of_reviews_NAN</th>\n",
       "      <th>review_NAN</th>\n",
       "      <th>date_review</th>\n",
       "      <th>between_rev</th>\n",
       "    </tr>\n",
       "  </thead>\n",
       "  <tbody>\n",
       "    <tr>\n",
       "      <th>18709</th>\n",
       "      <td>3582.0</td>\n",
       "      <td>Lisbon</td>\n",
       "      <td>[Other]</td>\n",
       "      <td>3586.0</td>\n",
       "      <td>0.0</td>\n",
       "      <td>18.0</td>\n",
       "      <td>[['Nice place'], ['03/04/2017']]</td>\n",
       "      <td>/Restaurant_Review-g189158-d10846196-Reviews-A...</td>\n",
       "      <td>d10846196</td>\n",
       "      <td>1</td>\n",
       "      <td>...</td>\n",
       "      <td>10.606646</td>\n",
       "      <td>1</td>\n",
       "      <td>1</td>\n",
       "      <td>2.177292</td>\n",
       "      <td>1</td>\n",
       "      <td>0.0</td>\n",
       "      <td>0</td>\n",
       "      <td>0</td>\n",
       "      <td>[03/04/2017]</td>\n",
       "      <td>0 days</td>\n",
       "    </tr>\n",
       "    <tr>\n",
       "      <th>40219</th>\n",
       "      <td>8514.0</td>\n",
       "      <td>Paris</td>\n",
       "      <td>[Other]</td>\n",
       "      <td>8516.0</td>\n",
       "      <td>0.0</td>\n",
       "      <td>3.0</td>\n",
       "      <td>[[], []]</td>\n",
       "      <td>/Restaurant_Review-g187147-d12610491-Reviews-L...</td>\n",
       "      <td>d12610491</td>\n",
       "      <td>1</td>\n",
       "      <td>...</td>\n",
       "      <td>47.518282</td>\n",
       "      <td>1</td>\n",
       "      <td>1</td>\n",
       "      <td>1.394237</td>\n",
       "      <td>1</td>\n",
       "      <td>0.0</td>\n",
       "      <td>0</td>\n",
       "      <td>1</td>\n",
       "      <td>[]</td>\n",
       "      <td>NaT</td>\n",
       "    </tr>\n",
       "    <tr>\n",
       "      <th>43372</th>\n",
       "      <td>2543.0</td>\n",
       "      <td>London</td>\n",
       "      <td>[Bar, British, Pub, Vegetarian Friendly]</td>\n",
       "      <td>2548.0</td>\n",
       "      <td>2.0</td>\n",
       "      <td>243.0</td>\n",
       "      <td>[['Quick drink', 'Good Choice of Ale'], ['01/0...</td>\n",
       "      <td>/Restaurant_Review-g186338-d3543459-Reviews-Wo...</td>\n",
       "      <td>d3543459</td>\n",
       "      <td>1</td>\n",
       "      <td>...</td>\n",
       "      <td>57.636218</td>\n",
       "      <td>0</td>\n",
       "      <td>4</td>\n",
       "      <td>0.354233</td>\n",
       "      <td>0</td>\n",
       "      <td>12.0</td>\n",
       "      <td>0</td>\n",
       "      <td>0</td>\n",
       "      <td>[01/06/2018, 09/01/2017]</td>\n",
       "      <td>127 days</td>\n",
       "    </tr>\n",
       "  </tbody>\n",
       "</table>\n",
       "<p>3 rows × 26 columns</p>\n",
       "</div>"
      ],
      "text/plain": [
       "       Restaurant_id    City                             Cuisine Style  \\\n",
       "18709         3582.0  Lisbon                                   [Other]   \n",
       "40219         8514.0   Paris                                   [Other]   \n",
       "43372         2543.0  London  [Bar, British, Pub, Vegetarian Friendly]   \n",
       "\n",
       "       Ranking  Price Range  Number of Reviews  \\\n",
       "18709   3586.0          0.0               18.0   \n",
       "40219   8516.0          0.0                3.0   \n",
       "43372   2548.0          2.0              243.0   \n",
       "\n",
       "                                                 Reviews  \\\n",
       "18709                   [['Nice place'], ['03/04/2017']]   \n",
       "40219                                           [[], []]   \n",
       "43372  [['Quick drink', 'Good Choice of Ale'], ['01/0...   \n",
       "\n",
       "                                                  URL_TA      ID_TA  sample  \\\n",
       "18709  /Restaurant_Review-g189158-d10846196-Reviews-A...  d10846196       1   \n",
       "40219  /Restaurant_Review-g187147-d12610491-Reviews-L...  d12610491       1   \n",
       "43372  /Restaurant_Review-g186338-d3543459-Reviews-Wo...   d3543459       1   \n",
       "\n",
       "       ...  quality_rest  cuisine_style_NAN  num_cuisines  ranking_city  \\\n",
       "18709  ...     10.606646                  1             1      2.177292   \n",
       "40219  ...     47.518282                  1             1      1.394237   \n",
       "43372  ...     57.636218                  0             4      0.354233   \n",
       "\n",
       "       price_range_NAN  purchasing_range  number_of_reviews_NAN  review_NAN  \\\n",
       "18709                1               0.0                      0           0   \n",
       "40219                1               0.0                      0           1   \n",
       "43372                0              12.0                      0           0   \n",
       "\n",
       "                    date_review  between_rev  \n",
       "18709              [03/04/2017]       0 days  \n",
       "40219                        []          NaT  \n",
       "43372  [01/06/2018, 09/01/2017]     127 days  \n",
       "\n",
       "[3 rows x 26 columns]"
      ]
     },
     "execution_count": 79,
     "metadata": {},
     "output_type": "execute_result"
    }
   ],
   "source": [
    "data.sample(3)"
   ]
  },
  {
   "cell_type": "code",
   "execution_count": 80,
   "metadata": {},
   "outputs": [
    {
     "data": {
      "text/plain": [
       "count                       41888\n",
       "mean     123 days 05:05:55.462184\n",
       "std      212 days 14:08:22.315988\n",
       "min               0 days 00:00:00\n",
       "25%               8 days 00:00:00\n",
       "50%              49 days 00:00:00\n",
       "75%             148 days 00:00:00\n",
       "max            3296 days 00:00:00\n",
       "Name: between_rev, dtype: object"
      ]
     },
     "execution_count": 80,
     "metadata": {},
     "output_type": "execute_result"
    }
   ],
   "source": [
    "data.between_rev.describe()"
   ]
  },
  {
   "cell_type": "markdown",
   "metadata": {},
   "source": [
    "большой разброс данных, надор посмотреть выбросы, для этого переведу дату в число дней"
   ]
  },
  {
   "cell_type": "code",
   "execution_count": 81,
   "metadata": {},
   "outputs": [],
   "source": [
    "data['between_rev'] = data['between_rev'].apply(lambda x: x.days)"
   ]
  },
  {
   "cell_type": "code",
   "execution_count": 82,
   "metadata": {},
   "outputs": [
    {
     "name": "stdout",
     "output_type": "stream",
     "text": [
      "Q1: 8.0\n",
      "Q3: 148.0\n",
      "IQR: 140.0\n",
      "Граница выбросов: [-202.0,358.0]\n"
     ]
    }
   ],
   "source": [
    "IQR('between_rev')"
   ]
  },
  {
   "cell_type": "code",
   "execution_count": 83,
   "metadata": {},
   "outputs": [
    {
     "data": {
      "text/plain": [
       "3492"
      ]
     },
     "execution_count": 83,
     "metadata": {},
     "output_type": "execute_result"
    }
   ],
   "source": [
    "sum(data.between_rev > 358) # смотрю сколько значений выходит за верхний перцинтль"
   ]
  },
  {
   "cell_type": "code",
   "execution_count": 84,
   "metadata": {},
   "outputs": [
    {
     "data": {
      "text/plain": [
       "<matplotlib.axes._subplots.AxesSubplot at 0x7f7f4d7f6198>"
      ]
     },
     "execution_count": 84,
     "metadata": {},
     "output_type": "execute_result"
    },
    {
     "data": {
      "image/png": "[encoded data removed]",
      "text/plain": [
       "<Figure size 432x288 with 1 Axes>"
      ]
     },
     "metadata": {
      "needs_background": "light"
     },
     "output_type": "display_data"
    }
   ],
   "source": [
    "data.between_rev.hist(bins=100) # видно по распределению что хвост идет до 1250"
   ]
  },
  {
   "cell_type": "code",
   "execution_count": 85,
   "metadata": {},
   "outputs": [
    {
     "data": {
      "text/plain": [
       "251"
      ]
     },
     "execution_count": 85,
     "metadata": {},
     "output_type": "execute_result"
    }
   ],
   "source": [
    "sum(data.between_rev > 1250) # посмотрю сколько значений за пределами 1250"
   ]
  },
  {
   "cell_type": "code",
   "execution_count": 86,
   "metadata": {},
   "outputs": [],
   "source": [
    "data.between_rev = data.between_rev.apply(lambda x: 1250 if x > 1250 else x) # заменю на 1250 все значения выше 1250"
   ]
  },
  {
   "cell_type": "code",
   "execution_count": 87,
   "metadata": {},
   "outputs": [
    {
     "data": {
      "text/plain": [
       "count    41888.000000\n",
       "mean       120.638393\n",
       "std        192.407103\n",
       "min          0.000000\n",
       "25%          8.000000\n",
       "50%         49.000000\n",
       "75%        148.000000\n",
       "max       1250.000000\n",
       "Name: between_rev, dtype: float64"
      ]
     },
     "execution_count": 87,
     "metadata": {},
     "output_type": "execute_result"
    }
   ],
   "source": [
    "data.between_rev.describe()"
   ]
  },
  {
   "cell_type": "code",
   "execution_count": 88,
   "metadata": {},
   "outputs": [
    {
     "data": {
      "text/plain": [
       "<matplotlib.axes._subplots.AxesSubplot at 0x7f7f4d6d25f8>"
      ]
     },
     "execution_count": 88,
     "metadata": {},
     "output_type": "execute_result"
    },
    {
     "data": {
      "image/png": "[encoded data removed]",
      "text/plain": [
       "<Figure size 432x288 with 1 Axes>"
      ]
     },
     "metadata": {
      "needs_background": "light"
     },
     "output_type": "display_data"
    }
   ],
   "source": [
    "data.between_rev.hist(bins=100)"
   ]
  },
  {
   "cell_type": "code",
   "execution_count": 89,
   "metadata": {},
   "outputs": [
    {
     "data": {
      "text/plain": [
       "8112"
      ]
     },
     "execution_count": 89,
     "metadata": {},
     "output_type": "execute_result"
    }
   ],
   "source": [
    "data.between_rev.isnull().sum() # заменю пропуски медианой"
   ]
  },
  {
   "cell_type": "code",
   "execution_count": 90,
   "metadata": {},
   "outputs": [],
   "source": [
    "data.between_rev = data.between_rev.fillna(data.between_rev.median())"
   ]
  },
  {
   "cell_type": "markdown",
   "metadata": {},
   "source": [
    "создам следующий новый признак till_now - дней с последнего отзыва до сегодня"
   ]
  },
  {
   "cell_type": "code",
   "execution_count": 91,
   "metadata": {},
   "outputs": [],
   "source": [
    "data['till_now'] = data.date_review.apply(lambda x: None if x == [] else pd.datetime.now() - pd.to_datetime(x).max())"
   ]
  },
  {
   "cell_type": "code",
   "execution_count": 92,
   "metadata": {},
   "outputs": [],
   "source": [
    "data['till_now'] = data['till_now'].apply(lambda x: x.days) # заменю дату на колич дней"
   ]
  },
  {
   "cell_type": "code",
   "execution_count": 93,
   "metadata": {},
   "outputs": [
    {
     "data": {
      "text/plain": [
       "8112"
      ]
     },
     "execution_count": 93,
     "metadata": {},
     "output_type": "execute_result"
    }
   ],
   "source": [
    "data.till_now.isnull().sum()"
   ]
  },
  {
   "cell_type": "code",
   "execution_count": 94,
   "metadata": {},
   "outputs": [
    {
     "data": {
      "text/plain": [
       "count    41888.000000\n",
       "mean      1398.871276\n",
       "std        382.403027\n",
       "min       1108.000000\n",
       "25%       1187.000000\n",
       "50%       1261.500000\n",
       "75%       1445.000000\n",
       "max      18696.000000\n",
       "Name: till_now, dtype: float64"
      ]
     },
     "execution_count": 94,
     "metadata": {},
     "output_type": "execute_result"
    }
   ],
   "source": [
    "data.till_now.describe()"
   ]
  },
  {
   "cell_type": "code",
   "execution_count": 95,
   "metadata": {},
   "outputs": [
    {
     "name": "stdout",
     "output_type": "stream",
     "text": [
      "Q1: 1187.0\n",
      "Q3: 1445.0\n",
      "IQR: 258.0\n",
      "Граница выбросов: [800.0,1832.0]\n"
     ]
    }
   ],
   "source": [
    "IQR('till_now') # посмотрю выбросы"
   ]
  },
  {
   "cell_type": "code",
   "execution_count": 96,
   "metadata": {},
   "outputs": [
    {
     "data": {
      "text/plain": [
       "4048"
      ]
     },
     "execution_count": 96,
     "metadata": {},
     "output_type": "execute_result"
    }
   ],
   "source": [
    "sum(data.till_now > 1827) # смотрю сколько значений выходит за верхний перцинтль"
   ]
  },
  {
   "cell_type": "code",
   "execution_count": 97,
   "metadata": {},
   "outputs": [
    {
     "data": {
      "text/plain": [
       "<matplotlib.axes._subplots.AxesSubplot at 0x7f7f4d5a7518>"
      ]
     },
     "execution_count": 97,
     "metadata": {},
     "output_type": "execute_result"
    },
    {
     "data": {
      "image/png": "[encoded data removed]",
      "text/plain": [
       "<Figure size 432x288 with 1 Axes>"
      ]
     },
     "metadata": {
      "needs_background": "light"
     },
     "output_type": "display_data"
    }
   ],
   "source": [
    "data.till_now.hist(bins=100) # видно по распределению что хвост гдето идет до 3000"
   ]
  },
  {
   "cell_type": "code",
   "execution_count": 98,
   "metadata": {},
   "outputs": [
    {
     "data": {
      "text/plain": [
       "348"
      ]
     },
     "execution_count": 98,
     "metadata": {},
     "output_type": "execute_result"
    }
   ],
   "source": [
    "sum(data.till_now > 3000) # посмотрю сколько значений за пределами 3000"
   ]
  },
  {
   "cell_type": "code",
   "execution_count": 99,
   "metadata": {},
   "outputs": [],
   "source": [
    "data.till_now = data.till_now.apply(lambda x: 3000 if x > 3000 else x) # заменю значения более 3000 на 3000"
   ]
  },
  {
   "cell_type": "code",
   "execution_count": 100,
   "metadata": {},
   "outputs": [
    {
     "data": {
      "text/plain": [
       "count    41888.000000\n",
       "mean      1393.970039\n",
       "std        337.977259\n",
       "min       1108.000000\n",
       "25%       1187.000000\n",
       "50%       1261.500000\n",
       "75%       1445.000000\n",
       "max       3000.000000\n",
       "Name: till_now, dtype: float64"
      ]
     },
     "execution_count": 100,
     "metadata": {},
     "output_type": "execute_result"
    }
   ],
   "source": [
    "data.till_now.describe()"
   ]
  },
  {
   "cell_type": "code",
   "execution_count": 101,
   "metadata": {},
   "outputs": [
    {
     "data": {
      "text/plain": [
       "<matplotlib.axes._subplots.AxesSubplot at 0x7f7f4d48c128>"
      ]
     },
     "execution_count": 101,
     "metadata": {},
     "output_type": "execute_result"
    },
    {
     "data": {
      "image/png": "[encoded data removed]",
      "text/plain": [
       "<Figure size 432x288 with 1 Axes>"
      ]
     },
     "metadata": {
      "needs_background": "light"
     },
     "output_type": "display_data"
    }
   ],
   "source": [
    "data.till_now.hist(bins=100)"
   ]
  },
  {
   "cell_type": "code",
   "execution_count": 102,
   "metadata": {},
   "outputs": [
    {
     "data": {
      "text/plain": [
       "8112"
      ]
     },
     "execution_count": 102,
     "metadata": {},
     "output_type": "execute_result"
    }
   ],
   "source": [
    "data.till_now.isnull().sum() # пропуски"
   ]
  },
  {
   "cell_type": "code",
   "execution_count": 103,
   "metadata": {},
   "outputs": [],
   "source": [
    "data.till_now = data.till_now.fillna(data.till_now.mean()) # заполню средним"
   ]
  },
  {
   "cell_type": "code",
   "execution_count": 104,
   "metadata": {},
   "outputs": [
    {
     "data": {
      "text/html": [
       "<div>\n",
       "<style scoped>\n",
       "    .dataframe tbody tr th:only-of-type {\n",
       "        vertical-align: middle;\n",
       "    }\n",
       "\n",
       "    .dataframe tbody tr th {\n",
       "        vertical-align: top;\n",
       "    }\n",
       "\n",
       "    .dataframe thead th {\n",
       "        text-align: right;\n",
       "    }\n",
       "</style>\n",
       "<table border=\"1\" class=\"dataframe\">\n",
       "  <thead>\n",
       "    <tr style=\"text-align: right;\">\n",
       "      <th></th>\n",
       "      <th>Restaurant_id</th>\n",
       "      <th>City</th>\n",
       "      <th>Cuisine Style</th>\n",
       "      <th>Ranking</th>\n",
       "      <th>Price Range</th>\n",
       "      <th>Number of Reviews</th>\n",
       "      <th>Reviews</th>\n",
       "      <th>URL_TA</th>\n",
       "      <th>ID_TA</th>\n",
       "      <th>sample</th>\n",
       "      <th>...</th>\n",
       "      <th>cuisine_style_NAN</th>\n",
       "      <th>num_cuisines</th>\n",
       "      <th>ranking_city</th>\n",
       "      <th>price_range_NAN</th>\n",
       "      <th>purchasing_range</th>\n",
       "      <th>number_of_reviews_NAN</th>\n",
       "      <th>review_NAN</th>\n",
       "      <th>date_review</th>\n",
       "      <th>between_rev</th>\n",
       "      <th>till_now</th>\n",
       "    </tr>\n",
       "  </thead>\n",
       "  <tbody>\n",
       "    <tr>\n",
       "      <th>26191</th>\n",
       "      <td>1202.0</td>\n",
       "      <td>Vienna</td>\n",
       "      <td>[Asian]</td>\n",
       "      <td>1203.0</td>\n",
       "      <td>2.0</td>\n",
       "      <td>16.0</td>\n",
       "      <td>[['Amazing', 'Excellent lunch'], ['09/10/2017'...</td>\n",
       "      <td>/Restaurant_Review-g190454-d5039542-Reviews-Mu...</td>\n",
       "      <td>d5039542</td>\n",
       "      <td>1</td>\n",
       "      <td>...</td>\n",
       "      <td>0</td>\n",
       "      <td>1</td>\n",
       "      <td>0.833680</td>\n",
       "      <td>0</td>\n",
       "      <td>10.5</td>\n",
       "      <td>0</td>\n",
       "      <td>0</td>\n",
       "      <td>[09/10/2017, 11/26/2016]</td>\n",
       "      <td>288.0</td>\n",
       "      <td>1277.0</td>\n",
       "    </tr>\n",
       "    <tr>\n",
       "      <th>12533</th>\n",
       "      <td>2920.0</td>\n",
       "      <td>Milan</td>\n",
       "      <td>[Italian, Pizza]</td>\n",
       "      <td>2922.0</td>\n",
       "      <td>1.0</td>\n",
       "      <td>24.0</td>\n",
       "      <td>[['Nice authentic local place', 'Overpriced'],...</td>\n",
       "      <td>/Restaurant_Review-g187849-d5808445-Reviews-Ri...</td>\n",
       "      <td>d5808445</td>\n",
       "      <td>1</td>\n",
       "      <td>...</td>\n",
       "      <td>0</td>\n",
       "      <td>2</td>\n",
       "      <td>1.084633</td>\n",
       "      <td>0</td>\n",
       "      <td>40.0</td>\n",
       "      <td>0</td>\n",
       "      <td>0</td>\n",
       "      <td>[10/02/2015, 06/09/2015]</td>\n",
       "      <td>115.0</td>\n",
       "      <td>1986.0</td>\n",
       "    </tr>\n",
       "    <tr>\n",
       "      <th>19744</th>\n",
       "      <td>1994.0</td>\n",
       "      <td>Warsaw</td>\n",
       "      <td>[Other]</td>\n",
       "      <td>1995.0</td>\n",
       "      <td>0.0</td>\n",
       "      <td>10.0</td>\n",
       "      <td>[['Food OK, Service slimy', 'Good food, great ...</td>\n",
       "      <td>/Restaurant_Review-g274856-d7606394-Reviews-Pr...</td>\n",
       "      <td>d7606394</td>\n",
       "      <td>1</td>\n",
       "      <td>...</td>\n",
       "      <td>1</td>\n",
       "      <td>1</td>\n",
       "      <td>2.156757</td>\n",
       "      <td>1</td>\n",
       "      <td>0.0</td>\n",
       "      <td>0</td>\n",
       "      <td>0</td>\n",
       "      <td>[10/10/2016, 09/20/2015]</td>\n",
       "      <td>386.0</td>\n",
       "      <td>1612.0</td>\n",
       "    </tr>\n",
       "  </tbody>\n",
       "</table>\n",
       "<p>3 rows × 27 columns</p>\n",
       "</div>"
      ],
      "text/plain": [
       "       Restaurant_id    City     Cuisine Style  Ranking  Price Range  \\\n",
       "26191         1202.0  Vienna           [Asian]   1203.0          2.0   \n",
       "12533         2920.0   Milan  [Italian, Pizza]   2922.0          1.0   \n",
       "19744         1994.0  Warsaw           [Other]   1995.0          0.0   \n",
       "\n",
       "       Number of Reviews                                            Reviews  \\\n",
       "26191               16.0  [['Amazing', 'Excellent lunch'], ['09/10/2017'...   \n",
       "12533               24.0  [['Nice authentic local place', 'Overpriced'],...   \n",
       "19744               10.0  [['Food OK, Service slimy', 'Good food, great ...   \n",
       "\n",
       "                                                  URL_TA     ID_TA  sample  \\\n",
       "26191  /Restaurant_Review-g190454-d5039542-Reviews-Mu...  d5039542       1   \n",
       "12533  /Restaurant_Review-g187849-d5808445-Reviews-Ri...  d5808445       1   \n",
       "19744  /Restaurant_Review-g274856-d7606394-Reviews-Pr...  d7606394       1   \n",
       "\n",
       "       ...  cuisine_style_NAN  num_cuisines  ranking_city  price_range_NAN  \\\n",
       "26191  ...                  0             1      0.833680                0   \n",
       "12533  ...                  0             2      1.084633                0   \n",
       "19744  ...                  1             1      2.156757                1   \n",
       "\n",
       "       purchasing_range  number_of_reviews_NAN  review_NAN  \\\n",
       "26191              10.5                      0           0   \n",
       "12533              40.0                      0           0   \n",
       "19744               0.0                      0           0   \n",
       "\n",
       "                    date_review  between_rev  till_now  \n",
       "26191  [09/10/2017, 11/26/2016]        288.0    1277.0  \n",
       "12533  [10/02/2015, 06/09/2015]        115.0    1986.0  \n",
       "19744  [10/10/2016, 09/20/2015]        386.0    1612.0  \n",
       "\n",
       "[3 rows x 27 columns]"
      ]
     },
     "execution_count": 104,
     "metadata": {},
     "output_type": "execute_result"
    }
   ],
   "source": [
    "data.sample(3)"
   ]
  },
  {
   "cell_type": "markdown",
   "metadata": {},
   "source": [
    "## 'URL_TA' - урл ресторана и 'ID_TA' - айди ресторана"
   ]
  },
  {
   "cell_type": "code",
   "execution_count": 105,
   "metadata": {},
   "outputs": [
    {
     "data": {
      "text/html": [
       "<div>\n",
       "<style scoped>\n",
       "    .dataframe tbody tr th:only-of-type {\n",
       "        vertical-align: middle;\n",
       "    }\n",
       "\n",
       "    .dataframe tbody tr th {\n",
       "        vertical-align: top;\n",
       "    }\n",
       "\n",
       "    .dataframe thead th {\n",
       "        text-align: right;\n",
       "    }\n",
       "</style>\n",
       "<table border=\"1\" class=\"dataframe\">\n",
       "  <thead>\n",
       "    <tr style=\"text-align: right;\">\n",
       "      <th></th>\n",
       "      <th>Restaurant_id</th>\n",
       "      <th>City</th>\n",
       "      <th>Cuisine Style</th>\n",
       "      <th>Ranking</th>\n",
       "      <th>Price Range</th>\n",
       "      <th>Number of Reviews</th>\n",
       "      <th>Reviews</th>\n",
       "      <th>URL_TA</th>\n",
       "      <th>ID_TA</th>\n",
       "      <th>sample</th>\n",
       "      <th>...</th>\n",
       "      <th>cuisine_style_NAN</th>\n",
       "      <th>num_cuisines</th>\n",
       "      <th>ranking_city</th>\n",
       "      <th>price_range_NAN</th>\n",
       "      <th>purchasing_range</th>\n",
       "      <th>number_of_reviews_NAN</th>\n",
       "      <th>review_NAN</th>\n",
       "      <th>date_review</th>\n",
       "      <th>between_rev</th>\n",
       "      <th>till_now</th>\n",
       "    </tr>\n",
       "  </thead>\n",
       "  <tbody>\n",
       "    <tr>\n",
       "      <th>0</th>\n",
       "      <td>0.0</td>\n",
       "      <td>Paris</td>\n",
       "      <td>[Bar, Pub]</td>\n",
       "      <td>12963.0</td>\n",
       "      <td>2.0</td>\n",
       "      <td>4.0</td>\n",
       "      <td>[[], []]</td>\n",
       "      <td>/Restaurant_Review-g187147-d10746918-Reviews-L...</td>\n",
       "      <td>d10746918</td>\n",
       "      <td>0</td>\n",
       "      <td>...</td>\n",
       "      <td>0</td>\n",
       "      <td>2</td>\n",
       "      <td>2.122299</td>\n",
       "      <td>0</td>\n",
       "      <td>11.0</td>\n",
       "      <td>0</td>\n",
       "      <td>1</td>\n",
       "      <td>[]</td>\n",
       "      <td>49.0</td>\n",
       "      <td>1393.970039</td>\n",
       "    </tr>\n",
       "    <tr>\n",
       "      <th>1</th>\n",
       "      <td>1.0</td>\n",
       "      <td>Helsinki</td>\n",
       "      <td>[European, Scandinavian, Gluten Free Options, ...</td>\n",
       "      <td>106.0</td>\n",
       "      <td>2.0</td>\n",
       "      <td>97.0</td>\n",
       "      <td>[['Very good reviews!', 'Fine dining in Hakani...</td>\n",
       "      <td>/Restaurant_Review-g189934-d6674944-Reviews-Ra...</td>\n",
       "      <td>d6674944</td>\n",
       "      <td>0</td>\n",
       "      <td>...</td>\n",
       "      <td>0</td>\n",
       "      <td>5</td>\n",
       "      <td>0.223158</td>\n",
       "      <td>0</td>\n",
       "      <td>4.5</td>\n",
       "      <td>0</td>\n",
       "      <td>0</td>\n",
       "      <td>[12/05/2017, 10/29/2017]</td>\n",
       "      <td>37.0</td>\n",
       "      <td>1191.000000</td>\n",
       "    </tr>\n",
       "    <tr>\n",
       "      <th>2</th>\n",
       "      <td>2.0</td>\n",
       "      <td>Edinburgh</td>\n",
       "      <td>[Vegetarian Friendly]</td>\n",
       "      <td>810.0</td>\n",
       "      <td>2.0</td>\n",
       "      <td>28.0</td>\n",
       "      <td>[['Better than the Links', 'Ivy Black'], ['12/...</td>\n",
       "      <td>/Restaurant_Review-g186525-d13129638-Reviews-B...</td>\n",
       "      <td>d13129638</td>\n",
       "      <td>0</td>\n",
       "      <td>...</td>\n",
       "      <td>0</td>\n",
       "      <td>1</td>\n",
       "      <td>1.087248</td>\n",
       "      <td>0</td>\n",
       "      <td>8.0</td>\n",
       "      <td>0</td>\n",
       "      <td>0</td>\n",
       "      <td>[12/28/2017, 12/06/2017]</td>\n",
       "      <td>22.0</td>\n",
       "      <td>1168.000000</td>\n",
       "    </tr>\n",
       "    <tr>\n",
       "      <th>3</th>\n",
       "      <td>3.0</td>\n",
       "      <td>London</td>\n",
       "      <td>[Italian, Mediterranean, European, Vegetarian ...</td>\n",
       "      <td>1669.0</td>\n",
       "      <td>3.0</td>\n",
       "      <td>202.0</td>\n",
       "      <td>[['Most exquisite', 'Delicious and authentic']...</td>\n",
       "      <td>/Restaurant_Review-g186338-d680417-Reviews-Qui...</td>\n",
       "      <td>d680417</td>\n",
       "      <td>0</td>\n",
       "      <td>...</td>\n",
       "      <td>0</td>\n",
       "      <td>5</td>\n",
       "      <td>0.232031</td>\n",
       "      <td>0</td>\n",
       "      <td>8.0</td>\n",
       "      <td>0</td>\n",
       "      <td>0</td>\n",
       "      <td>[12/06/2017, 11/22/2017]</td>\n",
       "      <td>14.0</td>\n",
       "      <td>1190.000000</td>\n",
       "    </tr>\n",
       "    <tr>\n",
       "      <th>4</th>\n",
       "      <td>4.0</td>\n",
       "      <td>Bratislava</td>\n",
       "      <td>[Italian, Mediterranean, European, Seafood, Ve...</td>\n",
       "      <td>37.0</td>\n",
       "      <td>3.0</td>\n",
       "      <td>162.0</td>\n",
       "      <td>[['Always the best in bratislava', 'Very good ...</td>\n",
       "      <td>/Restaurant_Review-g274924-d1112354-Reviews-Ma...</td>\n",
       "      <td>d1112354</td>\n",
       "      <td>0</td>\n",
       "      <td>...</td>\n",
       "      <td>0</td>\n",
       "      <td>6</td>\n",
       "      <td>0.097368</td>\n",
       "      <td>0</td>\n",
       "      <td>13.0</td>\n",
       "      <td>0</td>\n",
       "      <td>0</td>\n",
       "      <td>[02/08/2018, 01/24/2018]</td>\n",
       "      <td>15.0</td>\n",
       "      <td>1126.000000</td>\n",
       "    </tr>\n",
       "    <tr>\n",
       "      <th>...</th>\n",
       "      <td>...</td>\n",
       "      <td>...</td>\n",
       "      <td>...</td>\n",
       "      <td>...</td>\n",
       "      <td>...</td>\n",
       "      <td>...</td>\n",
       "      <td>...</td>\n",
       "      <td>...</td>\n",
       "      <td>...</td>\n",
       "      <td>...</td>\n",
       "      <td>...</td>\n",
       "      <td>...</td>\n",
       "      <td>...</td>\n",
       "      <td>...</td>\n",
       "      <td>...</td>\n",
       "      <td>...</td>\n",
       "      <td>...</td>\n",
       "      <td>...</td>\n",
       "      <td>...</td>\n",
       "      <td>...</td>\n",
       "      <td>...</td>\n",
       "    </tr>\n",
       "    <tr>\n",
       "      <th>49995</th>\n",
       "      <td>499.0</td>\n",
       "      <td>Milan</td>\n",
       "      <td>[Italian, Vegetarian Friendly, Vegan Options, ...</td>\n",
       "      <td>500.0</td>\n",
       "      <td>2.0</td>\n",
       "      <td>79.0</td>\n",
       "      <td>[['The real Italian experience!', 'Wonderful f...</td>\n",
       "      <td>/Restaurant_Review-g187849-d2104414-Reviews-Ro...</td>\n",
       "      <td>d2104414</td>\n",
       "      <td>1</td>\n",
       "      <td>...</td>\n",
       "      <td>0</td>\n",
       "      <td>4</td>\n",
       "      <td>0.185598</td>\n",
       "      <td>0</td>\n",
       "      <td>20.0</td>\n",
       "      <td>0</td>\n",
       "      <td>0</td>\n",
       "      <td>[12/16/2017, 11/12/2017]</td>\n",
       "      <td>34.0</td>\n",
       "      <td>1180.000000</td>\n",
       "    </tr>\n",
       "    <tr>\n",
       "      <th>49996</th>\n",
       "      <td>6340.0</td>\n",
       "      <td>Paris</td>\n",
       "      <td>[French, American, Bar, European, Vegetarian F...</td>\n",
       "      <td>6341.0</td>\n",
       "      <td>2.0</td>\n",
       "      <td>542.0</td>\n",
       "      <td>[['Parisian atmosphere', 'Bit pricey but inter...</td>\n",
       "      <td>/Restaurant_Review-g187147-d1800036-Reviews-La...</td>\n",
       "      <td>d1800036</td>\n",
       "      <td>1</td>\n",
       "      <td>...</td>\n",
       "      <td>0</td>\n",
       "      <td>5</td>\n",
       "      <td>1.038147</td>\n",
       "      <td>0</td>\n",
       "      <td>11.0</td>\n",
       "      <td>0</td>\n",
       "      <td>0</td>\n",
       "      <td>[12/21/2017, 12/12/2017]</td>\n",
       "      <td>9.0</td>\n",
       "      <td>1175.000000</td>\n",
       "    </tr>\n",
       "    <tr>\n",
       "      <th>49997</th>\n",
       "      <td>1649.0</td>\n",
       "      <td>Stockholm</td>\n",
       "      <td>[Japanese, Sushi]</td>\n",
       "      <td>1652.0</td>\n",
       "      <td>0.0</td>\n",
       "      <td>4.0</td>\n",
       "      <td>[['Good by swedish standards', 'A hidden jewel...</td>\n",
       "      <td>/Restaurant_Review-g189852-d947615-Reviews-Sus...</td>\n",
       "      <td>d947615</td>\n",
       "      <td>1</td>\n",
       "      <td>...</td>\n",
       "      <td>0</td>\n",
       "      <td>2</td>\n",
       "      <td>1.599226</td>\n",
       "      <td>1</td>\n",
       "      <td>0.0</td>\n",
       "      <td>0</td>\n",
       "      <td>0</td>\n",
       "      <td>[11/03/2016, 04/12/2008]</td>\n",
       "      <td>1250.0</td>\n",
       "      <td>1588.000000</td>\n",
       "    </tr>\n",
       "    <tr>\n",
       "      <th>49998</th>\n",
       "      <td>640.0</td>\n",
       "      <td>Warsaw</td>\n",
       "      <td>[Polish, European, Eastern European, Central E...</td>\n",
       "      <td>641.0</td>\n",
       "      <td>2.0</td>\n",
       "      <td>70.0</td>\n",
       "      <td>[['Underground restaurant', 'Oldest Restaurant...</td>\n",
       "      <td>/Restaurant_Review-g274856-d1100838-Reviews-Ho...</td>\n",
       "      <td>d1100838</td>\n",
       "      <td>1</td>\n",
       "      <td>...</td>\n",
       "      <td>0</td>\n",
       "      <td>5</td>\n",
       "      <td>0.692973</td>\n",
       "      <td>0</td>\n",
       "      <td>14.5</td>\n",
       "      <td>0</td>\n",
       "      <td>0</td>\n",
       "      <td>[07/11/2017, 06/18/2017]</td>\n",
       "      <td>23.0</td>\n",
       "      <td>1338.000000</td>\n",
       "    </tr>\n",
       "    <tr>\n",
       "      <th>49999</th>\n",
       "      <td>4824.0</td>\n",
       "      <td>Milan</td>\n",
       "      <td>[Spanish]</td>\n",
       "      <td>4827.0</td>\n",
       "      <td>2.0</td>\n",
       "      <td>260.0</td>\n",
       "      <td>[['Average', 'Nice an informal'], ['01/31/2016...</td>\n",
       "      <td>/Restaurant_Review-g187849-d1109020-Reviews-Ta...</td>\n",
       "      <td>d1109020</td>\n",
       "      <td>1</td>\n",
       "      <td>...</td>\n",
       "      <td>0</td>\n",
       "      <td>1</td>\n",
       "      <td>1.791759</td>\n",
       "      <td>0</td>\n",
       "      <td>20.0</td>\n",
       "      <td>0</td>\n",
       "      <td>0</td>\n",
       "      <td>[01/31/2016, 07/04/2012]</td>\n",
       "      <td>1250.0</td>\n",
       "      <td>1865.000000</td>\n",
       "    </tr>\n",
       "  </tbody>\n",
       "</table>\n",
       "<p>50000 rows × 27 columns</p>\n",
       "</div>"
      ],
      "text/plain": [
       "       Restaurant_id        City  \\\n",
       "0                0.0       Paris   \n",
       "1                1.0    Helsinki   \n",
       "2                2.0   Edinburgh   \n",
       "3                3.0      London   \n",
       "4                4.0  Bratislava   \n",
       "...              ...         ...   \n",
       "49995          499.0       Milan   \n",
       "49996         6340.0       Paris   \n",
       "49997         1649.0   Stockholm   \n",
       "49998          640.0      Warsaw   \n",
       "49999         4824.0       Milan   \n",
       "\n",
       "                                           Cuisine Style  Ranking  \\\n",
       "0                                             [Bar, Pub]  12963.0   \n",
       "1      [European, Scandinavian, Gluten Free Options, ...    106.0   \n",
       "2                                  [Vegetarian Friendly]    810.0   \n",
       "3      [Italian, Mediterranean, European, Vegetarian ...   1669.0   \n",
       "4      [Italian, Mediterranean, European, Seafood, Ve...     37.0   \n",
       "...                                                  ...      ...   \n",
       "49995  [Italian, Vegetarian Friendly, Vegan Options, ...    500.0   \n",
       "49996  [French, American, Bar, European, Vegetarian F...   6341.0   \n",
       "49997                                  [Japanese, Sushi]   1652.0   \n",
       "49998  [Polish, European, Eastern European, Central E...    641.0   \n",
       "49999                                          [Spanish]   4827.0   \n",
       "\n",
       "       Price Range  Number of Reviews  \\\n",
       "0              2.0                4.0   \n",
       "1              2.0               97.0   \n",
       "2              2.0               28.0   \n",
       "3              3.0              202.0   \n",
       "4              3.0              162.0   \n",
       "...            ...                ...   \n",
       "49995          2.0               79.0   \n",
       "49996          2.0              542.0   \n",
       "49997          0.0                4.0   \n",
       "49998          2.0               70.0   \n",
       "49999          2.0              260.0   \n",
       "\n",
       "                                                 Reviews  \\\n",
       "0                                               [[], []]   \n",
       "1      [['Very good reviews!', 'Fine dining in Hakani...   \n",
       "2      [['Better than the Links', 'Ivy Black'], ['12/...   \n",
       "3      [['Most exquisite', 'Delicious and authentic']...   \n",
       "4      [['Always the best in bratislava', 'Very good ...   \n",
       "...                                                  ...   \n",
       "49995  [['The real Italian experience!', 'Wonderful f...   \n",
       "49996  [['Parisian atmosphere', 'Bit pricey but inter...   \n",
       "49997  [['Good by swedish standards', 'A hidden jewel...   \n",
       "49998  [['Underground restaurant', 'Oldest Restaurant...   \n",
       "49999  [['Average', 'Nice an informal'], ['01/31/2016...   \n",
       "\n",
       "                                                  URL_TA      ID_TA  sample  \\\n",
       "0      /Restaurant_Review-g187147-d10746918-Reviews-L...  d10746918       0   \n",
       "1      /Restaurant_Review-g189934-d6674944-Reviews-Ra...   d6674944       0   \n",
       "2      /Restaurant_Review-g186525-d13129638-Reviews-B...  d13129638       0   \n",
       "3      /Restaurant_Review-g186338-d680417-Reviews-Qui...    d680417       0   \n",
       "4      /Restaurant_Review-g274924-d1112354-Reviews-Ma...   d1112354       0   \n",
       "...                                                  ...        ...     ...   \n",
       "49995  /Restaurant_Review-g187849-d2104414-Reviews-Ro...   d2104414       1   \n",
       "49996  /Restaurant_Review-g187147-d1800036-Reviews-La...   d1800036       1   \n",
       "49997  /Restaurant_Review-g189852-d947615-Reviews-Sus...    d947615       1   \n",
       "49998  /Restaurant_Review-g274856-d1100838-Reviews-Ho...   d1100838       1   \n",
       "49999  /Restaurant_Review-g187849-d1109020-Reviews-Ta...   d1109020       1   \n",
       "\n",
       "       ...  cuisine_style_NAN  num_cuisines  ranking_city  price_range_NAN  \\\n",
       "0      ...                  0             2      2.122299                0   \n",
       "1      ...                  0             5      0.223158                0   \n",
       "2      ...                  0             1      1.087248                0   \n",
       "3      ...                  0             5      0.232031                0   \n",
       "4      ...                  0             6      0.097368                0   \n",
       "...    ...                ...           ...           ...              ...   \n",
       "49995  ...                  0             4      0.185598                0   \n",
       "49996  ...                  0             5      1.038147                0   \n",
       "49997  ...                  0             2      1.599226                1   \n",
       "49998  ...                  0             5      0.692973                0   \n",
       "49999  ...                  0             1      1.791759                0   \n",
       "\n",
       "       purchasing_range  number_of_reviews_NAN  review_NAN  \\\n",
       "0                  11.0                      0           1   \n",
       "1                   4.5                      0           0   \n",
       "2                   8.0                      0           0   \n",
       "3                   8.0                      0           0   \n",
       "4                  13.0                      0           0   \n",
       "...                 ...                    ...         ...   \n",
       "49995              20.0                      0           0   \n",
       "49996              11.0                      0           0   \n",
       "49997               0.0                      0           0   \n",
       "49998              14.5                      0           0   \n",
       "49999              20.0                      0           0   \n",
       "\n",
       "                    date_review  between_rev     till_now  \n",
       "0                            []         49.0  1393.970039  \n",
       "1      [12/05/2017, 10/29/2017]         37.0  1191.000000  \n",
       "2      [12/28/2017, 12/06/2017]         22.0  1168.000000  \n",
       "3      [12/06/2017, 11/22/2017]         14.0  1190.000000  \n",
       "4      [02/08/2018, 01/24/2018]         15.0  1126.000000  \n",
       "...                         ...          ...          ...  \n",
       "49995  [12/16/2017, 11/12/2017]         34.0  1180.000000  \n",
       "49996  [12/21/2017, 12/12/2017]          9.0  1175.000000  \n",
       "49997  [11/03/2016, 04/12/2008]       1250.0  1588.000000  \n",
       "49998  [07/11/2017, 06/18/2017]         23.0  1338.000000  \n",
       "49999  [01/31/2016, 07/04/2012]       1250.0  1865.000000  \n",
       "\n",
       "[50000 rows x 27 columns]"
      ]
     },
     "execution_count": 105,
     "metadata": {},
     "output_type": "execute_result"
    }
   ],
   "source": [
    "data"
   ]
  },
  {
   "cell_type": "markdown",
   "metadata": {},
   "source": [
    "видно что в урл-адресе ресторана первый набор цифр означает город, а второй совпадает с ID_TA\n",
    "Проверю\n",
    "\n"
   ]
  },
  {
   "cell_type": "code",
   "execution_count": 106,
   "metadata": {},
   "outputs": [
    {
     "data": {
      "text/html": [
       "<div>\n",
       "<style scoped>\n",
       "    .dataframe tbody tr th:only-of-type {\n",
       "        vertical-align: middle;\n",
       "    }\n",
       "\n",
       "    .dataframe tbody tr th {\n",
       "        vertical-align: top;\n",
       "    }\n",
       "\n",
       "    .dataframe thead th {\n",
       "        text-align: right;\n",
       "    }\n",
       "</style>\n",
       "<table border=\"1\" class=\"dataframe\">\n",
       "  <thead>\n",
       "    <tr style=\"text-align: right;\">\n",
       "      <th></th>\n",
       "      <th>Restaurant_id</th>\n",
       "      <th>City</th>\n",
       "      <th>Cuisine Style</th>\n",
       "      <th>Ranking</th>\n",
       "      <th>Price Range</th>\n",
       "      <th>Number of Reviews</th>\n",
       "      <th>Reviews</th>\n",
       "      <th>URL_TA</th>\n",
       "      <th>ID_TA</th>\n",
       "      <th>sample</th>\n",
       "      <th>...</th>\n",
       "      <th>cuisine_style_NAN</th>\n",
       "      <th>num_cuisines</th>\n",
       "      <th>ranking_city</th>\n",
       "      <th>price_range_NAN</th>\n",
       "      <th>purchasing_range</th>\n",
       "      <th>number_of_reviews_NAN</th>\n",
       "      <th>review_NAN</th>\n",
       "      <th>date_review</th>\n",
       "      <th>between_rev</th>\n",
       "      <th>till_now</th>\n",
       "    </tr>\n",
       "  </thead>\n",
       "  <tbody>\n",
       "    <tr>\n",
       "      <th>25755</th>\n",
       "      <td>10636.0</td>\n",
       "      <td>Paris</td>\n",
       "      <td>[Moroccan, Mediterranean]</td>\n",
       "      <td>10638.0</td>\n",
       "      <td>0.0</td>\n",
       "      <td>3.0</td>\n",
       "      <td>[[], []]</td>\n",
       "      <td>/Restaurant_Review-g187147-d5503581-Reviews-Re...</td>\n",
       "      <td>d5503581</td>\n",
       "      <td>1</td>\n",
       "      <td>...</td>\n",
       "      <td>0</td>\n",
       "      <td>2</td>\n",
       "      <td>1.741650</td>\n",
       "      <td>1</td>\n",
       "      <td>0.0</td>\n",
       "      <td>0</td>\n",
       "      <td>1</td>\n",
       "      <td>[]</td>\n",
       "      <td>49.0</td>\n",
       "      <td>1393.970039</td>\n",
       "    </tr>\n",
       "    <tr>\n",
       "      <th>49507</th>\n",
       "      <td>11595.0</td>\n",
       "      <td>Paris</td>\n",
       "      <td>[Other]</td>\n",
       "      <td>11597.0</td>\n",
       "      <td>0.0</td>\n",
       "      <td>12.0</td>\n",
       "      <td>[[], []]</td>\n",
       "      <td>/Restaurant_Review-g187147-d11766672-Reviews-R...</td>\n",
       "      <td>d11766672</td>\n",
       "      <td>1</td>\n",
       "      <td>...</td>\n",
       "      <td>1</td>\n",
       "      <td>1</td>\n",
       "      <td>1.898657</td>\n",
       "      <td>1</td>\n",
       "      <td>0.0</td>\n",
       "      <td>0</td>\n",
       "      <td>1</td>\n",
       "      <td>[]</td>\n",
       "      <td>49.0</td>\n",
       "      <td>1393.970039</td>\n",
       "    </tr>\n",
       "    <tr>\n",
       "      <th>11872</th>\n",
       "      <td>5775.0</td>\n",
       "      <td>Paris</td>\n",
       "      <td>[French]</td>\n",
       "      <td>5776.0</td>\n",
       "      <td>2.0</td>\n",
       "      <td>81.0</td>\n",
       "      <td>[['Average food, not much offered for vegetar....</td>\n",
       "      <td>/Restaurant_Review-g187147-d4156793-Reviews-La...</td>\n",
       "      <td>d4156793</td>\n",
       "      <td>1</td>\n",
       "      <td>...</td>\n",
       "      <td>0</td>\n",
       "      <td>1</td>\n",
       "      <td>0.945645</td>\n",
       "      <td>0</td>\n",
       "      <td>11.0</td>\n",
       "      <td>0</td>\n",
       "      <td>0</td>\n",
       "      <td>[10/23/2016, 05/02/2016]</td>\n",
       "      <td>174.0</td>\n",
       "      <td>1599.000000</td>\n",
       "    </tr>\n",
       "  </tbody>\n",
       "</table>\n",
       "<p>3 rows × 27 columns</p>\n",
       "</div>"
      ],
      "text/plain": [
       "       Restaurant_id   City              Cuisine Style  Ranking  Price Range  \\\n",
       "25755        10636.0  Paris  [Moroccan, Mediterranean]  10638.0          0.0   \n",
       "49507        11595.0  Paris                    [Other]  11597.0          0.0   \n",
       "11872         5775.0  Paris                   [French]   5776.0          2.0   \n",
       "\n",
       "       Number of Reviews                                            Reviews  \\\n",
       "25755                3.0                                           [[], []]   \n",
       "49507               12.0                                           [[], []]   \n",
       "11872               81.0  [['Average food, not much offered for vegetar....   \n",
       "\n",
       "                                                  URL_TA      ID_TA  sample  \\\n",
       "25755  /Restaurant_Review-g187147-d5503581-Reviews-Re...   d5503581       1   \n",
       "49507  /Restaurant_Review-g187147-d11766672-Reviews-R...  d11766672       1   \n",
       "11872  /Restaurant_Review-g187147-d4156793-Reviews-La...   d4156793       1   \n",
       "\n",
       "       ...  cuisine_style_NAN  num_cuisines  ranking_city  price_range_NAN  \\\n",
       "25755  ...                  0             2      1.741650                1   \n",
       "49507  ...                  1             1      1.898657                1   \n",
       "11872  ...                  0             1      0.945645                0   \n",
       "\n",
       "       purchasing_range  number_of_reviews_NAN  review_NAN  \\\n",
       "25755               0.0                      0           1   \n",
       "49507               0.0                      0           1   \n",
       "11872              11.0                      0           0   \n",
       "\n",
       "                    date_review  between_rev     till_now  \n",
       "25755                        []         49.0  1393.970039  \n",
       "49507                        []         49.0  1393.970039  \n",
       "11872  [10/23/2016, 05/02/2016]        174.0  1599.000000  \n",
       "\n",
       "[3 rows x 27 columns]"
      ]
     },
     "execution_count": 106,
     "metadata": {},
     "output_type": "execute_result"
    }
   ],
   "source": [
    "data[data['City'] == 'Paris'].sample(3)"
   ]
  },
  {
   "cell_type": "code",
   "execution_count": 107,
   "metadata": {},
   "outputs": [
    {
     "data": {
      "text/html": [
       "<div>\n",
       "<style scoped>\n",
       "    .dataframe tbody tr th:only-of-type {\n",
       "        vertical-align: middle;\n",
       "    }\n",
       "\n",
       "    .dataframe tbody tr th {\n",
       "        vertical-align: top;\n",
       "    }\n",
       "\n",
       "    .dataframe thead th {\n",
       "        text-align: right;\n",
       "    }\n",
       "</style>\n",
       "<table border=\"1\" class=\"dataframe\">\n",
       "  <thead>\n",
       "    <tr style=\"text-align: right;\">\n",
       "      <th></th>\n",
       "      <th>Restaurant_id</th>\n",
       "      <th>City</th>\n",
       "      <th>Cuisine Style</th>\n",
       "      <th>Ranking</th>\n",
       "      <th>Price Range</th>\n",
       "      <th>Number of Reviews</th>\n",
       "      <th>Reviews</th>\n",
       "      <th>URL_TA</th>\n",
       "      <th>ID_TA</th>\n",
       "      <th>sample</th>\n",
       "      <th>...</th>\n",
       "      <th>cuisine_style_NAN</th>\n",
       "      <th>num_cuisines</th>\n",
       "      <th>ranking_city</th>\n",
       "      <th>price_range_NAN</th>\n",
       "      <th>purchasing_range</th>\n",
       "      <th>number_of_reviews_NAN</th>\n",
       "      <th>review_NAN</th>\n",
       "      <th>date_review</th>\n",
       "      <th>between_rev</th>\n",
       "      <th>till_now</th>\n",
       "    </tr>\n",
       "  </thead>\n",
       "  <tbody>\n",
       "    <tr>\n",
       "      <th>9984</th>\n",
       "      <td>9984.0</td>\n",
       "      <td>Milan</td>\n",
       "      <td>[Italian, German, Pub]</td>\n",
       "      <td>4430.0</td>\n",
       "      <td>2.0</td>\n",
       "      <td>89.0</td>\n",
       "      <td>[[], []]</td>\n",
       "      <td>/Restaurant_Review-g187849-d3498797-Reviews-La...</td>\n",
       "      <td>d3498797</td>\n",
       "      <td>0</td>\n",
       "      <td>...</td>\n",
       "      <td>0</td>\n",
       "      <td>3</td>\n",
       "      <td>1.644395</td>\n",
       "      <td>0</td>\n",
       "      <td>20.0</td>\n",
       "      <td>0</td>\n",
       "      <td>1</td>\n",
       "      <td>[]</td>\n",
       "      <td>49.0</td>\n",
       "      <td>1393.970039</td>\n",
       "    </tr>\n",
       "    <tr>\n",
       "      <th>6023</th>\n",
       "      <td>6023.0</td>\n",
       "      <td>Milan</td>\n",
       "      <td>[Italian, Greek, Vegetarian Friendly]</td>\n",
       "      <td>5789.0</td>\n",
       "      <td>2.0</td>\n",
       "      <td>586.0</td>\n",
       "      <td>[['DO NOT ORDER FROM OR EAT HERE', 'Romantic p...</td>\n",
       "      <td>/Restaurant_Review-g187849-d1391261-Reviews-Ca...</td>\n",
       "      <td>d1391261</td>\n",
       "      <td>0</td>\n",
       "      <td>...</td>\n",
       "      <td>0</td>\n",
       "      <td>3</td>\n",
       "      <td>2.148849</td>\n",
       "      <td>0</td>\n",
       "      <td>20.0</td>\n",
       "      <td>0</td>\n",
       "      <td>0</td>\n",
       "      <td>[05/12/2017, 10/04/2015]</td>\n",
       "      <td>586.0</td>\n",
       "      <td>1398.000000</td>\n",
       "    </tr>\n",
       "    <tr>\n",
       "      <th>23273</th>\n",
       "      <td>1139.0</td>\n",
       "      <td>Milan</td>\n",
       "      <td>[Pizza, Mediterranean, Vegetarian Friendly, Ve...</td>\n",
       "      <td>1141.0</td>\n",
       "      <td>2.0</td>\n",
       "      <td>55.0</td>\n",
       "      <td>[['THE best bakery', 'Breakfast, lunch and din...</td>\n",
       "      <td>/Restaurant_Review-g187849-d12615381-Reviews-S...</td>\n",
       "      <td>d12615381</td>\n",
       "      <td>1</td>\n",
       "      <td>...</td>\n",
       "      <td>0</td>\n",
       "      <td>4</td>\n",
       "      <td>0.423534</td>\n",
       "      <td>0</td>\n",
       "      <td>20.0</td>\n",
       "      <td>0</td>\n",
       "      <td>0</td>\n",
       "      <td>[12/29/2017, 12/20/2017]</td>\n",
       "      <td>9.0</td>\n",
       "      <td>1167.000000</td>\n",
       "    </tr>\n",
       "  </tbody>\n",
       "</table>\n",
       "<p>3 rows × 27 columns</p>\n",
       "</div>"
      ],
      "text/plain": [
       "       Restaurant_id   City  \\\n",
       "9984          9984.0  Milan   \n",
       "6023          6023.0  Milan   \n",
       "23273         1139.0  Milan   \n",
       "\n",
       "                                           Cuisine Style  Ranking  \\\n",
       "9984                              [Italian, German, Pub]   4430.0   \n",
       "6023               [Italian, Greek, Vegetarian Friendly]   5789.0   \n",
       "23273  [Pizza, Mediterranean, Vegetarian Friendly, Ve...   1141.0   \n",
       "\n",
       "       Price Range  Number of Reviews  \\\n",
       "9984           2.0               89.0   \n",
       "6023           2.0              586.0   \n",
       "23273          2.0               55.0   \n",
       "\n",
       "                                                 Reviews  \\\n",
       "9984                                            [[], []]   \n",
       "6023   [['DO NOT ORDER FROM OR EAT HERE', 'Romantic p...   \n",
       "23273  [['THE best bakery', 'Breakfast, lunch and din...   \n",
       "\n",
       "                                                  URL_TA      ID_TA  sample  \\\n",
       "9984   /Restaurant_Review-g187849-d3498797-Reviews-La...   d3498797       0   \n",
       "6023   /Restaurant_Review-g187849-d1391261-Reviews-Ca...   d1391261       0   \n",
       "23273  /Restaurant_Review-g187849-d12615381-Reviews-S...  d12615381       1   \n",
       "\n",
       "       ...  cuisine_style_NAN  num_cuisines  ranking_city  price_range_NAN  \\\n",
       "9984   ...                  0             3      1.644395                0   \n",
       "6023   ...                  0             3      2.148849                0   \n",
       "23273  ...                  0             4      0.423534                0   \n",
       "\n",
       "       purchasing_range  number_of_reviews_NAN  review_NAN  \\\n",
       "9984               20.0                      0           1   \n",
       "6023               20.0                      0           0   \n",
       "23273              20.0                      0           0   \n",
       "\n",
       "                    date_review  between_rev     till_now  \n",
       "9984                         []         49.0  1393.970039  \n",
       "6023   [05/12/2017, 10/04/2015]        586.0  1398.000000  \n",
       "23273  [12/29/2017, 12/20/2017]          9.0  1167.000000  \n",
       "\n",
       "[3 rows x 27 columns]"
      ]
     },
     "execution_count": 107,
     "metadata": {},
     "output_type": "execute_result"
    }
   ],
   "source": [
    "data[data['City'] == 'Milan'].sample(3)"
   ]
  },
  {
   "cell_type": "markdown",
   "metadata": {},
   "source": [
    "Так и есть.\n",
    "\n",
    "Переведу эти признаки в соответствующие числовые значения, возможно это повлияет хорошо на модель. Иначе просто удалю эти признаки перед обучением модели"
   ]
  },
  {
   "cell_type": "code",
   "execution_count": 108,
   "metadata": {},
   "outputs": [],
   "source": [
    "data.URL_TA = data.URL_TA.apply(lambda x: x[20:26]) # выделю первое числовое значение"
   ]
  },
  {
   "cell_type": "code",
   "execution_count": 109,
   "metadata": {},
   "outputs": [],
   "source": [
    "data.URL_TA = data.URL_TA.apply(lambda x: float(x)) # конвертация в числовой формат"
   ]
  },
  {
   "cell_type": "code",
   "execution_count": 110,
   "metadata": {},
   "outputs": [],
   "source": [
    "data.ID_TA = data.ID_TA.apply(lambda x: int(x[1:]))"
   ]
  },
  {
   "cell_type": "code",
   "execution_count": 111,
   "metadata": {},
   "outputs": [
    {
     "data": {
      "text/html": [
       "<div>\n",
       "<style scoped>\n",
       "    .dataframe tbody tr th:only-of-type {\n",
       "        vertical-align: middle;\n",
       "    }\n",
       "\n",
       "    .dataframe tbody tr th {\n",
       "        vertical-align: top;\n",
       "    }\n",
       "\n",
       "    .dataframe thead th {\n",
       "        text-align: right;\n",
       "    }\n",
       "</style>\n",
       "<table border=\"1\" class=\"dataframe\">\n",
       "  <thead>\n",
       "    <tr style=\"text-align: right;\">\n",
       "      <th></th>\n",
       "      <th>Restaurant_id</th>\n",
       "      <th>City</th>\n",
       "      <th>Cuisine Style</th>\n",
       "      <th>Ranking</th>\n",
       "      <th>Price Range</th>\n",
       "      <th>Number of Reviews</th>\n",
       "      <th>Reviews</th>\n",
       "      <th>URL_TA</th>\n",
       "      <th>ID_TA</th>\n",
       "      <th>sample</th>\n",
       "      <th>...</th>\n",
       "      <th>cuisine_style_NAN</th>\n",
       "      <th>num_cuisines</th>\n",
       "      <th>ranking_city</th>\n",
       "      <th>price_range_NAN</th>\n",
       "      <th>purchasing_range</th>\n",
       "      <th>number_of_reviews_NAN</th>\n",
       "      <th>review_NAN</th>\n",
       "      <th>date_review</th>\n",
       "      <th>between_rev</th>\n",
       "      <th>till_now</th>\n",
       "    </tr>\n",
       "  </thead>\n",
       "  <tbody>\n",
       "    <tr>\n",
       "      <th>33301</th>\n",
       "      <td>361.0</td>\n",
       "      <td>Brussels</td>\n",
       "      <td>[Belgian, European, French, Vegetarian Friendly]</td>\n",
       "      <td>362.0</td>\n",
       "      <td>2.0</td>\n",
       "      <td>202.0</td>\n",
       "      <td>[['Impressive deco / Good food', 'Delicious fo...</td>\n",
       "      <td>188644.0</td>\n",
       "      <td>2442598</td>\n",
       "      <td>1</td>\n",
       "      <td>...</td>\n",
       "      <td>0</td>\n",
       "      <td>4</td>\n",
       "      <td>0.275495</td>\n",
       "      <td>0</td>\n",
       "      <td>7.5</td>\n",
       "      <td>0</td>\n",
       "      <td>0</td>\n",
       "      <td>[12/05/2017, 11/14/2017]</td>\n",
       "      <td>21.0</td>\n",
       "      <td>1191.0</td>\n",
       "    </tr>\n",
       "    <tr>\n",
       "      <th>20921</th>\n",
       "      <td>11811.0</td>\n",
       "      <td>Paris</td>\n",
       "      <td>[Other]</td>\n",
       "      <td>11813.0</td>\n",
       "      <td>0.0</td>\n",
       "      <td>3.0</td>\n",
       "      <td>[['Standard Boulangerie'], ['12/28/2017']]</td>\n",
       "      <td>187147.0</td>\n",
       "      <td>12820231</td>\n",
       "      <td>1</td>\n",
       "      <td>...</td>\n",
       "      <td>1</td>\n",
       "      <td>1</td>\n",
       "      <td>1.934021</td>\n",
       "      <td>1</td>\n",
       "      <td>0.0</td>\n",
       "      <td>0</td>\n",
       "      <td>0</td>\n",
       "      <td>[12/28/2017]</td>\n",
       "      <td>0.0</td>\n",
       "      <td>1168.0</td>\n",
       "    </tr>\n",
       "    <tr>\n",
       "      <th>35714</th>\n",
       "      <td>3168.0</td>\n",
       "      <td>Paris</td>\n",
       "      <td>[French, Cafe, European, Vegetarian Friendly]</td>\n",
       "      <td>3169.0</td>\n",
       "      <td>2.0</td>\n",
       "      <td>717.0</td>\n",
       "      <td>[['Great for Dining After Louvre Visit', 'Rest...</td>\n",
       "      <td>187147.0</td>\n",
       "      <td>714911</td>\n",
       "      <td>1</td>\n",
       "      <td>...</td>\n",
       "      <td>0</td>\n",
       "      <td>4</td>\n",
       "      <td>0.518828</td>\n",
       "      <td>0</td>\n",
       "      <td>11.0</td>\n",
       "      <td>0</td>\n",
       "      <td>0</td>\n",
       "      <td>[01/08/2018, 12/31/2017]</td>\n",
       "      <td>8.0</td>\n",
       "      <td>1157.0</td>\n",
       "    </tr>\n",
       "  </tbody>\n",
       "</table>\n",
       "<p>3 rows × 27 columns</p>\n",
       "</div>"
      ],
      "text/plain": [
       "       Restaurant_id      City  \\\n",
       "33301          361.0  Brussels   \n",
       "20921        11811.0     Paris   \n",
       "35714         3168.0     Paris   \n",
       "\n",
       "                                          Cuisine Style  Ranking  Price Range  \\\n",
       "33301  [Belgian, European, French, Vegetarian Friendly]    362.0          2.0   \n",
       "20921                                           [Other]  11813.0          0.0   \n",
       "35714     [French, Cafe, European, Vegetarian Friendly]   3169.0          2.0   \n",
       "\n",
       "       Number of Reviews                                            Reviews  \\\n",
       "33301              202.0  [['Impressive deco / Good food', 'Delicious fo...   \n",
       "20921                3.0         [['Standard Boulangerie'], ['12/28/2017']]   \n",
       "35714              717.0  [['Great for Dining After Louvre Visit', 'Rest...   \n",
       "\n",
       "         URL_TA     ID_TA  sample  ...  cuisine_style_NAN  num_cuisines  \\\n",
       "33301  188644.0   2442598       1  ...                  0             4   \n",
       "20921  187147.0  12820231       1  ...                  1             1   \n",
       "35714  187147.0    714911       1  ...                  0             4   \n",
       "\n",
       "       ranking_city  price_range_NAN  purchasing_range  number_of_reviews_NAN  \\\n",
       "33301      0.275495                0               7.5                      0   \n",
       "20921      1.934021                1               0.0                      0   \n",
       "35714      0.518828                0              11.0                      0   \n",
       "\n",
       "       review_NAN               date_review  between_rev  till_now  \n",
       "33301           0  [12/05/2017, 11/14/2017]         21.0    1191.0  \n",
       "20921           0              [12/28/2017]          0.0    1168.0  \n",
       "35714           0  [01/08/2018, 12/31/2017]          8.0    1157.0  \n",
       "\n",
       "[3 rows x 27 columns]"
      ]
     },
     "execution_count": 111,
     "metadata": {},
     "output_type": "execute_result"
    }
   ],
   "source": [
    "data.sample(3)"
   ]
  },
  {
   "cell_type": "code",
   "execution_count": 112,
   "metadata": {},
   "outputs": [
    {
     "name": "stdout",
     "output_type": "stream",
     "text": [
      "<class 'pandas.core.frame.DataFrame'>\n",
      "RangeIndex: 50000 entries, 0 to 49999\n",
      "Data columns (total 27 columns):\n",
      "Restaurant_id            50000 non-null float64\n",
      "City                     50000 non-null object\n",
      "Cuisine Style            50000 non-null object\n",
      "Ranking                  50000 non-null float64\n",
      "Price Range              50000 non-null float64\n",
      "Number of Reviews        50000 non-null float64\n",
      "Reviews                  49998 non-null object\n",
      "URL_TA                   50000 non-null float64\n",
      "ID_TA                    50000 non-null int64\n",
      "sample                   50000 non-null int64\n",
      "Rating                   50000 non-null float64\n",
      "rest_per_city            50000 non-null int64\n",
      "popul                    50000 non-null int64\n",
      "people_per_rest          50000 non-null float64\n",
      "quality_index_city       50000 non-null float64\n",
      "purchasing_power         50000 non-null int64\n",
      "quality_rest             50000 non-null float64\n",
      "cuisine_style_NAN        50000 non-null uint8\n",
      "num_cuisines             50000 non-null int64\n",
      "ranking_city             50000 non-null float64\n",
      "price_range_NAN          50000 non-null uint8\n",
      "purchasing_range         50000 non-null float64\n",
      "number_of_reviews_NAN    50000 non-null uint8\n",
      "review_NAN               50000 non-null int64\n",
      "date_review              50000 non-null object\n",
      "between_rev              50000 non-null float64\n",
      "till_now                 50000 non-null float64\n",
      "dtypes: float64(13), int64(7), object(4), uint8(3)\n",
      "memory usage: 9.3+ MB\n"
     ]
    }
   ],
   "source": [
    "data.info()"
   ]
  },
  {
   "cell_type": "markdown",
   "metadata": {},
   "source": [
    "### 2. Обработка признаков\n",
    "Для начала посмотрим какие признаки у нас могут быть категориальными."
   ]
  },
  {
   "cell_type": "code",
   "execution_count": 113,
   "metadata": {},
   "outputs": [
    {
     "name": "stdout",
     "output_type": "stream",
     "text": [
      "<class 'pandas.core.frame.DataFrame'>\n",
      "RangeIndex: 50000 entries, 0 to 49999\n",
      "Data columns (total 27 columns):\n",
      "Restaurant_id            50000 non-null float64\n",
      "City                     50000 non-null object\n",
      "Cuisine Style            50000 non-null object\n",
      "Ranking                  50000 non-null float64\n",
      "Price Range              50000 non-null float64\n",
      "Number of Reviews        50000 non-null float64\n",
      "Reviews                  49998 non-null object\n",
      "URL_TA                   50000 non-null float64\n",
      "ID_TA                    50000 non-null int64\n",
      "sample                   50000 non-null int64\n",
      "Rating                   50000 non-null float64\n",
      "rest_per_city            50000 non-null int64\n",
      "popul                    50000 non-null int64\n",
      "people_per_rest          50000 non-null float64\n",
      "quality_index_city       50000 non-null float64\n",
      "purchasing_power         50000 non-null int64\n",
      "quality_rest             50000 non-null float64\n",
      "cuisine_style_NAN        50000 non-null uint8\n",
      "num_cuisines             50000 non-null int64\n",
      "ranking_city             50000 non-null float64\n",
      "price_range_NAN          50000 non-null uint8\n",
      "purchasing_range         50000 non-null float64\n",
      "number_of_reviews_NAN    50000 non-null uint8\n",
      "review_NAN               50000 non-null int64\n",
      "date_review              50000 non-null object\n",
      "between_rev              50000 non-null float64\n",
      "till_now                 50000 non-null float64\n",
      "dtypes: float64(13), int64(7), object(4), uint8(3)\n",
      "memory usage: 9.3+ MB\n"
     ]
    }
   ],
   "source": [
    "data.info()"
   ]
  },
  {
   "cell_type": "markdown",
   "metadata": {},
   "source": [
    "Какие признаки можно считать категориальными?"
   ]
  },
  {
   "cell_type": "markdown",
   "metadata": {},
   "source": [
    "Для кодирования категориальных признаков есть множество подходов:\n",
    "* Label Encoding\n",
    "* One-Hot Encoding\n",
    "* Target Encoding\n",
    "* Hashing\n",
    "\n",
    "Выбор кодирования зависит от признака и выбраной модели.\n",
    "Не будем сейчас сильно погружаться в эту тематику, давайте посмотрим лучше пример с One-Hot Encoding:\n",
    "![](https://i.imgur.com/mtimFxh.png)"
   ]
  },
  {
   "cell_type": "code",
   "execution_count": 114,
   "metadata": {},
   "outputs": [
    {
     "data": {
      "text/html": [
       "<div>\n",
       "<style scoped>\n",
       "    .dataframe tbody tr th:only-of-type {\n",
       "        vertical-align: middle;\n",
       "    }\n",
       "\n",
       "    .dataframe tbody tr th {\n",
       "        vertical-align: top;\n",
       "    }\n",
       "\n",
       "    .dataframe thead th {\n",
       "        text-align: right;\n",
       "    }\n",
       "</style>\n",
       "<table border=\"1\" class=\"dataframe\">\n",
       "  <thead>\n",
       "    <tr style=\"text-align: right;\">\n",
       "      <th></th>\n",
       "      <th>Restaurant_id</th>\n",
       "      <th>City</th>\n",
       "      <th>Cuisine Style</th>\n",
       "      <th>Ranking</th>\n",
       "      <th>Price Range</th>\n",
       "      <th>Number of Reviews</th>\n",
       "      <th>Reviews</th>\n",
       "      <th>URL_TA</th>\n",
       "      <th>ID_TA</th>\n",
       "      <th>sample</th>\n",
       "      <th>...</th>\n",
       "      <th>cuisine_style_NAN</th>\n",
       "      <th>num_cuisines</th>\n",
       "      <th>ranking_city</th>\n",
       "      <th>price_range_NAN</th>\n",
       "      <th>purchasing_range</th>\n",
       "      <th>number_of_reviews_NAN</th>\n",
       "      <th>review_NAN</th>\n",
       "      <th>date_review</th>\n",
       "      <th>between_rev</th>\n",
       "      <th>till_now</th>\n",
       "    </tr>\n",
       "  </thead>\n",
       "  <tbody>\n",
       "    <tr>\n",
       "      <th>0</th>\n",
       "      <td>0.0</td>\n",
       "      <td>Paris</td>\n",
       "      <td>[Bar, Pub]</td>\n",
       "      <td>12963.0</td>\n",
       "      <td>2.0</td>\n",
       "      <td>4.0</td>\n",
       "      <td>[[], []]</td>\n",
       "      <td>187147.0</td>\n",
       "      <td>10746918</td>\n",
       "      <td>0</td>\n",
       "      <td>...</td>\n",
       "      <td>0</td>\n",
       "      <td>2</td>\n",
       "      <td>2.122299</td>\n",
       "      <td>0</td>\n",
       "      <td>11.0</td>\n",
       "      <td>0</td>\n",
       "      <td>1</td>\n",
       "      <td>[]</td>\n",
       "      <td>49.0</td>\n",
       "      <td>1393.970039</td>\n",
       "    </tr>\n",
       "    <tr>\n",
       "      <th>1</th>\n",
       "      <td>1.0</td>\n",
       "      <td>Helsinki</td>\n",
       "      <td>[European, Scandinavian, Gluten Free Options, ...</td>\n",
       "      <td>106.0</td>\n",
       "      <td>2.0</td>\n",
       "      <td>97.0</td>\n",
       "      <td>[['Very good reviews!', 'Fine dining in Hakani...</td>\n",
       "      <td>189934.0</td>\n",
       "      <td>6674944</td>\n",
       "      <td>0</td>\n",
       "      <td>...</td>\n",
       "      <td>0</td>\n",
       "      <td>5</td>\n",
       "      <td>0.223158</td>\n",
       "      <td>0</td>\n",
       "      <td>4.5</td>\n",
       "      <td>0</td>\n",
       "      <td>0</td>\n",
       "      <td>[12/05/2017, 10/29/2017]</td>\n",
       "      <td>37.0</td>\n",
       "      <td>1191.000000</td>\n",
       "    </tr>\n",
       "    <tr>\n",
       "      <th>2</th>\n",
       "      <td>2.0</td>\n",
       "      <td>Edinburgh</td>\n",
       "      <td>[Vegetarian Friendly]</td>\n",
       "      <td>810.0</td>\n",
       "      <td>2.0</td>\n",
       "      <td>28.0</td>\n",
       "      <td>[['Better than the Links', 'Ivy Black'], ['12/...</td>\n",
       "      <td>186525.0</td>\n",
       "      <td>13129638</td>\n",
       "      <td>0</td>\n",
       "      <td>...</td>\n",
       "      <td>0</td>\n",
       "      <td>1</td>\n",
       "      <td>1.087248</td>\n",
       "      <td>0</td>\n",
       "      <td>8.0</td>\n",
       "      <td>0</td>\n",
       "      <td>0</td>\n",
       "      <td>[12/28/2017, 12/06/2017]</td>\n",
       "      <td>22.0</td>\n",
       "      <td>1168.000000</td>\n",
       "    </tr>\n",
       "    <tr>\n",
       "      <th>3</th>\n",
       "      <td>3.0</td>\n",
       "      <td>London</td>\n",
       "      <td>[Italian, Mediterranean, European, Vegetarian ...</td>\n",
       "      <td>1669.0</td>\n",
       "      <td>3.0</td>\n",
       "      <td>202.0</td>\n",
       "      <td>[['Most exquisite', 'Delicious and authentic']...</td>\n",
       "      <td>186338.0</td>\n",
       "      <td>680417</td>\n",
       "      <td>0</td>\n",
       "      <td>...</td>\n",
       "      <td>0</td>\n",
       "      <td>5</td>\n",
       "      <td>0.232031</td>\n",
       "      <td>0</td>\n",
       "      <td>8.0</td>\n",
       "      <td>0</td>\n",
       "      <td>0</td>\n",
       "      <td>[12/06/2017, 11/22/2017]</td>\n",
       "      <td>14.0</td>\n",
       "      <td>1190.000000</td>\n",
       "    </tr>\n",
       "    <tr>\n",
       "      <th>4</th>\n",
       "      <td>4.0</td>\n",
       "      <td>Bratislava</td>\n",
       "      <td>[Italian, Mediterranean, European, Seafood, Ve...</td>\n",
       "      <td>37.0</td>\n",
       "      <td>3.0</td>\n",
       "      <td>162.0</td>\n",
       "      <td>[['Always the best in bratislava', 'Very good ...</td>\n",
       "      <td>274924.0</td>\n",
       "      <td>1112354</td>\n",
       "      <td>0</td>\n",
       "      <td>...</td>\n",
       "      <td>0</td>\n",
       "      <td>6</td>\n",
       "      <td>0.097368</td>\n",
       "      <td>0</td>\n",
       "      <td>13.0</td>\n",
       "      <td>0</td>\n",
       "      <td>0</td>\n",
       "      <td>[02/08/2018, 01/24/2018]</td>\n",
       "      <td>15.0</td>\n",
       "      <td>1126.000000</td>\n",
       "    </tr>\n",
       "  </tbody>\n",
       "</table>\n",
       "<p>5 rows × 27 columns</p>\n",
       "</div>"
      ],
      "text/plain": [
       "   Restaurant_id        City  \\\n",
       "0            0.0       Paris   \n",
       "1            1.0    Helsinki   \n",
       "2            2.0   Edinburgh   \n",
       "3            3.0      London   \n",
       "4            4.0  Bratislava   \n",
       "\n",
       "                                       Cuisine Style  Ranking  Price Range  \\\n",
       "0                                         [Bar, Pub]  12963.0          2.0   \n",
       "1  [European, Scandinavian, Gluten Free Options, ...    106.0          2.0   \n",
       "2                              [Vegetarian Friendly]    810.0          2.0   \n",
       "3  [Italian, Mediterranean, European, Vegetarian ...   1669.0          3.0   \n",
       "4  [Italian, Mediterranean, European, Seafood, Ve...     37.0          3.0   \n",
       "\n",
       "   Number of Reviews                                            Reviews  \\\n",
       "0                4.0                                           [[], []]   \n",
       "1               97.0  [['Very good reviews!', 'Fine dining in Hakani...   \n",
       "2               28.0  [['Better than the Links', 'Ivy Black'], ['12/...   \n",
       "3              202.0  [['Most exquisite', 'Delicious and authentic']...   \n",
       "4              162.0  [['Always the best in bratislava', 'Very good ...   \n",
       "\n",
       "     URL_TA     ID_TA  sample  ...  cuisine_style_NAN  num_cuisines  \\\n",
       "0  187147.0  10746918       0  ...                  0             2   \n",
       "1  189934.0   6674944       0  ...                  0             5   \n",
       "2  186525.0  13129638       0  ...                  0             1   \n",
       "3  186338.0    680417       0  ...                  0             5   \n",
       "4  274924.0   1112354       0  ...                  0             6   \n",
       "\n",
       "   ranking_city  price_range_NAN  purchasing_range  number_of_reviews_NAN  \\\n",
       "0      2.122299                0              11.0                      0   \n",
       "1      0.223158                0               4.5                      0   \n",
       "2      1.087248                0               8.0                      0   \n",
       "3      0.232031                0               8.0                      0   \n",
       "4      0.097368                0              13.0                      0   \n",
       "\n",
       "   review_NAN               date_review  between_rev     till_now  \n",
       "0           1                        []         49.0  1393.970039  \n",
       "1           0  [12/05/2017, 10/29/2017]         37.0  1191.000000  \n",
       "2           0  [12/28/2017, 12/06/2017]         22.0  1168.000000  \n",
       "3           0  [12/06/2017, 11/22/2017]         14.0  1190.000000  \n",
       "4           0  [02/08/2018, 01/24/2018]         15.0  1126.000000  \n",
       "\n",
       "[5 rows x 27 columns]"
      ]
     },
     "execution_count": 114,
     "metadata": {},
     "output_type": "execute_result"
    }
   ],
   "source": [
    "data.head(5)"
   ]
  },
  {
   "cell_type": "code",
   "execution_count": 115,
   "metadata": {},
   "outputs": [
    {
     "data": {
      "text/html": [
       "<div>\n",
       "<style scoped>\n",
       "    .dataframe tbody tr th:only-of-type {\n",
       "        vertical-align: middle;\n",
       "    }\n",
       "\n",
       "    .dataframe tbody tr th {\n",
       "        vertical-align: top;\n",
       "    }\n",
       "\n",
       "    .dataframe thead th {\n",
       "        text-align: right;\n",
       "    }\n",
       "</style>\n",
       "<table border=\"1\" class=\"dataframe\">\n",
       "  <thead>\n",
       "    <tr style=\"text-align: right;\">\n",
       "      <th></th>\n",
       "      <th>Restaurant_id</th>\n",
       "      <th>City</th>\n",
       "      <th>Cuisine Style</th>\n",
       "      <th>Ranking</th>\n",
       "      <th>Price Range</th>\n",
       "      <th>Number of Reviews</th>\n",
       "      <th>Reviews</th>\n",
       "      <th>URL_TA</th>\n",
       "      <th>ID_TA</th>\n",
       "      <th>sample</th>\n",
       "      <th>...</th>\n",
       "      <th>cuisine_style_NAN</th>\n",
       "      <th>num_cuisines</th>\n",
       "      <th>ranking_city</th>\n",
       "      <th>price_range_NAN</th>\n",
       "      <th>purchasing_range</th>\n",
       "      <th>number_of_reviews_NAN</th>\n",
       "      <th>review_NAN</th>\n",
       "      <th>date_review</th>\n",
       "      <th>between_rev</th>\n",
       "      <th>till_now</th>\n",
       "    </tr>\n",
       "  </thead>\n",
       "  <tbody>\n",
       "    <tr>\n",
       "      <th>47401</th>\n",
       "      <td>2578.0</td>\n",
       "      <td>Berlin</td>\n",
       "      <td>[Japanese, Sushi, Thai]</td>\n",
       "      <td>2580.0</td>\n",
       "      <td>0.0</td>\n",
       "      <td>12.0</td>\n",
       "      <td>[[], []]</td>\n",
       "      <td>187323.0</td>\n",
       "      <td>7806999</td>\n",
       "      <td>1</td>\n",
       "      <td>...</td>\n",
       "      <td>0</td>\n",
       "      <td>3</td>\n",
       "      <td>0.953789</td>\n",
       "      <td>1</td>\n",
       "      <td>0.0</td>\n",
       "      <td>0</td>\n",
       "      <td>1</td>\n",
       "      <td>[]</td>\n",
       "      <td>49.0</td>\n",
       "      <td>1393.970039</td>\n",
       "    </tr>\n",
       "    <tr>\n",
       "      <th>15548</th>\n",
       "      <td>3300.0</td>\n",
       "      <td>Madrid</td>\n",
       "      <td>[Spanish]</td>\n",
       "      <td>3302.0</td>\n",
       "      <td>0.0</td>\n",
       "      <td>9.0</td>\n",
       "      <td>[[], []]</td>\n",
       "      <td>187514.0</td>\n",
       "      <td>2147304</td>\n",
       "      <td>1</td>\n",
       "      <td>...</td>\n",
       "      <td>0</td>\n",
       "      <td>1</td>\n",
       "      <td>0.865985</td>\n",
       "      <td>1</td>\n",
       "      <td>0.0</td>\n",
       "      <td>0</td>\n",
       "      <td>1</td>\n",
       "      <td>[]</td>\n",
       "      <td>49.0</td>\n",
       "      <td>1393.970039</td>\n",
       "    </tr>\n",
       "    <tr>\n",
       "      <th>29989</th>\n",
       "      <td>9130.0</td>\n",
       "      <td>Paris</td>\n",
       "      <td>[Other]</td>\n",
       "      <td>9132.0</td>\n",
       "      <td>0.0</td>\n",
       "      <td>2.0</td>\n",
       "      <td>[['Next to the Louvre. Tasty, cheap, and fri.....</td>\n",
       "      <td>187147.0</td>\n",
       "      <td>12873313</td>\n",
       "      <td>1</td>\n",
       "      <td>...</td>\n",
       "      <td>1</td>\n",
       "      <td>1</td>\n",
       "      <td>1.495088</td>\n",
       "      <td>1</td>\n",
       "      <td>0.0</td>\n",
       "      <td>0</td>\n",
       "      <td>0</td>\n",
       "      <td>[12/08/2017, 09/03/2017]</td>\n",
       "      <td>96.0</td>\n",
       "      <td>1188.000000</td>\n",
       "    </tr>\n",
       "    <tr>\n",
       "      <th>5761</th>\n",
       "      <td>5761.0</td>\n",
       "      <td>Madrid</td>\n",
       "      <td>[Spanish]</td>\n",
       "      <td>4020.0</td>\n",
       "      <td>0.0</td>\n",
       "      <td>0.0</td>\n",
       "      <td>[[], []]</td>\n",
       "      <td>187514.0</td>\n",
       "      <td>12709056</td>\n",
       "      <td>0</td>\n",
       "      <td>...</td>\n",
       "      <td>0</td>\n",
       "      <td>1</td>\n",
       "      <td>1.054288</td>\n",
       "      <td>1</td>\n",
       "      <td>0.0</td>\n",
       "      <td>1</td>\n",
       "      <td>1</td>\n",
       "      <td>[]</td>\n",
       "      <td>49.0</td>\n",
       "      <td>1393.970039</td>\n",
       "    </tr>\n",
       "    <tr>\n",
       "      <th>30118</th>\n",
       "      <td>1918.0</td>\n",
       "      <td>Lyon</td>\n",
       "      <td>[Other]</td>\n",
       "      <td>1919.0</td>\n",
       "      <td>0.0</td>\n",
       "      <td>16.0</td>\n",
       "      <td>[[], []]</td>\n",
       "      <td>187265.0</td>\n",
       "      <td>9812181</td>\n",
       "      <td>1</td>\n",
       "      <td>...</td>\n",
       "      <td>1</td>\n",
       "      <td>1</td>\n",
       "      <td>1.704263</td>\n",
       "      <td>1</td>\n",
       "      <td>0.0</td>\n",
       "      <td>0</td>\n",
       "      <td>1</td>\n",
       "      <td>[]</td>\n",
       "      <td>49.0</td>\n",
       "      <td>1393.970039</td>\n",
       "    </tr>\n",
       "  </tbody>\n",
       "</table>\n",
       "<p>5 rows × 27 columns</p>\n",
       "</div>"
      ],
      "text/plain": [
       "       Restaurant_id    City            Cuisine Style  Ranking  Price Range  \\\n",
       "47401         2578.0  Berlin  [Japanese, Sushi, Thai]   2580.0          0.0   \n",
       "15548         3300.0  Madrid                [Spanish]   3302.0          0.0   \n",
       "29989         9130.0   Paris                  [Other]   9132.0          0.0   \n",
       "5761          5761.0  Madrid                [Spanish]   4020.0          0.0   \n",
       "30118         1918.0    Lyon                  [Other]   1919.0          0.0   \n",
       "\n",
       "       Number of Reviews                                            Reviews  \\\n",
       "47401               12.0                                           [[], []]   \n",
       "15548                9.0                                           [[], []]   \n",
       "29989                2.0  [['Next to the Louvre. Tasty, cheap, and fri.....   \n",
       "5761                 0.0                                           [[], []]   \n",
       "30118               16.0                                           [[], []]   \n",
       "\n",
       "         URL_TA     ID_TA  sample  ...  cuisine_style_NAN  num_cuisines  \\\n",
       "47401  187323.0   7806999       1  ...                  0             3   \n",
       "15548  187514.0   2147304       1  ...                  0             1   \n",
       "29989  187147.0  12873313       1  ...                  1             1   \n",
       "5761   187514.0  12709056       0  ...                  0             1   \n",
       "30118  187265.0   9812181       1  ...                  1             1   \n",
       "\n",
       "       ranking_city  price_range_NAN  purchasing_range  number_of_reviews_NAN  \\\n",
       "47401      0.953789                1               0.0                      0   \n",
       "15548      0.865985                1               0.0                      0   \n",
       "29989      1.495088                1               0.0                      0   \n",
       "5761       1.054288                1               0.0                      1   \n",
       "30118      1.704263                1               0.0                      0   \n",
       "\n",
       "       review_NAN               date_review  between_rev     till_now  \n",
       "47401           1                        []         49.0  1393.970039  \n",
       "15548           1                        []         49.0  1393.970039  \n",
       "29989           0  [12/08/2017, 09/03/2017]         96.0  1188.000000  \n",
       "5761            1                        []         49.0  1393.970039  \n",
       "30118           1                        []         49.0  1393.970039  \n",
       "\n",
       "[5 rows x 27 columns]"
      ]
     },
     "execution_count": 115,
     "metadata": {},
     "output_type": "execute_result"
    }
   ],
   "source": [
    "data.sample(5)"
   ]
  },
  {
   "cell_type": "markdown",
   "metadata": {},
   "source": [
    "#### Возьмем следующий признак \"Price Range\"."
   ]
  },
  {
   "cell_type": "code",
   "execution_count": 116,
   "metadata": {},
   "outputs": [],
   "source": [
    "# data['Price Range'].value_counts()"
   ]
  },
  {
   "cell_type": "markdown",
   "metadata": {},
   "source": [
    "По описанию 'Price Range' это - Цены в ресторане.  \n",
    "Их можно поставить по возрастанию (значит это не категориальный признак). А это значит, что их можно заменить последовательными числами, например 1,2,3  \n",
    "*Попробуйте сделать обработку этого признака уже самостоятельно!*"
   ]
  },
  {
   "cell_type": "code",
   "execution_count": 117,
   "metadata": {},
   "outputs": [],
   "source": [
    "# Ваша обработка 'Price Range' была произведена ранее"
   ]
  },
  {
   "cell_type": "markdown",
   "metadata": {},
   "source": [
    "> Для некоторых алгоритмов МЛ даже для не категориальных признаков можно применить One-Hot Encoding, и это может улучшить качество модели. Пробуйте разные подходы к кодированию признака - никто не знает заранее, что может взлететь."
   ]
  },
  {
   "cell_type": "markdown",
   "metadata": {},
   "source": [
    "### Обработать другие признаки вы должны самостоятельно!\n",
    "Для обработки других признаков вам возможно придется даже написать свою функцию, а может даже и не одну, но в этом и есть ваша практика в этом модуле!     \n",
    "Следуя подсказкам в модуле вы сможете более подробно узнать, как сделать эти приобразования."
   ]
  },
  {
   "cell_type": "code",
   "execution_count": 118,
   "metadata": {},
   "outputs": [],
   "source": [
    "# тут ваш код на обработку других признаков\n",
    "# ....."
   ]
  },
  {
   "cell_type": "code",
   "execution_count": 119,
   "metadata": {},
   "outputs": [],
   "source": [
    "# зашифрую признак 'City', используя One-Hot Encoding, в pandas есть готовая функция - get_dummies. Особенно радует параметр dummy_na\n",
    "data = pd.get_dummies(data, columns=['City'], dummy_na=True)"
   ]
  },
  {
   "cell_type": "markdown",
   "metadata": {},
   "source": [
    "![](https://cs10.pikabu.ru/post_img/2018/09/06/11/1536261023140110012.jpg)"
   ]
  },
  {
   "cell_type": "markdown",
   "metadata": {},
   "source": [
    "# EDA \n",
    "[Exploratory Data Analysis](https://ru.wikipedia.org/wiki/Разведочный_анализ_данных) - Анализ данных\n",
    "На этом этапе мы строим графики, ищем закономерности, аномалии, выбросы или связи между признаками.\n",
    "В общем цель этого этапа понять, что эти данные могут нам дать и как признаки могут быть взаимосвязаны между собой.\n",
    "Понимание изначальных признаков позволит сгенерировать новые, более сильные и, тем самым, сделать нашу модель лучше.\n",
    "![](https://miro.medium.com/max/2598/1*RXdMb7Uk6mGqWqPguHULaQ.png)"
   ]
  },
  {
   "cell_type": "markdown",
   "metadata": {},
   "source": [
    "### Посмотрим распределение признака"
   ]
  },
  {
   "cell_type": "code",
   "execution_count": 120,
   "metadata": {
    "_kg_hide-output": true
   },
   "outputs": [
    {
     "data": {
      "text/plain": [
       "<matplotlib.axes._subplots.AxesSubplot at 0x7f7f4d2d3cf8>"
      ]
     },
     "execution_count": 120,
     "metadata": {},
     "output_type": "execute_result"
    },
    {
     "data": {
      "image/png": "[encoded data removed]",
      "text/plain": [
       "<Figure size 720x504 with 1 Axes>"
      ]
     },
     "metadata": {
      "needs_background": "light"
     },
     "output_type": "display_data"
    }
   ],
   "source": [
    "plt.rcParams['figure.figsize'] = (10,7)\n",
    "df_train['Ranking'].hist(bins=100)"
   ]
  },
  {
   "cell_type": "markdown",
   "metadata": {},
   "source": [
    "У нас много ресторанов, которые не дотягивают и до 2500 места в своем городе, а что там по городам?"
   ]
  },
  {
   "cell_type": "code",
   "execution_count": 121,
   "metadata": {},
   "outputs": [
    {
     "data": {
      "text/plain": [
       "<matplotlib.axes._subplots.AxesSubplot at 0x7f7f4d1df828>"
      ]
     },
     "execution_count": 121,
     "metadata": {},
     "output_type": "execute_result"
    },
    {
     "data": {
      "image/png": "[encoded data removed]",
      "text/plain": [
       "<Figure size 720x504 with 1 Axes>"
      ]
     },
     "metadata": {
      "needs_background": "light"
     },
     "output_type": "display_data"
    }
   ],
   "source": [
    "df_train['City'].value_counts(ascending=True).plot(kind='barh')"
   ]
  },
  {
   "cell_type": "markdown",
   "metadata": {},
   "source": [
    "А кто-то говорил, что французы любят поесть=) Посмотрим, как изменится распределение в большом городе:"
   ]
  },
  {
   "cell_type": "code",
   "execution_count": 122,
   "metadata": {},
   "outputs": [
    {
     "data": {
      "text/plain": [
       "<matplotlib.axes._subplots.AxesSubplot at 0x7f7f4d0e3b70>"
      ]
     },
     "execution_count": 122,
     "metadata": {},
     "output_type": "execute_result"
    },
    {
     "data": {
      "image/png": "[encoded data removed]",
      "text/plain": [
       "<Figure size 720x504 with 1 Axes>"
      ]
     },
     "metadata": {
      "needs_background": "light"
     },
     "output_type": "display_data"
    }
   ],
   "source": [
    "df_train['Ranking'][df_train['City'] =='London'].hist(bins=100)"
   ]
  },
  {
   "cell_type": "code",
   "execution_count": 123,
   "metadata": {},
   "outputs": [
    {
     "data": {
      "image/png": "[encoded data removed]",
      "text/plain": [
       "<Figure size 720x504 with 1 Axes>"
      ]
     },
     "metadata": {
      "needs_background": "light"
     },
     "output_type": "display_data"
    }
   ],
   "source": [
    "# посмотрим на топ 10 городов\n",
    "for x in (df_train['City'].value_counts())[0:10].index:\n",
    "    df_train['Ranking'][df_train['City'] == x].hist(bins=100)\n",
    "plt.show()"
   ]
  },
  {
   "cell_type": "markdown",
   "metadata": {},
   "source": [
    "Получается, что Ranking имеет нормальное распределение, просто в больших городах больше ресторанов, из-за мы этого имеем смещение.\n",
    "\n",
    ">Подумайте как из этого можно сделать признак для вашей модели. Я покажу вам пример, как визуализация помогает находить взаимосвязи. А далее действуйте без подсказок =) \n"
   ]
  },
  {
   "cell_type": "markdown",
   "metadata": {},
   "source": [
    "### Посмотрим распределение целевой переменной"
   ]
  },
  {
   "cell_type": "code",
   "execution_count": 124,
   "metadata": {},
   "outputs": [
    {
     "data": {
      "text/plain": [
       "<matplotlib.axes._subplots.AxesSubplot at 0x7f7f4c723278>"
      ]
     },
     "execution_count": 124,
     "metadata": {},
     "output_type": "execute_result"
    },
    {
     "data": {
      "image/png": "[encoded data removed]",
      "text/plain": [
       "<Figure size 720x504 with 1 Axes>"
      ]
     },
     "metadata": {
      "needs_background": "light"
     },
     "output_type": "display_data"
    }
   ],
   "source": [
    "df_train['Rating'].value_counts(ascending=True).plot(kind='barh')"
   ]
  },
  {
   "cell_type": "markdown",
   "metadata": {},
   "source": [
    "### Посмотрим распределение целевой переменной относительно признака"
   ]
  },
  {
   "cell_type": "code",
   "execution_count": 125,
   "metadata": {},
   "outputs": [
    {
     "data": {
      "text/plain": [
       "<matplotlib.axes._subplots.AxesSubplot at 0x7f7f4c4fa550>"
      ]
     },
     "execution_count": 125,
     "metadata": {},
     "output_type": "execute_result"
    },
    {
     "data": {
      "image/png": "[encoded data removed]",
      "text/plain": [
       "<Figure size 720x504 with 1 Axes>"
      ]
     },
     "metadata": {
      "needs_background": "light"
     },
     "output_type": "display_data"
    }
   ],
   "source": [
    "df_train['Ranking'][df_train['Rating'] == 5].hist(bins=100)"
   ]
  },
  {
   "cell_type": "code",
   "execution_count": 126,
   "metadata": {},
   "outputs": [
    {
     "data": {
      "text/plain": [
       "<matplotlib.axes._subplots.AxesSubplot at 0x7f7f4c4992b0>"
      ]
     },
     "execution_count": 126,
     "metadata": {},
     "output_type": "execute_result"
    },
    {
     "data": {
      "image/png": "[encoded data removed]",
      "text/plain": [
       "<Figure size 720x504 with 1 Axes>"
      ]
     },
     "metadata": {
      "needs_background": "light"
     },
     "output_type": "display_data"
    }
   ],
   "source": [
    "df_train['Ranking'][df_train['Rating'] < 4].hist(bins=100)"
   ]
  },
  {
   "cell_type": "markdown",
   "metadata": {},
   "source": [
    "### И один из моих любимых - [корреляция признаков](https://ru.wikipedia.org/wiki/Корреляция)\n",
    "На этом графике уже сейчас вы сможете заметить, как признаки связаны между собой и с целевой переменной."
   ]
  },
  {
   "cell_type": "code",
   "execution_count": 127,
   "metadata": {},
   "outputs": [
    {
     "data": {
      "text/plain": [
       "<matplotlib.axes._subplots.AxesSubplot at 0x7f7f4c2a0390>"
      ]
     },
     "execution_count": 127,
     "metadata": {},
     "output_type": "execute_result"
    },
    {
     "data": {
      "image/png": "[encoded data removed]",
      "text/plain": [
       "<Figure size 1080x720 with 2 Axes>"
      ]
     },
     "metadata": {
      "needs_background": "light"
     },
     "output_type": "display_data"
    }
   ],
   "source": [
    "plt.rcParams['figure.figsize'] = (15,10)\n",
    "sns.heatmap(data.drop(['sample'], axis=1).corr(),)"
   ]
  },
  {
   "cell_type": "markdown",
   "metadata": {},
   "source": [
    "Вообще благодаря визуализации в этом датасете можно узнать много интересных фактов, например:\n",
    "* где больше Пицерий в Мадриде или Лондоне?\n",
    "* в каком городе кухня ресторанов более разнообразна?\n",
    "\n",
    "придумайте свои вопрос и найдите на него ответ в данных)"
   ]
  },
  {
   "cell_type": "markdown",
   "metadata": {},
   "source": [
    "# Data Preprocessing\n",
    "Теперь, для удобства и воспроизводимости кода, завернем всю обработку в одну большую функцию."
   ]
  },
  {
   "cell_type": "code",
   "execution_count": 128,
   "metadata": {},
   "outputs": [],
   "source": [
    "# # на всякий случай, заново подгружаем данные\n",
    "# df_train = pd.read_csv(DATA_DIR+'/main_task.csv')\n",
    "# df_test = pd.read_csv(DATA_DIR+'/kaggle_task.csv')\n",
    "# df_train['sample'] = 1 # помечаем где у нас трейн\n",
    "# df_test['sample'] = 0 # помечаем где у нас тест\n",
    "# df_test['rating'] = 0 # в тесте у нас нет значения Rating, мы его должны предсказать, по этому пока просто заполняем нулями\n",
    "\n",
    "# data = df_test.append(df_train, sort=False).reset_index(drop=True) # объединяем\n",
    "# data.info()"
   ]
  },
  {
   "cell_type": "code",
   "execution_count": 129,
   "metadata": {},
   "outputs": [],
   "source": [
    "# def preproc_data(df_input):\n",
    "#     '''includes several functions to pre-process the predictor data.'''\n",
    "    \n",
    "#     df_output = df_input.copy()\n",
    "    \n",
    "#     # ################### 1. Предобработка ############################################################## \n",
    "#     # убираем не нужные для модели признаки\n",
    "#     df_output.drop(['Restaurant_id','ID_TA',], axis = 1, inplace=True)\n",
    "    \n",
    "    \n",
    "#     # ################### 2. NAN ############################################################## \n",
    "#     # Далее заполняем пропуски, вы можете попробовать заполнением средним или средним по городу и тд...\n",
    "#     df_output['Number of Reviews'].fillna(0, inplace=True)\n",
    "#     # тут ваш код по обработке NAN\n",
    "#     # ....\n",
    "    \n",
    "    \n",
    "#     # ################### 3. Encoding ############################################################## \n",
    "#     # для One-Hot Encoding в pandas есть готовая функция - get_dummies. Особенно радует параметр dummy_na\n",
    "#     df_output = pd.get_dummies(df_output, columns=[ 'City',], dummy_na=True)\n",
    "#     # тут ваш код не Encoding фитчей\n",
    "#     # ....\n",
    "    \n",
    "    \n",
    "#     # ################### 4. Feature Engineering ####################################################\n",
    "#     # тут ваш код на генерацию новых фитчей\n",
    "#     # ....\n",
    "    \n",
    "    \n",
    "#     # ################### 5. Clean #################################################### \n",
    "#     # убираем признаки которые еще не успели обработать, \n",
    "#     # модель на признаках с dtypes \"object\" обучаться не будет, просто выберим их и удалим\n",
    "#     object_columns = [s for s in df_output.columns if df_output[s].dtypes == 'object']\n",
    "#     df_output.drop(object_columns, axis = 1, inplace=True)\n",
    "    \n",
    "#     return df_output"
   ]
  },
  {
   "cell_type": "markdown",
   "metadata": {},
   "source": [
    ">По хорошему, можно было бы перевести эту большую функцию в класс и разбить на подфункции (согласно ООП). "
   ]
  },
  {
   "cell_type": "markdown",
   "metadata": {},
   "source": [
    "#### Запускаем и проверяем что получилось"
   ]
  },
  {
   "cell_type": "code",
   "execution_count": 130,
   "metadata": {},
   "outputs": [],
   "source": [
    "# df_preproc = preproc_data(data)\n",
    "# df_preproc.sample(10)"
   ]
  },
  {
   "cell_type": "markdown",
   "metadata": {},
   "source": [
    "Анализ признаков:\n",
    "\n",
    "### В процессе выполнения задания были пройдены этапы:\n",
    "\n",
    "* признак 'Restaurant_id' коррелирует больше чем 0.8 с признаком 'Ranking' поэтому принял решение его удалить из модели\n",
    "\n",
    "* признак 'City' - на основе этого признака были создан признаки 'rest_per_city', потом был преобразован с помощью one hot encoding\n",
    "\n",
    "* признак 'Cuisine Style' - на основе этого признака был создан признак 'cuisine_style_NAN'(пометил таким образом пропуски) и 'num_cuisines' - количество кухонь в ресторане.\n",
    "\n",
    "* признак 'Ranking' - на основе этого признака был создан признак 'ranking_city' - отношение ранга ресторана к количеству ресторанов в городе ('rest_per_city')\n",
    "\n",
    "* признак 'Price Range' - пропуски этого признака выделил в отдельный признак \"price_range_NAN\", изменил значения признака на числовые используя Label Encoding.\n",
    " на основании этого призанка был создан признак 'purchasing_range'\n",
    " \n",
    "* признак 'Number of Reviews' - пропуски этого признака выделил в отдельный признак 'number_of_reviews_NAN'\n",
    "\n",
    "* признак 'Reviews' - пропуски этого признака выделил в отдельный признак 'review_NAN'\n",
    " на основе этого признака был создан признак 'date_review' - даты отзывов\n",
    "\n",
    "* признак URL_TA и ID_TA - преобразовал в числовые\n",
    "\n",
    "* На основе внешних данных были созданы 3 новых признака:\n",
    "\n",
    "- 'popul' - число жителей города(из википедии)\n",
    "- 'quality_index_city' - индекс качества жизни в городе (https://www.numbeo.com/quality-of-life/region_rankings.jsp?title=2018&region=150)\n",
    "- 'purchasing_power' - индекс покупательской способности в городе (https://www.numbeo.com/quality-of-life/region_rankings.jsp?title=2018&region=150)\n",
    "\n",
    "\n",
    "### В процессе выполнения задания были созданы новые признаки:\n",
    "\n",
    "* rest_per_city - количество ресторанов в городе\n",
    "* people_per_rest - количество человек на ресторан в городе\n",
    "* quality_index_city - индекс качества жизни города\n",
    "* quality_rest - отношение количества ресторанов в городе к индексу качества жизни города\n",
    "* cuisine_style_NAN - пропуски в признаке Cuisine Style\n",
    "* num_cuisines - количество кухонь в ресторане\n",
    "* ranking_city - отношение ранг ресторанов по городу к количеству ресторанов в городе\n",
    "* price_range_NAN - пропуски в признаке Price Range\n",
    "* between_rev - число дней между отзывами\n",
    "* till_now - число дней с последнего отзыва\n",
    "* popul - количество человек в городе\n",
    "* number_of_reviews_NAN - пропуски в признаке Number of Reviews\n",
    "* purchasing_power - индекс покупательской способности\n",
    "* purchasing_range - отношение индекса покупательской способности к ценовому диапазону ресторана\n",
    "* date_review - дата отзывов\n",
    "* review_NAN - пропуски в признаке Review\n",
    "\n",
    "### В ходе проведенных экспериментов сделаны выводы:\n",
    "\n",
    "#### Удалить признаки, увеличивающие MAE:\n",
    "\n",
    "* Restaurant_id - большая корреляция c Ranking, удаляем этот признак при обучении модели\n",
    "* popul - уменьшает МАЕ, но признак people_per_rest, выведеный с помощью признака popul - уменьшает МАЕ, поэтому этот признак все равно оказался полезен\n",
    "* number_of_reviews_NAN - удаляем этот признак при обучении модели\n",
    "* review_NAN - удаляем этот признак при обучении модели\n",
    "* Ranking - удаляем этот признак при обучении модели, но этот признак оказался полезен при создании новых признаков, так что говорим ему спасибо и машем рукой\n",
    "* purchasing_power - удаляем этот признак при обучении модели\n",
    "* purchasing_range - удаляем этот признак при обучении модели\n",
    "* Cuisine Style -  - удаляем этот признак при обучении модели, тк это категориальный признак\n",
    "* Reviews - удаляем этот признак при обучении модели, тк это категориальный признак\n",
    "* date_review - удаляем этот признак при обучении модели, тк это дата\n",
    "* price_range_NAN - удаляем этот признак при обучении модели, тк есть сильная корреляция с признаком Price Range (судя по тепловой карте) - эксперимент это подтвердил - удаление признака уменьшает MAE\n",
    "\n",
    "#### Оставить признаки, уменьшающие MAE:\n",
    "\n",
    "* rest_per_city\n",
    "* ranking_city\n",
    "* quality_index_city\n",
    "* quality_rest\n",
    "* price_range_NAN\n",
    "* cuisine_style_NAN\n",
    "* between_rev\n",
    "* till_now\n",
    "* people_per_rest\n",
    "* URL_TA\n",
    "* ID_TA\n"
   ]
  },
  {
   "cell_type": "code",
   "execution_count": 174,
   "metadata": {},
   "outputs": [],
   "source": [
    "df_preproc = data.drop(\n",
    "    ['Restaurant_id', 'Cuisine Style', 'Reviews', 'popul', 'number_of_reviews_NAN', 'Ranking', \n",
    "     'purchasing_power', 'purchasing_range', 'date_review', 'review_NAN', 'price_range_NAN'], axis=1)"
   ]
  },
  {
   "cell_type": "markdown",
   "metadata": {},
   "source": []
  },
  {
   "cell_type": "code",
   "execution_count": 175,
   "metadata": {},
   "outputs": [
    {
     "name": "stdout",
     "output_type": "stream",
     "text": [
      "<class 'pandas.core.frame.DataFrame'>\n",
      "RangeIndex: 50000 entries, 0 to 49999\n",
      "Data columns (total 46 columns):\n",
      "Price Range          50000 non-null float64\n",
      "Number of Reviews    50000 non-null float64\n",
      "URL_TA               50000 non-null float64\n",
      "ID_TA                50000 non-null int64\n",
      "sample               50000 non-null int64\n",
      "Rating               50000 non-null float64\n",
      "rest_per_city        50000 non-null int64\n",
      "people_per_rest      50000 non-null float64\n",
      "quality_rest         50000 non-null float64\n",
      "cuisine_style_NAN    50000 non-null uint8\n",
      "num_cuisines         50000 non-null int64\n",
      "ranking_city         50000 non-null float64\n",
      "between_rev          50000 non-null float64\n",
      "till_now             50000 non-null float64\n",
      "City_Amsterdam       50000 non-null uint8\n",
      "City_Athens          50000 non-null uint8\n",
      "City_Barcelona       50000 non-null uint8\n",
      "City_Berlin          50000 non-null uint8\n",
      "City_Bratislava      50000 non-null uint8\n",
      "City_Brussels        50000 non-null uint8\n",
      "City_Budapest        50000 non-null uint8\n",
      "City_Copenhagen      50000 non-null uint8\n",
      "City_Dublin          50000 non-null uint8\n",
      "City_Edinburgh       50000 non-null uint8\n",
      "City_Geneva          50000 non-null uint8\n",
      "City_Hamburg         50000 non-null uint8\n",
      "City_Helsinki        50000 non-null uint8\n",
      "City_Krakow          50000 non-null uint8\n",
      "City_Lisbon          50000 non-null uint8\n",
      "City_Ljubljana       50000 non-null uint8\n",
      "City_London          50000 non-null uint8\n",
      "City_Luxembourg      50000 non-null uint8\n",
      "City_Lyon            50000 non-null uint8\n",
      "City_Madrid          50000 non-null uint8\n",
      "City_Milan           50000 non-null uint8\n",
      "City_Munich          50000 non-null uint8\n",
      "City_Oporto          50000 non-null uint8\n",
      "City_Oslo            50000 non-null uint8\n",
      "City_Paris           50000 non-null uint8\n",
      "City_Prague          50000 non-null uint8\n",
      "City_Rome            50000 non-null uint8\n",
      "City_Stockholm       50000 non-null uint8\n",
      "City_Vienna          50000 non-null uint8\n",
      "City_Warsaw          50000 non-null uint8\n",
      "City_Zurich          50000 non-null uint8\n",
      "City_nan             50000 non-null uint8\n",
      "dtypes: float64(9), int64(4), uint8(33)\n",
      "memory usage: 6.5 MB\n"
     ]
    }
   ],
   "source": [
    "df_preproc.info()"
   ]
  },
  {
   "cell_type": "markdown",
   "metadata": {},
   "source": []
  },
  {
   "cell_type": "code",
   "execution_count": 176,
   "metadata": {},
   "outputs": [],
   "source": [
    "# Теперь выделим тестовую часть\n",
    "train_data = df_preproc.query('sample == 1').drop(['sample'], axis=1)\n",
    "test_data = df_preproc.query('sample == 0').drop(['sample'], axis=1)\n",
    "\n",
    "y = train_data.Rating.values            # наш таргет\n",
    "X = train_data.drop(['Rating'], axis=1)"
   ]
  },
  {
   "cell_type": "markdown",
   "metadata": {},
   "source": [
    "**Перед тем как отправлять наши данные на обучение, разделим данные на еще один тест и трейн, для валидации. \n",
    "Это поможет нам проверить, как хорошо наша модель работает, до отправки submissiona на kaggle.**"
   ]
  },
  {
   "cell_type": "code",
   "execution_count": 177,
   "metadata": {},
   "outputs": [],
   "source": [
    "# Воспользуемся специальной функцие train_test_split для разбивки тестовых данных\n",
    "# выделим 20% данных на валидацию (параметр test_size)\n",
    "X_train, X_test, y_train, y_test = train_test_split(X, y, test_size=0.2, random_state=RANDOM_SEED)"
   ]
  },
  {
   "cell_type": "code",
   "execution_count": 178,
   "metadata": {},
   "outputs": [
    {
     "data": {
      "text/plain": [
       "((10000, 45), (40000, 45), (40000, 44), (32000, 44), (8000, 44))"
      ]
     },
     "execution_count": 178,
     "metadata": {},
     "output_type": "execute_result"
    }
   ],
   "source": [
    "# проверяем\n",
    "test_data.shape, train_data.shape, X.shape, X_train.shape, X_test.shape"
   ]
  },
  {
   "cell_type": "markdown",
   "metadata": {},
   "source": [
    "# Model \n",
    "Сам ML"
   ]
  },
  {
   "cell_type": "code",
   "execution_count": 179,
   "metadata": {},
   "outputs": [],
   "source": [
    "# Импортируем необходимые библиотеки:\n",
    "from sklearn.ensemble import RandomForestRegressor # инструмент для создания и обучения модели\n",
    "from sklearn import metrics # инструменты для оценки точности модели"
   ]
  },
  {
   "cell_type": "code",
   "execution_count": 181,
   "metadata": {},
   "outputs": [],
   "source": [
    "# Создаём модель (НАСТРОЙКИ НЕ ТРОГАЕМ)\n",
    "model = RandomForestRegressor(n_estimators=100, verbose=1, n_jobs=-1, random_state=RANDOM_SEED)"
   ]
  },
  {
   "cell_type": "code",
   "execution_count": 182,
   "metadata": {},
   "outputs": [
    {
     "name": "stderr",
     "output_type": "stream",
     "text": [
      "[Parallel(n_jobs=-1)]: Using backend ThreadingBackend with 4 concurrent workers.\n",
      "[Parallel(n_jobs=-1)]: Done  42 tasks      | elapsed:    4.3s\n",
      "[Parallel(n_jobs=-1)]: Done 100 out of 100 | elapsed:   10.1s finished\n",
      "[Parallel(n_jobs=4)]: Using backend ThreadingBackend with 4 concurrent workers.\n",
      "[Parallel(n_jobs=4)]: Done  42 tasks      | elapsed:    0.0s\n",
      "[Parallel(n_jobs=4)]: Done 100 out of 100 | elapsed:    0.1s finished\n"
     ]
    }
   ],
   "source": [
    "# Обучаем модель на тестовом наборе данных\n",
    "model.fit(X_train, y_train)\n",
    "\n",
    "# Используем обученную модель для предсказания рейтинга ресторанов в тестовой выборке.\n",
    "# Предсказанные значения записываем в переменную y_pred\n",
    "y_pred = model.predict(X_test)"
   ]
  },
  {
   "cell_type": "code",
   "execution_count": 183,
   "metadata": {},
   "outputs": [
    {
     "name": "stdout",
     "output_type": "stream",
     "text": [
      "MAE: 0.19849562499999998\n"
     ]
    }
   ],
   "source": [
    "# Сравниваем предсказанные значения (y_pred) с реальными (y_test), и смотрим насколько они в среднем отличаются\n",
    "# Метрика называется Mean Absolute Error (MAE) и показывает среднее отклонение предсказанных значений от фактических.\n",
    "print('MAE:', metrics.mean_absolute_error(y_test, y_pred))"
   ]
  },
  {
   "cell_type": "markdown",
   "metadata": {},
   "source": [
    "# Тестирование\n",
    "* 0.21240125 в skillfactory\n",
    "* 0.21071687499999997 c rest_id\n",
    "* 0.21069187499999997 без rest_id, тк он сильно коррелирует с ranking\n",
    "* 0.21064999999999998 замена на ноль дает меньший mae чем замена на среднее\n",
    "* 0.208993125 ввел новый признак - количество ресторанов в городе 'rest_per_city'\n",
    "* 0.20789625 ввел новый признак - 'ranking_city' отношение ранга ресторана к количеству ресторанов в городе\n",
    "* 0.208174375 без 'rest_per_city' всетаки он улучшает mae\n",
    "* 0.2081875 признак 'popul' ухудшает mae\n",
    "* 0.20669374999999998 - ввел новый признак - индекс качества жизни в городе.\n",
    "* 0.206556875 - ввел новый признак - отношение количества ресторанов в городе к качеству жизни в городе\n",
    "* 0.20653249999999998 - без признака number_of_reviews_NAN mae уменьшается\n",
    "* 0.20652062499999999 - без признака review_NAN mae уменьшается\n",
    "* 0.206634375 - без признака price_range_NAN mae увеличивается\n",
    "* 0.206573125 - без признака cuisine_style_NAN mae увеличивается\n",
    "* 0.20650687499999998 - без признака ranking mae уменьшается\n",
    "* 0.206800625 - ввел новый признак - индекс покупательской способности purchasing_power в городе mae увеличивает\n",
    "* 0.20701874999999997 - ввел новый признак purchasing_range отношение покупат способности к ценовому диапазону mae увеличивает\n",
    "* 0.20430999999999996 - ввел новый признак between_rev количество дней между отзывами\n",
    "* 0.200336875 - ввел новый признак till_now кол дней с отзыва до сегодняшнего дня\n",
    "* 0.19965999999999998 - ввел новый признак people_per_rest отношение населения к колву ресторанов\n",
    "* 0.19952749999999997 - преобразовал признак 'URL_TA' в код города и добавил в обучение модели - улучшил MAE\n",
    "* 0.19680562499999998 - преобразовал признак 'ID_TA' в айди ресторана и добавил в обучение модели - улучшил MAE\n",
    "* 0.196693125 - price_range_NAN\n"
   ]
  },
  {
   "cell_type": "code",
   "execution_count": 140,
   "metadata": {},
   "outputs": [
    {
     "data": {
      "text/plain": [
       "<matplotlib.axes._subplots.AxesSubplot at 0x7f7f4d340e10>"
      ]
     },
     "execution_count": 140,
     "metadata": {},
     "output_type": "execute_result"
    },
    {
     "data": {
      "image/png": "[encoded data removed]",
      "text/plain": [
       "<Figure size 720x720 with 1 Axes>"
      ]
     },
     "metadata": {
      "needs_background": "light"
     },
     "output_type": "display_data"
    }
   ],
   "source": [
    "# в RandomForestRegressor есть возможность вывести самые важные признаки для модели\n",
    "plt.rcParams['figure.figsize'] = (10,10)\n",
    "feat_importances = pd.Series(model.feature_importances_, index=X.columns)\n",
    "feat_importances.nlargest(14).plot(kind='barh')"
   ]
  },
  {
   "cell_type": "markdown",
   "metadata": {},
   "source": [
    "# Submission\n",
    "Если все устраевает - готовим Submission на кагл"
   ]
  },
  {
   "cell_type": "code",
   "execution_count": 141,
   "metadata": {},
   "outputs": [
    {
     "data": {
      "text/html": [
       "<div>\n",
       "<style scoped>\n",
       "    .dataframe tbody tr th:only-of-type {\n",
       "        vertical-align: middle;\n",
       "    }\n",
       "\n",
       "    .dataframe tbody tr th {\n",
       "        vertical-align: top;\n",
       "    }\n",
       "\n",
       "    .dataframe thead th {\n",
       "        text-align: right;\n",
       "    }\n",
       "</style>\n",
       "<table border=\"1\" class=\"dataframe\">\n",
       "  <thead>\n",
       "    <tr style=\"text-align: right;\">\n",
       "      <th></th>\n",
       "      <th>Price Range</th>\n",
       "      <th>Number of Reviews</th>\n",
       "      <th>URL_TA</th>\n",
       "      <th>ID_TA</th>\n",
       "      <th>Rating</th>\n",
       "      <th>rest_per_city</th>\n",
       "      <th>people_per_rest</th>\n",
       "      <th>quality_index_city</th>\n",
       "      <th>quality_rest</th>\n",
       "      <th>cuisine_style_NAN</th>\n",
       "      <th>...</th>\n",
       "      <th>City_Oporto</th>\n",
       "      <th>City_Oslo</th>\n",
       "      <th>City_Paris</th>\n",
       "      <th>City_Prague</th>\n",
       "      <th>City_Rome</th>\n",
       "      <th>City_Stockholm</th>\n",
       "      <th>City_Vienna</th>\n",
       "      <th>City_Warsaw</th>\n",
       "      <th>City_Zurich</th>\n",
       "      <th>City_nan</th>\n",
       "    </tr>\n",
       "  </thead>\n",
       "  <tbody>\n",
       "    <tr>\n",
       "      <th>9989</th>\n",
       "      <td>0.0</td>\n",
       "      <td>2.0</td>\n",
       "      <td>187147.0</td>\n",
       "      <td>12280276</td>\n",
       "      <td>0.0</td>\n",
       "      <td>6108</td>\n",
       "      <td>351.714309</td>\n",
       "      <td>128.54</td>\n",
       "      <td>47.518282</td>\n",
       "      <td>0</td>\n",
       "      <td>...</td>\n",
       "      <td>0</td>\n",
       "      <td>0</td>\n",
       "      <td>1</td>\n",
       "      <td>0</td>\n",
       "      <td>0</td>\n",
       "      <td>0</td>\n",
       "      <td>0</td>\n",
       "      <td>0</td>\n",
       "      <td>0</td>\n",
       "      <td>0</td>\n",
       "    </tr>\n",
       "    <tr>\n",
       "      <th>2359</th>\n",
       "      <td>2.0</td>\n",
       "      <td>42.0</td>\n",
       "      <td>187147.0</td>\n",
       "      <td>3727273</td>\n",
       "      <td>0.0</td>\n",
       "      <td>6108</td>\n",
       "      <td>351.714309</td>\n",
       "      <td>128.54</td>\n",
       "      <td>47.518282</td>\n",
       "      <td>0</td>\n",
       "      <td>...</td>\n",
       "      <td>0</td>\n",
       "      <td>0</td>\n",
       "      <td>1</td>\n",
       "      <td>0</td>\n",
       "      <td>0</td>\n",
       "      <td>0</td>\n",
       "      <td>0</td>\n",
       "      <td>0</td>\n",
       "      <td>0</td>\n",
       "      <td>0</td>\n",
       "    </tr>\n",
       "    <tr>\n",
       "      <th>9579</th>\n",
       "      <td>2.0</td>\n",
       "      <td>34.0</td>\n",
       "      <td>274707.0</td>\n",
       "      <td>5414953</td>\n",
       "      <td>0.0</td>\n",
       "      <td>1816</td>\n",
       "      <td>729.227423</td>\n",
       "      <td>160.31</td>\n",
       "      <td>11.328052</td>\n",
       "      <td>0</td>\n",
       "      <td>...</td>\n",
       "      <td>0</td>\n",
       "      <td>0</td>\n",
       "      <td>0</td>\n",
       "      <td>1</td>\n",
       "      <td>0</td>\n",
       "      <td>0</td>\n",
       "      <td>0</td>\n",
       "      <td>0</td>\n",
       "      <td>0</td>\n",
       "      <td>0</td>\n",
       "    </tr>\n",
       "    <tr>\n",
       "      <th>7781</th>\n",
       "      <td>0.0</td>\n",
       "      <td>5.0</td>\n",
       "      <td>187323.0</td>\n",
       "      <td>1037131</td>\n",
       "      <td>0.0</td>\n",
       "      <td>2705</td>\n",
       "      <td>1393.528651</td>\n",
       "      <td>172.32</td>\n",
       "      <td>15.697539</td>\n",
       "      <td>1</td>\n",
       "      <td>...</td>\n",
       "      <td>0</td>\n",
       "      <td>0</td>\n",
       "      <td>0</td>\n",
       "      <td>0</td>\n",
       "      <td>0</td>\n",
       "      <td>0</td>\n",
       "      <td>0</td>\n",
       "      <td>0</td>\n",
       "      <td>0</td>\n",
       "      <td>0</td>\n",
       "    </tr>\n",
       "    <tr>\n",
       "      <th>604</th>\n",
       "      <td>2.0</td>\n",
       "      <td>478.0</td>\n",
       "      <td>188113.0</td>\n",
       "      <td>4363779</td>\n",
       "      <td>0.0</td>\n",
       "      <td>685</td>\n",
       "      <td>606.153285</td>\n",
       "      <td>202.37</td>\n",
       "      <td>3.384889</td>\n",
       "      <td>0</td>\n",
       "      <td>...</td>\n",
       "      <td>0</td>\n",
       "      <td>0</td>\n",
       "      <td>0</td>\n",
       "      <td>0</td>\n",
       "      <td>0</td>\n",
       "      <td>0</td>\n",
       "      <td>0</td>\n",
       "      <td>0</td>\n",
       "      <td>1</td>\n",
       "      <td>0</td>\n",
       "    </tr>\n",
       "    <tr>\n",
       "      <th>3162</th>\n",
       "      <td>3.0</td>\n",
       "      <td>14.0</td>\n",
       "      <td>189934.0</td>\n",
       "      <td>6223052</td>\n",
       "      <td>0.0</td>\n",
       "      <td>475</td>\n",
       "      <td>1381.534737</td>\n",
       "      <td>186.75</td>\n",
       "      <td>2.543507</td>\n",
       "      <td>0</td>\n",
       "      <td>...</td>\n",
       "      <td>0</td>\n",
       "      <td>0</td>\n",
       "      <td>0</td>\n",
       "      <td>0</td>\n",
       "      <td>0</td>\n",
       "      <td>0</td>\n",
       "      <td>0</td>\n",
       "      <td>0</td>\n",
       "      <td>0</td>\n",
       "      <td>0</td>\n",
       "    </tr>\n",
       "    <tr>\n",
       "      <th>3666</th>\n",
       "      <td>0.0</td>\n",
       "      <td>5.0</td>\n",
       "      <td>186338.0</td>\n",
       "      <td>8730782</td>\n",
       "      <td>0.0</td>\n",
       "      <td>7193</td>\n",
       "      <td>1238.576533</td>\n",
       "      <td>124.80</td>\n",
       "      <td>57.636218</td>\n",
       "      <td>1</td>\n",
       "      <td>...</td>\n",
       "      <td>0</td>\n",
       "      <td>0</td>\n",
       "      <td>0</td>\n",
       "      <td>0</td>\n",
       "      <td>0</td>\n",
       "      <td>0</td>\n",
       "      <td>0</td>\n",
       "      <td>0</td>\n",
       "      <td>0</td>\n",
       "      <td>0</td>\n",
       "    </tr>\n",
       "    <tr>\n",
       "      <th>2218</th>\n",
       "      <td>1.0</td>\n",
       "      <td>27.0</td>\n",
       "      <td>187791.0</td>\n",
       "      <td>6196829</td>\n",
       "      <td>0.0</td>\n",
       "      <td>2589</td>\n",
       "      <td>1104.677095</td>\n",
       "      <td>109.84</td>\n",
       "      <td>23.570648</td>\n",
       "      <td>0</td>\n",
       "      <td>...</td>\n",
       "      <td>0</td>\n",
       "      <td>0</td>\n",
       "      <td>0</td>\n",
       "      <td>0</td>\n",
       "      <td>1</td>\n",
       "      <td>0</td>\n",
       "      <td>0</td>\n",
       "      <td>0</td>\n",
       "      <td>0</td>\n",
       "      <td>0</td>\n",
       "    </tr>\n",
       "    <tr>\n",
       "      <th>3152</th>\n",
       "      <td>2.0</td>\n",
       "      <td>41.0</td>\n",
       "      <td>187849.0</td>\n",
       "      <td>11856095</td>\n",
       "      <td>0.0</td>\n",
       "      <td>2694</td>\n",
       "      <td>519.621381</td>\n",
       "      <td>126.10</td>\n",
       "      <td>21.363997</td>\n",
       "      <td>0</td>\n",
       "      <td>...</td>\n",
       "      <td>0</td>\n",
       "      <td>0</td>\n",
       "      <td>0</td>\n",
       "      <td>0</td>\n",
       "      <td>0</td>\n",
       "      <td>0</td>\n",
       "      <td>0</td>\n",
       "      <td>0</td>\n",
       "      <td>0</td>\n",
       "      <td>0</td>\n",
       "    </tr>\n",
       "    <tr>\n",
       "      <th>8120</th>\n",
       "      <td>0.0</td>\n",
       "      <td>17.0</td>\n",
       "      <td>187791.0</td>\n",
       "      <td>8111216</td>\n",
       "      <td>0.0</td>\n",
       "      <td>2589</td>\n",
       "      <td>1104.677095</td>\n",
       "      <td>109.84</td>\n",
       "      <td>23.570648</td>\n",
       "      <td>1</td>\n",
       "      <td>...</td>\n",
       "      <td>0</td>\n",
       "      <td>0</td>\n",
       "      <td>0</td>\n",
       "      <td>0</td>\n",
       "      <td>1</td>\n",
       "      <td>0</td>\n",
       "      <td>0</td>\n",
       "      <td>0</td>\n",
       "      <td>0</td>\n",
       "      <td>0</td>\n",
       "    </tr>\n",
       "  </tbody>\n",
       "</table>\n",
       "<p>10 rows × 47 columns</p>\n",
       "</div>"
      ],
      "text/plain": [
       "      Price Range  Number of Reviews    URL_TA     ID_TA  Rating  \\\n",
       "9989          0.0                2.0  187147.0  12280276     0.0   \n",
       "2359          2.0               42.0  187147.0   3727273     0.0   \n",
       "9579          2.0               34.0  274707.0   5414953     0.0   \n",
       "7781          0.0                5.0  187323.0   1037131     0.0   \n",
       "604           2.0              478.0  188113.0   4363779     0.0   \n",
       "3162          3.0               14.0  189934.0   6223052     0.0   \n",
       "3666          0.0                5.0  186338.0   8730782     0.0   \n",
       "2218          1.0               27.0  187791.0   6196829     0.0   \n",
       "3152          2.0               41.0  187849.0  11856095     0.0   \n",
       "8120          0.0               17.0  187791.0   8111216     0.0   \n",
       "\n",
       "      rest_per_city  people_per_rest  quality_index_city  quality_rest  \\\n",
       "9989           6108       351.714309              128.54     47.518282   \n",
       "2359           6108       351.714309              128.54     47.518282   \n",
       "9579           1816       729.227423              160.31     11.328052   \n",
       "7781           2705      1393.528651              172.32     15.697539   \n",
       "604             685       606.153285              202.37      3.384889   \n",
       "3162            475      1381.534737              186.75      2.543507   \n",
       "3666           7193      1238.576533              124.80     57.636218   \n",
       "2218           2589      1104.677095              109.84     23.570648   \n",
       "3152           2694       519.621381              126.10     21.363997   \n",
       "8120           2589      1104.677095              109.84     23.570648   \n",
       "\n",
       "      cuisine_style_NAN  ...  City_Oporto  City_Oslo  City_Paris  City_Prague  \\\n",
       "9989                  0  ...            0          0           1            0   \n",
       "2359                  0  ...            0          0           1            0   \n",
       "9579                  0  ...            0          0           0            1   \n",
       "7781                  1  ...            0          0           0            0   \n",
       "604                   0  ...            0          0           0            0   \n",
       "3162                  0  ...            0          0           0            0   \n",
       "3666                  1  ...            0          0           0            0   \n",
       "2218                  0  ...            0          0           0            0   \n",
       "3152                  0  ...            0          0           0            0   \n",
       "8120                  1  ...            0          0           0            0   \n",
       "\n",
       "      City_Rome  City_Stockholm  City_Vienna  City_Warsaw  City_Zurich  \\\n",
       "9989          0               0            0            0            0   \n",
       "2359          0               0            0            0            0   \n",
       "9579          0               0            0            0            0   \n",
       "7781          0               0            0            0            0   \n",
       "604           0               0            0            0            1   \n",
       "3162          0               0            0            0            0   \n",
       "3666          0               0            0            0            0   \n",
       "2218          1               0            0            0            0   \n",
       "3152          0               0            0            0            0   \n",
       "8120          1               0            0            0            0   \n",
       "\n",
       "      City_nan  \n",
       "9989         0  \n",
       "2359         0  \n",
       "9579         0  \n",
       "7781         0  \n",
       "604          0  \n",
       "3162         0  \n",
       "3666         0  \n",
       "2218         0  \n",
       "3152         0  \n",
       "8120         0  \n",
       "\n",
       "[10 rows x 47 columns]"
      ]
     },
     "execution_count": 141,
     "metadata": {},
     "output_type": "execute_result"
    }
   ],
   "source": [
    "test_data.sample(10)"
   ]
  },
  {
   "cell_type": "code",
   "execution_count": 142,
   "metadata": {},
   "outputs": [],
   "source": [
    "test_data = test_data.drop(['Rating'], axis=1)"
   ]
  },
  {
   "cell_type": "code",
   "execution_count": 143,
   "metadata": {},
   "outputs": [
    {
     "data": {
      "text/html": [
       "<div>\n",
       "<style scoped>\n",
       "    .dataframe tbody tr th:only-of-type {\n",
       "        vertical-align: middle;\n",
       "    }\n",
       "\n",
       "    .dataframe tbody tr th {\n",
       "        vertical-align: top;\n",
       "    }\n",
       "\n",
       "    .dataframe thead th {\n",
       "        text-align: right;\n",
       "    }\n",
       "</style>\n",
       "<table border=\"1\" class=\"dataframe\">\n",
       "  <thead>\n",
       "    <tr style=\"text-align: right;\">\n",
       "      <th></th>\n",
       "      <th>Restaurant_id</th>\n",
       "      <th>Rating</th>\n",
       "    </tr>\n",
       "  </thead>\n",
       "  <tbody>\n",
       "    <tr>\n",
       "      <th>0</th>\n",
       "      <td>id_0</td>\n",
       "      <td>2.0</td>\n",
       "    </tr>\n",
       "    <tr>\n",
       "      <th>1</th>\n",
       "      <td>id_1</td>\n",
       "      <td>2.5</td>\n",
       "    </tr>\n",
       "    <tr>\n",
       "      <th>2</th>\n",
       "      <td>id_2</td>\n",
       "      <td>4.0</td>\n",
       "    </tr>\n",
       "    <tr>\n",
       "      <th>3</th>\n",
       "      <td>id_3</td>\n",
       "      <td>1.0</td>\n",
       "    </tr>\n",
       "    <tr>\n",
       "      <th>4</th>\n",
       "      <td>id_4</td>\n",
       "      <td>4.0</td>\n",
       "    </tr>\n",
       "    <tr>\n",
       "      <th>...</th>\n",
       "      <td>...</td>\n",
       "      <td>...</td>\n",
       "    </tr>\n",
       "    <tr>\n",
       "      <th>9995</th>\n",
       "      <td>id_9995</td>\n",
       "      <td>3.0</td>\n",
       "    </tr>\n",
       "    <tr>\n",
       "      <th>9996</th>\n",
       "      <td>id_9996</td>\n",
       "      <td>1.5</td>\n",
       "    </tr>\n",
       "    <tr>\n",
       "      <th>9997</th>\n",
       "      <td>id_9997</td>\n",
       "      <td>4.5</td>\n",
       "    </tr>\n",
       "    <tr>\n",
       "      <th>9998</th>\n",
       "      <td>id_9998</td>\n",
       "      <td>1.0</td>\n",
       "    </tr>\n",
       "    <tr>\n",
       "      <th>9999</th>\n",
       "      <td>id_9999</td>\n",
       "      <td>2.5</td>\n",
       "    </tr>\n",
       "  </tbody>\n",
       "</table>\n",
       "<p>10000 rows × 2 columns</p>\n",
       "</div>"
      ],
      "text/plain": [
       "     Restaurant_id  Rating\n",
       "0             id_0     2.0\n",
       "1             id_1     2.5\n",
       "2             id_2     4.0\n",
       "3             id_3     1.0\n",
       "4             id_4     4.0\n",
       "...            ...     ...\n",
       "9995       id_9995     3.0\n",
       "9996       id_9996     1.5\n",
       "9997       id_9997     4.5\n",
       "9998       id_9998     1.0\n",
       "9999       id_9999     2.5\n",
       "\n",
       "[10000 rows x 2 columns]"
      ]
     },
     "execution_count": 143,
     "metadata": {},
     "output_type": "execute_result"
    }
   ],
   "source": [
    "sample_submission"
   ]
  },
  {
   "cell_type": "code",
   "execution_count": 144,
   "metadata": {},
   "outputs": [
    {
     "name": "stderr",
     "output_type": "stream",
     "text": [
      "[Parallel(n_jobs=4)]: Using backend ThreadingBackend with 4 concurrent workers.\n",
      "[Parallel(n_jobs=4)]: Done  42 tasks      | elapsed:    0.0s\n",
      "[Parallel(n_jobs=4)]: Done 100 out of 100 | elapsed:    0.1s finished\n"
     ]
    }
   ],
   "source": [
    "predict_submission = model.predict(test_data)"
   ]
  },
  {
   "cell_type": "code",
   "execution_count": 145,
   "metadata": {},
   "outputs": [
    {
     "data": {
      "text/plain": [
       "array([3.12 , 4.18 , 4.21 , ..., 3.015, 4.495, 4.26 ])"
      ]
     },
     "execution_count": 145,
     "metadata": {},
     "output_type": "execute_result"
    }
   ],
   "source": [
    "predict_submission"
   ]
  },
  {
   "cell_type": "code",
   "execution_count": 146,
   "metadata": {},
   "outputs": [
    {
     "data": {
      "text/html": [
       "<div>\n",
       "<style scoped>\n",
       "    .dataframe tbody tr th:only-of-type {\n",
       "        vertical-align: middle;\n",
       "    }\n",
       "\n",
       "    .dataframe tbody tr th {\n",
       "        vertical-align: top;\n",
       "    }\n",
       "\n",
       "    .dataframe thead th {\n",
       "        text-align: right;\n",
       "    }\n",
       "</style>\n",
       "<table border=\"1\" class=\"dataframe\">\n",
       "  <thead>\n",
       "    <tr style=\"text-align: right;\">\n",
       "      <th></th>\n",
       "      <th>Restaurant_id</th>\n",
       "      <th>Rating</th>\n",
       "    </tr>\n",
       "  </thead>\n",
       "  <tbody>\n",
       "    <tr>\n",
       "      <th>0</th>\n",
       "      <td>id_0</td>\n",
       "      <td>3.120</td>\n",
       "    </tr>\n",
       "    <tr>\n",
       "      <th>1</th>\n",
       "      <td>id_1</td>\n",
       "      <td>4.180</td>\n",
       "    </tr>\n",
       "    <tr>\n",
       "      <th>2</th>\n",
       "      <td>id_2</td>\n",
       "      <td>4.210</td>\n",
       "    </tr>\n",
       "    <tr>\n",
       "      <th>3</th>\n",
       "      <td>id_3</td>\n",
       "      <td>4.375</td>\n",
       "    </tr>\n",
       "    <tr>\n",
       "      <th>4</th>\n",
       "      <td>id_4</td>\n",
       "      <td>4.435</td>\n",
       "    </tr>\n",
       "    <tr>\n",
       "      <th>5</th>\n",
       "      <td>id_5</td>\n",
       "      <td>4.425</td>\n",
       "    </tr>\n",
       "    <tr>\n",
       "      <th>6</th>\n",
       "      <td>id_6</td>\n",
       "      <td>2.525</td>\n",
       "    </tr>\n",
       "    <tr>\n",
       "      <th>7</th>\n",
       "      <td>id_7</td>\n",
       "      <td>2.340</td>\n",
       "    </tr>\n",
       "    <tr>\n",
       "      <th>8</th>\n",
       "      <td>id_8</td>\n",
       "      <td>4.090</td>\n",
       "    </tr>\n",
       "    <tr>\n",
       "      <th>9</th>\n",
       "      <td>id_9</td>\n",
       "      <td>4.505</td>\n",
       "    </tr>\n",
       "  </tbody>\n",
       "</table>\n",
       "</div>"
      ],
      "text/plain": [
       "  Restaurant_id  Rating\n",
       "0          id_0   3.120\n",
       "1          id_1   4.180\n",
       "2          id_2   4.210\n",
       "3          id_3   4.375\n",
       "4          id_4   4.435\n",
       "5          id_5   4.425\n",
       "6          id_6   2.525\n",
       "7          id_7   2.340\n",
       "8          id_8   4.090\n",
       "9          id_9   4.505"
      ]
     },
     "execution_count": 146,
     "metadata": {},
     "output_type": "execute_result"
    }
   ],
   "source": [
    "sample_submission['Rating'] = predict_submission\n",
    "sample_submission.to_csv('submission.csv', index=False)\n",
    "sample_submission.head(10)"
   ]
  },
  {
   "cell_type": "markdown",
   "metadata": {},
   "source": [
    "# What's next?\n",
    "Или что делать, чтоб улучшить результат:\n",
    "* Обработать оставшиеся признаки в понятный для машины формат\n",
    "* Посмотреть, что еще можно извлечь из признаков\n",
    "* Сгенерировать новые признаки\n",
    "* Подгрузить дополнительные данные, например: по населению или благосостоянию городов\n",
    "* Подобрать состав признаков\n",
    "\n",
    "В общем, процесс творческий и весьма увлекательный! Удачи в соревновании!\n"
   ]
  },
  {
   "cell_type": "code",
   "execution_count": null,
   "metadata": {},
   "outputs": [],
   "source": [
    "# Final"
   ]
  }
 ],
 "metadata": {
  "kernelspec": {
   "display_name": "Python 3",
   "language": "python",
   "name": "python3"
  },
  "language_info": {
   "codemirror_mode": {
    "name": "ipython",
    "version": 3
   },
   "file_extension": ".py",
   "mimetype": "text/x-python",
   "name": "python",
   "nbconvert_exporter": "python",
   "pygments_lexer": "ipython3",
   "version": "3.8.3"
  }
 },
 "nbformat": 4,
 "nbformat_minor": 4
}
